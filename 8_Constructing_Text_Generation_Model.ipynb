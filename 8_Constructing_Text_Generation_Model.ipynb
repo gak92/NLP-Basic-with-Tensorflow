{
  "nbformat": 4,
  "nbformat_minor": 0,
  "metadata": {
    "colab": {
      "name": "8_Constructing_Text_Generation_Model.ipynb",
      "provenance": [],
      "collapsed_sections": []
    },
    "kernelspec": {
      "name": "python3",
      "display_name": "Python 3"
    },
    "language_info": {
      "name": "python"
    }
  },
  "cells": [
    {
      "cell_type": "markdown",
      "metadata": {
        "id": "FoLfZfQeib4r"
      },
      "source": [
        "# Importing Libraries"
      ]
    },
    {
      "cell_type": "code",
      "metadata": {
        "id": "FvVn-NQWgP4n"
      },
      "source": [
        "import tensorflow as tf\n",
        "import numpy as np\n",
        "import pandas as pd\n",
        "import matplotlib.pyplot as plt\n",
        "import tensorflow_datasets as tfds\n",
        "import io\n",
        "import string\n",
        "\n",
        "from tensorflow.keras.preprocessing.sequence import pad_sequences\n",
        "from tensorflow.keras.preprocessing.text import Tokenizer"
      ],
      "execution_count": 1,
      "outputs": []
    },
    {
      "cell_type": "markdown",
      "metadata": {
        "id": "PV2XnVSwigIs"
      },
      "source": [
        "# Download Dataset"
      ]
    },
    {
      "cell_type": "markdown",
      "metadata": {
        "id": "8mXw9zmNii3p"
      },
      "source": [
        "* https://drive.google.com/uc?id=1LiJFZd41ofrWoBtW-pMYsfz1w8Ny0Bj8"
      ]
    },
    {
      "cell_type": "code",
      "metadata": {
        "colab": {
          "base_uri": "https://localhost:8080/"
        },
        "id": "AVpVVVEKih4j",
        "outputId": "ba4b322d-755b-47b1-e043-076facf2e2b5"
      },
      "source": [
        "URL = 'https://drive.google.com/uc?id=1LiJFZd41ofrWoBtW-pMYsfz1w8Ny0Bj8'\n",
        "file_path = tf.keras.utils.get_file('song_data.csv', URL)\n",
        "print(file_path)"
      ],
      "execution_count": 2,
      "outputs": [
        {
          "output_type": "stream",
          "name": "stdout",
          "text": [
            "Downloading data from https://drive.google.com/uc?id=1LiJFZd41ofrWoBtW-pMYsfz1w8Ny0Bj8\n",
            "66928640/Unknown - 1s 0us/step/root/.keras/datasets/song_data.csv\n"
          ]
        }
      ]
    },
    {
      "cell_type": "code",
      "metadata": {
        "colab": {
          "base_uri": "https://localhost:8080/",
          "height": 359
        },
        "id": "sqiolqO6ih6x",
        "outputId": "d4be2175-6db6-49ec-d9fc-442871c32040"
      },
      "source": [
        "dataset = pd.read_csv(file_path, dtype=str)[:10]\n",
        "dataset"
      ],
      "execution_count": 3,
      "outputs": [
        {
          "output_type": "execute_result",
          "data": {
            "text/html": [
              "<div>\n",
              "<style scoped>\n",
              "    .dataframe tbody tr th:only-of-type {\n",
              "        vertical-align: middle;\n",
              "    }\n",
              "\n",
              "    .dataframe tbody tr th {\n",
              "        vertical-align: top;\n",
              "    }\n",
              "\n",
              "    .dataframe thead th {\n",
              "        text-align: right;\n",
              "    }\n",
              "</style>\n",
              "<table border=\"1\" class=\"dataframe\">\n",
              "  <thead>\n",
              "    <tr style=\"text-align: right;\">\n",
              "      <th></th>\n",
              "      <th>artist</th>\n",
              "      <th>song</th>\n",
              "      <th>link</th>\n",
              "      <th>text</th>\n",
              "    </tr>\n",
              "  </thead>\n",
              "  <tbody>\n",
              "    <tr>\n",
              "      <th>0</th>\n",
              "      <td>ABBA</td>\n",
              "      <td>Ahe's My Kind Of Girl</td>\n",
              "      <td>/a/abba/ahes+my+kind+of+girl_20598417.html</td>\n",
              "      <td>Look at her face, it's a wonderful face  \\nAnd...</td>\n",
              "    </tr>\n",
              "    <tr>\n",
              "      <th>1</th>\n",
              "      <td>ABBA</td>\n",
              "      <td>Andante, Andante</td>\n",
              "      <td>/a/abba/andante+andante_20002708.html</td>\n",
              "      <td>Take it easy with me, please  \\nTouch me gentl...</td>\n",
              "    </tr>\n",
              "    <tr>\n",
              "      <th>2</th>\n",
              "      <td>ABBA</td>\n",
              "      <td>As Good As New</td>\n",
              "      <td>/a/abba/as+good+as+new_20003033.html</td>\n",
              "      <td>I'll never know why I had to go  \\nWhy I had t...</td>\n",
              "    </tr>\n",
              "    <tr>\n",
              "      <th>3</th>\n",
              "      <td>ABBA</td>\n",
              "      <td>Bang</td>\n",
              "      <td>/a/abba/bang_20598415.html</td>\n",
              "      <td>Making somebody happy is a question of give an...</td>\n",
              "    </tr>\n",
              "    <tr>\n",
              "      <th>4</th>\n",
              "      <td>ABBA</td>\n",
              "      <td>Bang-A-Boomerang</td>\n",
              "      <td>/a/abba/bang+a+boomerang_20002668.html</td>\n",
              "      <td>Making somebody happy is a question of give an...</td>\n",
              "    </tr>\n",
              "    <tr>\n",
              "      <th>5</th>\n",
              "      <td>ABBA</td>\n",
              "      <td>Burning My Bridges</td>\n",
              "      <td>/a/abba/burning+my+bridges_20003011.html</td>\n",
              "      <td>Well, you hoot and you holler and you make me ...</td>\n",
              "    </tr>\n",
              "    <tr>\n",
              "      <th>6</th>\n",
              "      <td>ABBA</td>\n",
              "      <td>Cassandra</td>\n",
              "      <td>/a/abba/cassandra_20002811.html</td>\n",
              "      <td>Down in the street they're all singing and sho...</td>\n",
              "    </tr>\n",
              "    <tr>\n",
              "      <th>7</th>\n",
              "      <td>ABBA</td>\n",
              "      <td>Chiquitita</td>\n",
              "      <td>/a/abba/chiquitita_20002978.html</td>\n",
              "      <td>Chiquitita, tell me what's wrong  \\nYou're enc...</td>\n",
              "    </tr>\n",
              "    <tr>\n",
              "      <th>8</th>\n",
              "      <td>ABBA</td>\n",
              "      <td>Crazy World</td>\n",
              "      <td>/a/abba/crazy+world_20003013.html</td>\n",
              "      <td>I was out with the morning sun  \\nCouldn't sle...</td>\n",
              "    </tr>\n",
              "    <tr>\n",
              "      <th>9</th>\n",
              "      <td>ABBA</td>\n",
              "      <td>Crying Over You</td>\n",
              "      <td>/a/abba/crying+over+you_20177611.html</td>\n",
              "      <td>I'm waitin' for you baby  \\nI'm sitting all al...</td>\n",
              "    </tr>\n",
              "  </tbody>\n",
              "</table>\n",
              "</div>"
            ],
            "text/plain": [
              "  artist  ...                                               text\n",
              "0   ABBA  ...  Look at her face, it's a wonderful face  \\nAnd...\n",
              "1   ABBA  ...  Take it easy with me, please  \\nTouch me gentl...\n",
              "2   ABBA  ...  I'll never know why I had to go  \\nWhy I had t...\n",
              "3   ABBA  ...  Making somebody happy is a question of give an...\n",
              "4   ABBA  ...  Making somebody happy is a question of give an...\n",
              "5   ABBA  ...  Well, you hoot and you holler and you make me ...\n",
              "6   ABBA  ...  Down in the street they're all singing and sho...\n",
              "7   ABBA  ...  Chiquitita, tell me what's wrong  \\nYou're enc...\n",
              "8   ABBA  ...  I was out with the morning sun  \\nCouldn't sle...\n",
              "9   ABBA  ...  I'm waitin' for you baby  \\nI'm sitting all al...\n",
              "\n",
              "[10 rows x 4 columns]"
            ]
          },
          "metadata": {},
          "execution_count": 3
        }
      ]
    },
    {
      "cell_type": "markdown",
      "metadata": {
        "id": "-wzjftaMF0X5"
      },
      "source": [
        "# Preprocess Dataset"
      ]
    },
    {
      "cell_type": "code",
      "metadata": {
        "id": "utD5kgGNih9k"
      },
      "source": [
        "def create_lyrics_corpus(dataset, field):\n",
        "  dataset[field] = dataset[field].str.replace('[{}]'.format(string.punctuation), '')\n",
        "  dataset[field] = dataset[field].str.lower()\n",
        "\n",
        "  lyrics = dataset[field].str.cat()\n",
        "  corpus = lyrics.split('\\n')\n",
        "\n",
        "  for l in range(len(corpus)):\n",
        "    corpus[l] = corpus[l].rstrip()\n",
        "  corpus = [l for l in corpus if l != '']\n",
        "\n",
        "  return corpus"
      ],
      "execution_count": 8,
      "outputs": []
    },
    {
      "cell_type": "code",
      "metadata": {
        "id": "pJit2yrCEXn5"
      },
      "source": [
        "def tokenize_corpus(corpus, num_words=-1):\n",
        "  if num_words > -1:\n",
        "    tokenizer = Tokenizer(num_words=num_words)\n",
        "  else:\n",
        "    tokenizer = Tokenizer()\n",
        "\n",
        "  tokenizer.fit_on_texts(corpus)\n",
        "  return tokenizer"
      ],
      "execution_count": 9,
      "outputs": []
    },
    {
      "cell_type": "code",
      "metadata": {
        "id": "ORQs6NQOih_6"
      },
      "source": [
        "# Create the corpus using the text 'column'\n",
        "corpus = create_lyrics_corpus(dataset, 'text')"
      ],
      "execution_count": 10,
      "outputs": []
    },
    {
      "cell_type": "code",
      "metadata": {
        "colab": {
          "base_uri": "https://localhost:8080/"
        },
        "id": "3NjqqgJ1FHpU",
        "outputId": "653ff67f-60b8-43f5-fd58-a6aee6bd818a"
      },
      "source": [
        "len(corpus), type(corpus)"
      ],
      "execution_count": 12,
      "outputs": [
        {
          "output_type": "execute_result",
          "data": {
            "text/plain": [
              "(341, list)"
            ]
          },
          "metadata": {},
          "execution_count": 12
        }
      ]
    },
    {
      "cell_type": "code",
      "metadata": {
        "id": "Qs4-11Q5iiCi"
      },
      "source": [
        "# Tokenize the corpus\n",
        "tokenizer = tokenize_corpus(corpus)"
      ],
      "execution_count": 11,
      "outputs": []
    },
    {
      "cell_type": "code",
      "metadata": {
        "colab": {
          "base_uri": "https://localhost:8080/"
        },
        "id": "SAI0iKQEFMaJ",
        "outputId": "cffddf5e-329b-4d22-b37e-ca75f8127fd0"
      },
      "source": [
        "tokenizer"
      ],
      "execution_count": 14,
      "outputs": [
        {
          "output_type": "execute_result",
          "data": {
            "text/plain": [
              "<keras_preprocessing.text.Tokenizer at 0x7feeaa551e90>"
            ]
          },
          "metadata": {},
          "execution_count": 14
        }
      ]
    },
    {
      "cell_type": "code",
      "metadata": {
        "colab": {
          "base_uri": "https://localhost:8080/"
        },
        "id": "MYBkGfBMiiKC",
        "outputId": "e580fb11-73c3-4bda-ed37-efeb64d9d615"
      },
      "source": [
        "total_words = len(tokenizer.word_index) + 1\n",
        "print(total_words)"
      ],
      "execution_count": 16,
      "outputs": [
        {
          "output_type": "stream",
          "name": "stdout",
          "text": [
            "495\n"
          ]
        }
      ]
    },
    {
      "cell_type": "code",
      "metadata": {
        "colab": {
          "base_uri": "https://localhost:8080/"
        },
        "id": "toLX_RAGGjuS",
        "outputId": "ec1cfe6d-a6d1-4bce-903d-ef56f34d1938"
      },
      "source": [
        "tmp_seq = corpus[0]\n",
        "print(tmp_seq)\n",
        "\n",
        "tmp_seq = tokenizer.texts_to_sequences([tmp_seq])\n",
        "print(tmp_seq)"
      ],
      "execution_count": 22,
      "outputs": [
        {
          "output_type": "stream",
          "name": "stdout",
          "text": [
            "look at her face its a wonderful face\n",
            "[[81, 82, 142, 197, 29, 4, 287, 197]]\n"
          ]
        }
      ]
    },
    {
      "cell_type": "markdown",
      "metadata": {
        "id": "vOM7-HEAFvJC"
      },
      "source": [
        "# Create Sequences"
      ]
    },
    {
      "cell_type": "code",
      "metadata": {
        "colab": {
          "base_uri": "https://localhost:8080/"
        },
        "id": "ilzs9WjfFlBs",
        "outputId": "23027fd9-c853-420d-c5dd-4042b5ec0fcd"
      },
      "source": [
        "sequences = []\n",
        "for line in corpus:\n",
        "  token_list = tokenizer.texts_to_sequences([line])[0]\n",
        "  for i in range(len(token_list)):\n",
        "    n_gram_seq = token_list[:i+1]\n",
        "    sequences.append(n_gram_seq)\n",
        "\n",
        "sequences[0:10]"
      ],
      "execution_count": 24,
      "outputs": [
        {
          "output_type": "execute_result",
          "data": {
            "text/plain": [
              "[[81],\n",
              " [81, 82],\n",
              " [81, 82, 142],\n",
              " [81, 82, 142, 197],\n",
              " [81, 82, 142, 197, 29],\n",
              " [81, 82, 142, 197, 29, 4],\n",
              " [81, 82, 142, 197, 29, 4, 287],\n",
              " [81, 82, 142, 197, 29, 4, 287, 197],\n",
              " [3],\n",
              " [3, 11]]"
            ]
          },
          "metadata": {},
          "execution_count": 24
        }
      ]
    },
    {
      "cell_type": "code",
      "metadata": {
        "colab": {
          "base_uri": "https://localhost:8080/"
        },
        "id": "VeSgjYpZFlD_",
        "outputId": "36acdf63-f23f-46b0-aed5-c822e51e39ee"
      },
      "source": [
        "max_seq_len = max([len(seq) for seq in sequences])\n",
        "print(max_seq_len)\n",
        "\n",
        "sequences = np.array(pad_sequences(sequences,\n",
        "                                   maxlen=max_seq_len,\n",
        "                                   padding='pre'))\n",
        "\n",
        "sequences[0:10]"
      ],
      "execution_count": 26,
      "outputs": [
        {
          "output_type": "stream",
          "name": "stdout",
          "text": [
            "20\n"
          ]
        },
        {
          "output_type": "execute_result",
          "data": {
            "text/plain": [
              "array([[  0,   0,   0,   0,   0,   0,   0,   0,   0,   0,   0,   0,   0,\n",
              "          0,   0,   0,   0,   0,   0,  81],\n",
              "       [  0,   0,   0,   0,   0,   0,   0,   0,   0,   0,   0,   0,   0,\n",
              "          0,   0,   0,   0,   0,  81,  82],\n",
              "       [  0,   0,   0,   0,   0,   0,   0,   0,   0,   0,   0,   0,   0,\n",
              "          0,   0,   0,   0,  81,  82, 142],\n",
              "       [  0,   0,   0,   0,   0,   0,   0,   0,   0,   0,   0,   0,   0,\n",
              "          0,   0,   0,  81,  82, 142, 197],\n",
              "       [  0,   0,   0,   0,   0,   0,   0,   0,   0,   0,   0,   0,   0,\n",
              "          0,   0,  81,  82, 142, 197,  29],\n",
              "       [  0,   0,   0,   0,   0,   0,   0,   0,   0,   0,   0,   0,   0,\n",
              "          0,  81,  82, 142, 197,  29,   4],\n",
              "       [  0,   0,   0,   0,   0,   0,   0,   0,   0,   0,   0,   0,   0,\n",
              "         81,  82, 142, 197,  29,   4, 287],\n",
              "       [  0,   0,   0,   0,   0,   0,   0,   0,   0,   0,   0,   0,  81,\n",
              "         82, 142, 197,  29,   4, 287, 197],\n",
              "       [  0,   0,   0,   0,   0,   0,   0,   0,   0,   0,   0,   0,   0,\n",
              "          0,   0,   0,   0,   0,   0,   3],\n",
              "       [  0,   0,   0,   0,   0,   0,   0,   0,   0,   0,   0,   0,   0,\n",
              "          0,   0,   0,   0,   0,   3,  11]], dtype=int32)"
            ]
          },
          "metadata": {},
          "execution_count": 26
        }
      ]
    },
    {
      "cell_type": "markdown",
      "metadata": {
        "id": "lbAxxDKAIjyL"
      },
      "source": [
        "# Split Sequences into input sequence and output predicted word"
      ]
    },
    {
      "cell_type": "code",
      "metadata": {
        "colab": {
          "base_uri": "https://localhost:8080/"
        },
        "id": "Kh7zHK-vQOtf",
        "outputId": "ec3fe5fc-cafd-4396-9e89-bb04c888ec50"
      },
      "source": [
        "len(sequences)"
      ],
      "execution_count": 38,
      "outputs": [
        {
          "output_type": "execute_result",
          "data": {
            "text/plain": [
              "2323"
            ]
          },
          "metadata": {},
          "execution_count": 38
        }
      ]
    },
    {
      "cell_type": "code",
      "metadata": {
        "colab": {
          "base_uri": "https://localhost:8080/"
        },
        "id": "eXJ7eHGmFlGo",
        "outputId": "fa07468d-74c7-45cb-d2d8-ba8a2d003775"
      },
      "source": [
        "input_sequences, labels = sequences[:, :-1], sequences[:,-1]\n",
        "input_sequences[0], labels[0]"
      ],
      "execution_count": 39,
      "outputs": [
        {
          "output_type": "execute_result",
          "data": {
            "text/plain": [
              "(array([0, 0, 0, 0, 0, 0, 0, 0, 0, 0, 0, 0, 0, 0, 0, 0, 0, 0, 0],\n",
              "       dtype=int32), 81)"
            ]
          },
          "metadata": {},
          "execution_count": 39
        }
      ]
    },
    {
      "cell_type": "code",
      "metadata": {
        "colab": {
          "base_uri": "https://localhost:8080/"
        },
        "id": "aJ5RibIDQGcs",
        "outputId": "5dd08f12-d662-4192-cefa-d52852705f3b"
      },
      "source": [
        "len(input_sequences), len(labels)"
      ],
      "execution_count": 40,
      "outputs": [
        {
          "output_type": "execute_result",
          "data": {
            "text/plain": [
              "(2323, 2323)"
            ]
          },
          "metadata": {},
          "execution_count": 40
        }
      ]
    },
    {
      "cell_type": "markdown",
      "metadata": {
        "id": "09oG9A8jJGtI"
      },
      "source": [
        "# One Hot Encode Lables"
      ]
    },
    {
      "cell_type": "code",
      "metadata": {
        "colab": {
          "base_uri": "https://localhost:8080/"
        },
        "id": "J7ivSfILFlJY",
        "outputId": "8c1da808-84b6-4b71-be17-e418a37bb517"
      },
      "source": [
        "one_hot_labels = tf.keras.utils.to_categorical(labels, num_classes=total_words)\n",
        "one_hot_labels[0]"
      ],
      "execution_count": 41,
      "outputs": [
        {
          "output_type": "execute_result",
          "data": {
            "text/plain": [
              "array([0., 0., 0., 0., 0., 0., 0., 0., 0., 0., 0., 0., 0., 0., 0., 0., 0.,\n",
              "       0., 0., 0., 0., 0., 0., 0., 0., 0., 0., 0., 0., 0., 0., 0., 0., 0.,\n",
              "       0., 0., 0., 0., 0., 0., 0., 0., 0., 0., 0., 0., 0., 0., 0., 0., 0.,\n",
              "       0., 0., 0., 0., 0., 0., 0., 0., 0., 0., 0., 0., 0., 0., 0., 0., 0.,\n",
              "       0., 0., 0., 0., 0., 0., 0., 0., 0., 0., 0., 0., 0., 1., 0., 0., 0.,\n",
              "       0., 0., 0., 0., 0., 0., 0., 0., 0., 0., 0., 0., 0., 0., 0., 0., 0.,\n",
              "       0., 0., 0., 0., 0., 0., 0., 0., 0., 0., 0., 0., 0., 0., 0., 0., 0.,\n",
              "       0., 0., 0., 0., 0., 0., 0., 0., 0., 0., 0., 0., 0., 0., 0., 0., 0.,\n",
              "       0., 0., 0., 0., 0., 0., 0., 0., 0., 0., 0., 0., 0., 0., 0., 0., 0.,\n",
              "       0., 0., 0., 0., 0., 0., 0., 0., 0., 0., 0., 0., 0., 0., 0., 0., 0.,\n",
              "       0., 0., 0., 0., 0., 0., 0., 0., 0., 0., 0., 0., 0., 0., 0., 0., 0.,\n",
              "       0., 0., 0., 0., 0., 0., 0., 0., 0., 0., 0., 0., 0., 0., 0., 0., 0.,\n",
              "       0., 0., 0., 0., 0., 0., 0., 0., 0., 0., 0., 0., 0., 0., 0., 0., 0.,\n",
              "       0., 0., 0., 0., 0., 0., 0., 0., 0., 0., 0., 0., 0., 0., 0., 0., 0.,\n",
              "       0., 0., 0., 0., 0., 0., 0., 0., 0., 0., 0., 0., 0., 0., 0., 0., 0.,\n",
              "       0., 0., 0., 0., 0., 0., 0., 0., 0., 0., 0., 0., 0., 0., 0., 0., 0.,\n",
              "       0., 0., 0., 0., 0., 0., 0., 0., 0., 0., 0., 0., 0., 0., 0., 0., 0.,\n",
              "       0., 0., 0., 0., 0., 0., 0., 0., 0., 0., 0., 0., 0., 0., 0., 0., 0.,\n",
              "       0., 0., 0., 0., 0., 0., 0., 0., 0., 0., 0., 0., 0., 0., 0., 0., 0.,\n",
              "       0., 0., 0., 0., 0., 0., 0., 0., 0., 0., 0., 0., 0., 0., 0., 0., 0.,\n",
              "       0., 0., 0., 0., 0., 0., 0., 0., 0., 0., 0., 0., 0., 0., 0., 0., 0.,\n",
              "       0., 0., 0., 0., 0., 0., 0., 0., 0., 0., 0., 0., 0., 0., 0., 0., 0.,\n",
              "       0., 0., 0., 0., 0., 0., 0., 0., 0., 0., 0., 0., 0., 0., 0., 0., 0.,\n",
              "       0., 0., 0., 0., 0., 0., 0., 0., 0., 0., 0., 0., 0., 0., 0., 0., 0.,\n",
              "       0., 0., 0., 0., 0., 0., 0., 0., 0., 0., 0., 0., 0., 0., 0., 0., 0.,\n",
              "       0., 0., 0., 0., 0., 0., 0., 0., 0., 0., 0., 0., 0., 0., 0., 0., 0.,\n",
              "       0., 0., 0., 0., 0., 0., 0., 0., 0., 0., 0., 0., 0., 0., 0., 0., 0.,\n",
              "       0., 0., 0., 0., 0., 0., 0., 0., 0., 0., 0., 0., 0., 0., 0., 0., 0.,\n",
              "       0., 0., 0., 0., 0., 0., 0., 0., 0., 0., 0., 0., 0., 0., 0., 0., 0.,\n",
              "       0., 0.], dtype=float32)"
            ]
          },
          "metadata": {},
          "execution_count": 41
        }
      ]
    },
    {
      "cell_type": "markdown",
      "metadata": {
        "id": "Pf6f-EYxKKF0"
      },
      "source": [
        "# Check Data"
      ]
    },
    {
      "cell_type": "code",
      "metadata": {
        "colab": {
          "base_uri": "https://localhost:8080/"
        },
        "id": "qdh5XePDFlMD",
        "outputId": "829cda35-be07-49cb-bace-d8486eaf1d80"
      },
      "source": [
        "print(tokenizer.word_index['know'])\n",
        "print(tokenizer.word_index['feeling'])\n",
        "\n",
        "print(input_sequences[5])\n",
        "print(input_sequences[6])\n",
        "\n",
        "print(one_hot_labels[5])\n",
        "print(one_hot_labels[6])"
      ],
      "execution_count": 42,
      "outputs": [
        {
          "output_type": "stream",
          "name": "stdout",
          "text": [
            "32\n",
            "97\n",
            "[  0   0   0   0   0   0   0   0   0   0   0   0   0   0  81  82 142 197\n",
            "  29]\n",
            "[  0   0   0   0   0   0   0   0   0   0   0   0   0  81  82 142 197  29\n",
            "   4]\n",
            "[0. 0. 0. 0. 1. 0. 0. 0. 0. 0. 0. 0. 0. 0. 0. 0. 0. 0. 0. 0. 0. 0. 0. 0.\n",
            " 0. 0. 0. 0. 0. 0. 0. 0. 0. 0. 0. 0. 0. 0. 0. 0. 0. 0. 0. 0. 0. 0. 0. 0.\n",
            " 0. 0. 0. 0. 0. 0. 0. 0. 0. 0. 0. 0. 0. 0. 0. 0. 0. 0. 0. 0. 0. 0. 0. 0.\n",
            " 0. 0. 0. 0. 0. 0. 0. 0. 0. 0. 0. 0. 0. 0. 0. 0. 0. 0. 0. 0. 0. 0. 0. 0.\n",
            " 0. 0. 0. 0. 0. 0. 0. 0. 0. 0. 0. 0. 0. 0. 0. 0. 0. 0. 0. 0. 0. 0. 0. 0.\n",
            " 0. 0. 0. 0. 0. 0. 0. 0. 0. 0. 0. 0. 0. 0. 0. 0. 0. 0. 0. 0. 0. 0. 0. 0.\n",
            " 0. 0. 0. 0. 0. 0. 0. 0. 0. 0. 0. 0. 0. 0. 0. 0. 0. 0. 0. 0. 0. 0. 0. 0.\n",
            " 0. 0. 0. 0. 0. 0. 0. 0. 0. 0. 0. 0. 0. 0. 0. 0. 0. 0. 0. 0. 0. 0. 0. 0.\n",
            " 0. 0. 0. 0. 0. 0. 0. 0. 0. 0. 0. 0. 0. 0. 0. 0. 0. 0. 0. 0. 0. 0. 0. 0.\n",
            " 0. 0. 0. 0. 0. 0. 0. 0. 0. 0. 0. 0. 0. 0. 0. 0. 0. 0. 0. 0. 0. 0. 0. 0.\n",
            " 0. 0. 0. 0. 0. 0. 0. 0. 0. 0. 0. 0. 0. 0. 0. 0. 0. 0. 0. 0. 0. 0. 0. 0.\n",
            " 0. 0. 0. 0. 0. 0. 0. 0. 0. 0. 0. 0. 0. 0. 0. 0. 0. 0. 0. 0. 0. 0. 0. 0.\n",
            " 0. 0. 0. 0. 0. 0. 0. 0. 0. 0. 0. 0. 0. 0. 0. 0. 0. 0. 0. 0. 0. 0. 0. 0.\n",
            " 0. 0. 0. 0. 0. 0. 0. 0. 0. 0. 0. 0. 0. 0. 0. 0. 0. 0. 0. 0. 0. 0. 0. 0.\n",
            " 0. 0. 0. 0. 0. 0. 0. 0. 0. 0. 0. 0. 0. 0. 0. 0. 0. 0. 0. 0. 0. 0. 0. 0.\n",
            " 0. 0. 0. 0. 0. 0. 0. 0. 0. 0. 0. 0. 0. 0. 0. 0. 0. 0. 0. 0. 0. 0. 0. 0.\n",
            " 0. 0. 0. 0. 0. 0. 0. 0. 0. 0. 0. 0. 0. 0. 0. 0. 0. 0. 0. 0. 0. 0. 0. 0.\n",
            " 0. 0. 0. 0. 0. 0. 0. 0. 0. 0. 0. 0. 0. 0. 0. 0. 0. 0. 0. 0. 0. 0. 0. 0.\n",
            " 0. 0. 0. 0. 0. 0. 0. 0. 0. 0. 0. 0. 0. 0. 0. 0. 0. 0. 0. 0. 0. 0. 0. 0.\n",
            " 0. 0. 0. 0. 0. 0. 0. 0. 0. 0. 0. 0. 0. 0. 0. 0. 0. 0. 0. 0. 0. 0. 0. 0.\n",
            " 0. 0. 0. 0. 0. 0. 0. 0. 0. 0. 0. 0. 0. 0. 0.]\n",
            "[0. 0. 0. 0. 0. 0. 0. 0. 0. 0. 0. 0. 0. 0. 0. 0. 0. 0. 0. 0. 0. 0. 0. 0.\n",
            " 0. 0. 0. 0. 0. 0. 0. 0. 0. 0. 0. 0. 0. 0. 0. 0. 0. 0. 0. 0. 0. 0. 0. 0.\n",
            " 0. 0. 0. 0. 0. 0. 0. 0. 0. 0. 0. 0. 0. 0. 0. 0. 0. 0. 0. 0. 0. 0. 0. 0.\n",
            " 0. 0. 0. 0. 0. 0. 0. 0. 0. 0. 0. 0. 0. 0. 0. 0. 0. 0. 0. 0. 0. 0. 0. 0.\n",
            " 0. 0. 0. 0. 0. 0. 0. 0. 0. 0. 0. 0. 0. 0. 0. 0. 0. 0. 0. 0. 0. 0. 0. 0.\n",
            " 0. 0. 0. 0. 0. 0. 0. 0. 0. 0. 0. 0. 0. 0. 0. 0. 0. 0. 0. 0. 0. 0. 0. 0.\n",
            " 0. 0. 0. 0. 0. 0. 0. 0. 0. 0. 0. 0. 0. 0. 0. 0. 0. 0. 0. 0. 0. 0. 0. 0.\n",
            " 0. 0. 0. 0. 0. 0. 0. 0. 0. 0. 0. 0. 0. 0. 0. 0. 0. 0. 0. 0. 0. 0. 0. 0.\n",
            " 0. 0. 0. 0. 0. 0. 0. 0. 0. 0. 0. 0. 0. 0. 0. 0. 0. 0. 0. 0. 0. 0. 0. 0.\n",
            " 0. 0. 0. 0. 0. 0. 0. 0. 0. 0. 0. 0. 0. 0. 0. 0. 0. 0. 0. 0. 0. 0. 0. 0.\n",
            " 0. 0. 0. 0. 0. 0. 0. 0. 0. 0. 0. 0. 0. 0. 0. 0. 0. 0. 0. 0. 0. 0. 0. 0.\n",
            " 0. 0. 0. 0. 0. 0. 0. 0. 0. 0. 0. 0. 0. 0. 0. 0. 0. 0. 0. 0. 0. 0. 0. 1.\n",
            " 0. 0. 0. 0. 0. 0. 0. 0. 0. 0. 0. 0. 0. 0. 0. 0. 0. 0. 0. 0. 0. 0. 0. 0.\n",
            " 0. 0. 0. 0. 0. 0. 0. 0. 0. 0. 0. 0. 0. 0. 0. 0. 0. 0. 0. 0. 0. 0. 0. 0.\n",
            " 0. 0. 0. 0. 0. 0. 0. 0. 0. 0. 0. 0. 0. 0. 0. 0. 0. 0. 0. 0. 0. 0. 0. 0.\n",
            " 0. 0. 0. 0. 0. 0. 0. 0. 0. 0. 0. 0. 0. 0. 0. 0. 0. 0. 0. 0. 0. 0. 0. 0.\n",
            " 0. 0. 0. 0. 0. 0. 0. 0. 0. 0. 0. 0. 0. 0. 0. 0. 0. 0. 0. 0. 0. 0. 0. 0.\n",
            " 0. 0. 0. 0. 0. 0. 0. 0. 0. 0. 0. 0. 0. 0. 0. 0. 0. 0. 0. 0. 0. 0. 0. 0.\n",
            " 0. 0. 0. 0. 0. 0. 0. 0. 0. 0. 0. 0. 0. 0. 0. 0. 0. 0. 0. 0. 0. 0. 0. 0.\n",
            " 0. 0. 0. 0. 0. 0. 0. 0. 0. 0. 0. 0. 0. 0. 0. 0. 0. 0. 0. 0. 0. 0. 0. 0.\n",
            " 0. 0. 0. 0. 0. 0. 0. 0. 0. 0. 0. 0. 0. 0. 0.]\n"
          ]
        }
      ]
    },
    {
      "cell_type": "code",
      "metadata": {
        "colab": {
          "base_uri": "https://localhost:8080/"
        },
        "id": "9oLxzyinPRHY",
        "outputId": "c2f30b3c-ab95-4ba4-f413-f07de543e24c"
      },
      "source": [
        "len(input_sequences), len(one_hot_labels)"
      ],
      "execution_count": 43,
      "outputs": [
        {
          "output_type": "execute_result",
          "data": {
            "text/plain": [
              "(2323, 2323)"
            ]
          },
          "metadata": {},
          "execution_count": 43
        }
      ]
    },
    {
      "cell_type": "markdown",
      "metadata": {
        "id": "uwKLZh6kKNby"
      },
      "source": [
        "# Train a Text Generation Model"
      ]
    },
    {
      "cell_type": "code",
      "metadata": {
        "colab": {
          "base_uri": "https://localhost:8080/"
        },
        "id": "VVO_60dEiiNM",
        "outputId": "ef84e379-3a7c-45eb-efdb-e9bf6d11f4c7"
      },
      "source": [
        "model = tf.keras.models.Sequential()\n",
        "model.add(tf.keras.layers.Embedding(input_dim=total_words,\n",
        "                                    output_dim=64,\n",
        "                                    input_length=max_seq_len-1))\n",
        "model.add(tf.keras.layers.Bidirectional(tf.keras.layers.LSTM(20)))\n",
        "model.add(tf.keras.layers.Dense(units=total_words,\n",
        "                                activation='softmax'))\n",
        "\n",
        "model.compile(\n",
        "    loss = 'categorical_crossentropy',\n",
        "    optimizer = 'adam',\n",
        "    metrics = ['accuracy']\n",
        ")\n",
        "\n",
        "model.summary()"
      ],
      "execution_count": 46,
      "outputs": [
        {
          "output_type": "stream",
          "name": "stdout",
          "text": [
            "Model: \"sequential_2\"\n",
            "_________________________________________________________________\n",
            "Layer (type)                 Output Shape              Param #   \n",
            "=================================================================\n",
            "embedding_2 (Embedding)      (None, 19, 64)            31680     \n",
            "_________________________________________________________________\n",
            "bidirectional_2 (Bidirection (None, 40)                13600     \n",
            "_________________________________________________________________\n",
            "dense_2 (Dense)              (None, 495)               20295     \n",
            "=================================================================\n",
            "Total params: 65,575\n",
            "Trainable params: 65,575\n",
            "Non-trainable params: 0\n",
            "_________________________________________________________________\n"
          ]
        }
      ]
    },
    {
      "cell_type": "code",
      "metadata": {
        "colab": {
          "base_uri": "https://localhost:8080/"
        },
        "id": "0I9IrWcAKRVs",
        "outputId": "fe068b6c-c078-44fd-985e-59c2eefc391f"
      },
      "source": [
        "history = model.fit(x=input_sequences,\n",
        "                    y=one_hot_labels,\n",
        "                    epochs=200)"
      ],
      "execution_count": 47,
      "outputs": [
        {
          "output_type": "stream",
          "name": "stdout",
          "text": [
            "Epoch 1/200\n",
            "73/73 [==============================] - 4s 15ms/step - loss: 5.9193 - accuracy: 0.0370\n",
            "Epoch 2/200\n",
            "73/73 [==============================] - 1s 15ms/step - loss: 5.4329 - accuracy: 0.0366\n",
            "Epoch 3/200\n",
            "73/73 [==============================] - 1s 16ms/step - loss: 5.3688 - accuracy: 0.0405\n",
            "Epoch 4/200\n",
            "73/73 [==============================] - 1s 15ms/step - loss: 5.3026 - accuracy: 0.0418\n",
            "Epoch 5/200\n",
            "73/73 [==============================] - 1s 17ms/step - loss: 5.2320 - accuracy: 0.0409\n",
            "Epoch 6/200\n",
            "73/73 [==============================] - 1s 15ms/step - loss: 5.1626 - accuracy: 0.0465\n",
            "Epoch 7/200\n",
            "73/73 [==============================] - 1s 15ms/step - loss: 5.0958 - accuracy: 0.0456\n",
            "Epoch 8/200\n",
            "73/73 [==============================] - 1s 16ms/step - loss: 5.0161 - accuracy: 0.0573\n",
            "Epoch 9/200\n",
            "73/73 [==============================] - 1s 15ms/step - loss: 4.9172 - accuracy: 0.0766\n",
            "Epoch 10/200\n",
            "73/73 [==============================] - 1s 15ms/step - loss: 4.8250 - accuracy: 0.0818\n",
            "Epoch 11/200\n",
            "73/73 [==============================] - 1s 15ms/step - loss: 4.7202 - accuracy: 0.0852\n",
            "Epoch 12/200\n",
            "73/73 [==============================] - 1s 16ms/step - loss: 4.6245 - accuracy: 0.0908\n",
            "Epoch 13/200\n",
            "73/73 [==============================] - 1s 15ms/step - loss: 4.5385 - accuracy: 0.1037\n",
            "Epoch 14/200\n",
            "73/73 [==============================] - 1s 15ms/step - loss: 4.4452 - accuracy: 0.1136\n",
            "Epoch 15/200\n",
            "73/73 [==============================] - 1s 15ms/step - loss: 4.3591 - accuracy: 0.1188\n",
            "Epoch 16/200\n",
            "73/73 [==============================] - 1s 15ms/step - loss: 4.2736 - accuracy: 0.1352\n",
            "Epoch 17/200\n",
            "73/73 [==============================] - 1s 15ms/step - loss: 4.2008 - accuracy: 0.1481\n",
            "Epoch 18/200\n",
            "73/73 [==============================] - 1s 15ms/step - loss: 4.1282 - accuracy: 0.1614\n",
            "Epoch 19/200\n",
            "73/73 [==============================] - 1s 15ms/step - loss: 4.0494 - accuracy: 0.1748\n",
            "Epoch 20/200\n",
            "73/73 [==============================] - 1s 16ms/step - loss: 3.9789 - accuracy: 0.1795\n",
            "Epoch 21/200\n",
            "73/73 [==============================] - 1s 15ms/step - loss: 3.9128 - accuracy: 0.1868\n",
            "Epoch 22/200\n",
            "73/73 [==============================] - 1s 15ms/step - loss: 3.8411 - accuracy: 0.2066\n",
            "Epoch 23/200\n",
            "73/73 [==============================] - 1s 15ms/step - loss: 3.7778 - accuracy: 0.2200\n",
            "Epoch 24/200\n",
            "73/73 [==============================] - 1s 15ms/step - loss: 3.7169 - accuracy: 0.2234\n",
            "Epoch 25/200\n",
            "73/73 [==============================] - 1s 16ms/step - loss: 3.6536 - accuracy: 0.2376\n",
            "Epoch 26/200\n",
            "73/73 [==============================] - 1s 15ms/step - loss: 3.5951 - accuracy: 0.2454\n",
            "Epoch 27/200\n",
            "73/73 [==============================] - 1s 16ms/step - loss: 3.5502 - accuracy: 0.2531\n",
            "Epoch 28/200\n",
            "73/73 [==============================] - 1s 16ms/step - loss: 3.4818 - accuracy: 0.2622\n",
            "Epoch 29/200\n",
            "73/73 [==============================] - 1s 15ms/step - loss: 3.4312 - accuracy: 0.2738\n",
            "Epoch 30/200\n",
            "73/73 [==============================] - 1s 15ms/step - loss: 3.4132 - accuracy: 0.2777\n",
            "Epoch 31/200\n",
            "73/73 [==============================] - 1s 16ms/step - loss: 3.3636 - accuracy: 0.2897\n",
            "Epoch 32/200\n",
            "73/73 [==============================] - 1s 15ms/step - loss: 3.3065 - accuracy: 0.3035\n",
            "Epoch 33/200\n",
            "73/73 [==============================] - 1s 15ms/step - loss: 3.2525 - accuracy: 0.3164\n",
            "Epoch 34/200\n",
            "73/73 [==============================] - 1s 16ms/step - loss: 3.2005 - accuracy: 0.3263\n",
            "Epoch 35/200\n",
            "73/73 [==============================] - 1s 17ms/step - loss: 3.1502 - accuracy: 0.3345\n",
            "Epoch 36/200\n",
            "73/73 [==============================] - 1s 16ms/step - loss: 3.1037 - accuracy: 0.3435\n",
            "Epoch 37/200\n",
            "73/73 [==============================] - 1s 15ms/step - loss: 3.0770 - accuracy: 0.3504\n",
            "Epoch 38/200\n",
            "73/73 [==============================] - 1s 15ms/step - loss: 3.0420 - accuracy: 0.3655\n",
            "Epoch 39/200\n",
            "73/73 [==============================] - 1s 15ms/step - loss: 3.0046 - accuracy: 0.3659\n",
            "Epoch 40/200\n",
            "73/73 [==============================] - 1s 15ms/step - loss: 3.0743 - accuracy: 0.3599\n",
            "Epoch 41/200\n",
            "73/73 [==============================] - 1s 15ms/step - loss: 3.0030 - accuracy: 0.3650\n",
            "Epoch 42/200\n",
            "73/73 [==============================] - 1s 15ms/step - loss: 2.9189 - accuracy: 0.3887\n",
            "Epoch 43/200\n",
            "73/73 [==============================] - 1s 15ms/step - loss: 2.8679 - accuracy: 0.4016\n",
            "Epoch 44/200\n",
            "73/73 [==============================] - 1s 15ms/step - loss: 2.8484 - accuracy: 0.4098\n",
            "Epoch 45/200\n",
            "73/73 [==============================] - 1s 15ms/step - loss: 2.9421 - accuracy: 0.3797\n",
            "Epoch 46/200\n",
            "73/73 [==============================] - 1s 16ms/step - loss: 2.8074 - accuracy: 0.4128\n",
            "Epoch 47/200\n",
            "73/73 [==============================] - 1s 15ms/step - loss: 2.8041 - accuracy: 0.4171\n",
            "Epoch 48/200\n",
            "73/73 [==============================] - 1s 15ms/step - loss: 2.7815 - accuracy: 0.4236\n",
            "Epoch 49/200\n",
            "73/73 [==============================] - 1s 15ms/step - loss: 2.7021 - accuracy: 0.4378\n",
            "Epoch 50/200\n",
            "73/73 [==============================] - 1s 15ms/step - loss: 2.6575 - accuracy: 0.4503\n",
            "Epoch 51/200\n",
            "73/73 [==============================] - 1s 15ms/step - loss: 2.6890 - accuracy: 0.4455\n",
            "Epoch 52/200\n",
            "73/73 [==============================] - 1s 15ms/step - loss: 2.6979 - accuracy: 0.4318\n",
            "Epoch 53/200\n",
            "73/73 [==============================] - 1s 15ms/step - loss: 2.6060 - accuracy: 0.4550\n",
            "Epoch 54/200\n",
            "73/73 [==============================] - 1s 16ms/step - loss: 2.5329 - accuracy: 0.4808\n",
            "Epoch 55/200\n",
            "73/73 [==============================] - 1s 16ms/step - loss: 2.4798 - accuracy: 0.4834\n",
            "Epoch 56/200\n",
            "73/73 [==============================] - 1s 17ms/step - loss: 2.4443 - accuracy: 0.4985\n",
            "Epoch 57/200\n",
            "73/73 [==============================] - 1s 15ms/step - loss: 2.4119 - accuracy: 0.5062\n",
            "Epoch 58/200\n",
            "73/73 [==============================] - 1s 16ms/step - loss: 2.3748 - accuracy: 0.5118\n",
            "Epoch 59/200\n",
            "73/73 [==============================] - 1s 16ms/step - loss: 2.3421 - accuracy: 0.5209\n",
            "Epoch 60/200\n",
            "73/73 [==============================] - 1s 16ms/step - loss: 2.3149 - accuracy: 0.5291\n",
            "Epoch 61/200\n",
            "73/73 [==============================] - 1s 16ms/step - loss: 2.2878 - accuracy: 0.5329\n",
            "Epoch 62/200\n",
            "73/73 [==============================] - 1s 15ms/step - loss: 2.2630 - accuracy: 0.5428\n",
            "Epoch 63/200\n",
            "73/73 [==============================] - 1s 16ms/step - loss: 2.2353 - accuracy: 0.5484\n",
            "Epoch 64/200\n",
            "73/73 [==============================] - 1s 16ms/step - loss: 2.2159 - accuracy: 0.5540\n",
            "Epoch 65/200\n",
            "73/73 [==============================] - 1s 16ms/step - loss: 2.1824 - accuracy: 0.5592\n",
            "Epoch 66/200\n",
            "73/73 [==============================] - 1s 16ms/step - loss: 2.1590 - accuracy: 0.5583\n",
            "Epoch 67/200\n",
            "73/73 [==============================] - 1s 16ms/step - loss: 2.1334 - accuracy: 0.5678\n",
            "Epoch 68/200\n",
            "73/73 [==============================] - 1s 17ms/step - loss: 2.1108 - accuracy: 0.5665\n",
            "Epoch 69/200\n",
            "73/73 [==============================] - 1s 16ms/step - loss: 2.0871 - accuracy: 0.5717\n",
            "Epoch 70/200\n",
            "73/73 [==============================] - 1s 15ms/step - loss: 2.0583 - accuracy: 0.5768\n",
            "Epoch 71/200\n",
            "73/73 [==============================] - 1s 16ms/step - loss: 2.0400 - accuracy: 0.5764\n",
            "Epoch 72/200\n",
            "73/73 [==============================] - 1s 16ms/step - loss: 2.0226 - accuracy: 0.5850\n",
            "Epoch 73/200\n",
            "73/73 [==============================] - 1s 16ms/step - loss: 2.0115 - accuracy: 0.5885\n",
            "Epoch 74/200\n",
            "73/73 [==============================] - 1s 16ms/step - loss: 1.9838 - accuracy: 0.5880\n",
            "Epoch 75/200\n",
            "73/73 [==============================] - 1s 15ms/step - loss: 1.9561 - accuracy: 0.5949\n",
            "Epoch 76/200\n",
            "73/73 [==============================] - 1s 17ms/step - loss: 1.9294 - accuracy: 0.6018\n",
            "Epoch 77/200\n",
            "73/73 [==============================] - 1s 15ms/step - loss: 1.9078 - accuracy: 0.6078\n",
            "Epoch 78/200\n",
            "73/73 [==============================] - 1s 16ms/step - loss: 1.8959 - accuracy: 0.6083\n",
            "Epoch 79/200\n",
            "73/73 [==============================] - 1s 16ms/step - loss: 1.8708 - accuracy: 0.6139\n",
            "Epoch 80/200\n",
            "73/73 [==============================] - 1s 16ms/step - loss: 1.8522 - accuracy: 0.6164\n",
            "Epoch 81/200\n",
            "73/73 [==============================] - 1s 15ms/step - loss: 1.8306 - accuracy: 0.6186\n",
            "Epoch 82/200\n",
            "73/73 [==============================] - 1s 15ms/step - loss: 1.8195 - accuracy: 0.6216\n",
            "Epoch 83/200\n",
            "73/73 [==============================] - 1s 16ms/step - loss: 1.8016 - accuracy: 0.6216\n",
            "Epoch 84/200\n",
            "73/73 [==============================] - 1s 15ms/step - loss: 1.7824 - accuracy: 0.6285\n",
            "Epoch 85/200\n",
            "73/73 [==============================] - 1s 15ms/step - loss: 1.7661 - accuracy: 0.6238\n",
            "Epoch 86/200\n",
            "73/73 [==============================] - 1s 15ms/step - loss: 1.7586 - accuracy: 0.6242\n",
            "Epoch 87/200\n",
            "73/73 [==============================] - 1s 15ms/step - loss: 1.7347 - accuracy: 0.6406\n",
            "Epoch 88/200\n",
            "73/73 [==============================] - 1s 16ms/step - loss: 1.7154 - accuracy: 0.6350\n",
            "Epoch 89/200\n",
            "73/73 [==============================] - 1s 15ms/step - loss: 1.7063 - accuracy: 0.6406\n",
            "Epoch 90/200\n",
            "73/73 [==============================] - 1s 16ms/step - loss: 1.7056 - accuracy: 0.6406\n",
            "Epoch 91/200\n",
            "73/73 [==============================] - 1s 17ms/step - loss: 1.6817 - accuracy: 0.6479\n",
            "Epoch 92/200\n",
            "73/73 [==============================] - 1s 17ms/step - loss: 1.6538 - accuracy: 0.6505\n",
            "Epoch 93/200\n",
            "73/73 [==============================] - 1s 15ms/step - loss: 1.6538 - accuracy: 0.6487\n",
            "Epoch 94/200\n",
            "73/73 [==============================] - 1s 15ms/step - loss: 1.6958 - accuracy: 0.6315\n",
            "Epoch 95/200\n",
            "73/73 [==============================] - 1s 15ms/step - loss: 1.6677 - accuracy: 0.6401\n",
            "Epoch 96/200\n",
            "73/73 [==============================] - 1s 15ms/step - loss: 1.6135 - accuracy: 0.6505\n",
            "Epoch 97/200\n",
            "73/73 [==============================] - 1s 17ms/step - loss: 1.5874 - accuracy: 0.6599\n",
            "Epoch 98/200\n",
            "73/73 [==============================] - 1s 15ms/step - loss: 1.5763 - accuracy: 0.6625\n",
            "Epoch 99/200\n",
            "73/73 [==============================] - 1s 17ms/step - loss: 1.5546 - accuracy: 0.6638\n",
            "Epoch 100/200\n",
            "73/73 [==============================] - 1s 16ms/step - loss: 1.5358 - accuracy: 0.6750\n",
            "Epoch 101/200\n",
            "73/73 [==============================] - 1s 16ms/step - loss: 1.5202 - accuracy: 0.6759\n",
            "Epoch 102/200\n",
            "73/73 [==============================] - 1s 15ms/step - loss: 1.5218 - accuracy: 0.6759\n",
            "Epoch 103/200\n",
            "73/73 [==============================] - 1s 15ms/step - loss: 1.5035 - accuracy: 0.6784\n",
            "Epoch 104/200\n",
            "73/73 [==============================] - 1s 15ms/step - loss: 1.5004 - accuracy: 0.6737\n",
            "Epoch 105/200\n",
            "73/73 [==============================] - 1s 15ms/step - loss: 1.4997 - accuracy: 0.6780\n",
            "Epoch 106/200\n",
            "73/73 [==============================] - 1s 16ms/step - loss: 1.4745 - accuracy: 0.6814\n",
            "Epoch 107/200\n",
            "73/73 [==============================] - 1s 15ms/step - loss: 1.4522 - accuracy: 0.6905\n",
            "Epoch 108/200\n",
            "73/73 [==============================] - 1s 15ms/step - loss: 1.4438 - accuracy: 0.6901\n",
            "Epoch 109/200\n",
            "73/73 [==============================] - 1s 16ms/step - loss: 1.4458 - accuracy: 0.6918\n",
            "Epoch 110/200\n",
            "73/73 [==============================] - 1s 15ms/step - loss: 1.4605 - accuracy: 0.6836\n",
            "Epoch 111/200\n",
            "73/73 [==============================] - 1s 16ms/step - loss: 1.4621 - accuracy: 0.6827\n",
            "Epoch 112/200\n",
            "73/73 [==============================] - 1s 16ms/step - loss: 1.4778 - accuracy: 0.6806\n",
            "Epoch 113/200\n",
            "73/73 [==============================] - 1s 16ms/step - loss: 1.4371 - accuracy: 0.6866\n",
            "Epoch 114/200\n",
            "73/73 [==============================] - 1s 15ms/step - loss: 1.4022 - accuracy: 0.6982\n",
            "Epoch 115/200\n",
            "73/73 [==============================] - 1s 15ms/step - loss: 1.4261 - accuracy: 0.6901\n",
            "Epoch 116/200\n",
            "73/73 [==============================] - 1s 16ms/step - loss: 1.3804 - accuracy: 0.7021\n",
            "Epoch 117/200\n",
            "73/73 [==============================] - 1s 17ms/step - loss: 1.3605 - accuracy: 0.7081\n",
            "Epoch 118/200\n",
            "73/73 [==============================] - 1s 16ms/step - loss: 1.3495 - accuracy: 0.7064\n",
            "Epoch 119/200\n",
            "73/73 [==============================] - 1s 16ms/step - loss: 1.3463 - accuracy: 0.7073\n",
            "Epoch 120/200\n",
            "73/73 [==============================] - 1s 15ms/step - loss: 1.3321 - accuracy: 0.7107\n",
            "Epoch 121/200\n",
            "73/73 [==============================] - 1s 15ms/step - loss: 1.3243 - accuracy: 0.7086\n",
            "Epoch 122/200\n",
            "73/73 [==============================] - 1s 17ms/step - loss: 1.3140 - accuracy: 0.7150\n",
            "Epoch 123/200\n",
            "73/73 [==============================] - 1s 15ms/step - loss: 1.3045 - accuracy: 0.7111\n",
            "Epoch 124/200\n",
            "73/73 [==============================] - 1s 17ms/step - loss: 1.2930 - accuracy: 0.7189\n",
            "Epoch 125/200\n",
            "73/73 [==============================] - 1s 16ms/step - loss: 1.2888 - accuracy: 0.7124\n",
            "Epoch 126/200\n",
            "73/73 [==============================] - 1s 16ms/step - loss: 1.2768 - accuracy: 0.7176\n",
            "Epoch 127/200\n",
            "73/73 [==============================] - 1s 16ms/step - loss: 1.2662 - accuracy: 0.7193\n",
            "Epoch 128/200\n",
            "73/73 [==============================] - 1s 15ms/step - loss: 1.2573 - accuracy: 0.7232\n",
            "Epoch 129/200\n",
            "73/73 [==============================] - 1s 15ms/step - loss: 1.2592 - accuracy: 0.7236\n",
            "Epoch 130/200\n",
            "73/73 [==============================] - 1s 15ms/step - loss: 1.2500 - accuracy: 0.7271\n",
            "Epoch 131/200\n",
            "73/73 [==============================] - 1s 16ms/step - loss: 1.2454 - accuracy: 0.7241\n",
            "Epoch 132/200\n",
            "73/73 [==============================] - 1s 15ms/step - loss: 1.2507 - accuracy: 0.7232\n",
            "Epoch 133/200\n",
            "73/73 [==============================] - 1s 16ms/step - loss: 1.2501 - accuracy: 0.7185\n",
            "Epoch 134/200\n",
            "73/73 [==============================] - 1s 16ms/step - loss: 1.2595 - accuracy: 0.7236\n",
            "Epoch 135/200\n",
            "73/73 [==============================] - 1s 16ms/step - loss: 1.2407 - accuracy: 0.7292\n",
            "Epoch 136/200\n",
            "73/73 [==============================] - 1s 17ms/step - loss: 1.2235 - accuracy: 0.7318\n",
            "Epoch 137/200\n",
            "73/73 [==============================] - 1s 15ms/step - loss: 1.2046 - accuracy: 0.7361\n",
            "Epoch 138/200\n",
            "73/73 [==============================] - 1s 16ms/step - loss: 1.1954 - accuracy: 0.7361\n",
            "Epoch 139/200\n",
            "73/73 [==============================] - 1s 15ms/step - loss: 1.1882 - accuracy: 0.7430\n",
            "Epoch 140/200\n",
            "73/73 [==============================] - 1s 16ms/step - loss: 1.1796 - accuracy: 0.7443\n",
            "Epoch 141/200\n",
            "73/73 [==============================] - 1s 15ms/step - loss: 1.1734 - accuracy: 0.7404\n",
            "Epoch 142/200\n",
            "73/73 [==============================] - 1s 16ms/step - loss: 1.1628 - accuracy: 0.7421\n",
            "Epoch 143/200\n",
            "73/73 [==============================] - 1s 16ms/step - loss: 1.1570 - accuracy: 0.7443\n",
            "Epoch 144/200\n",
            "73/73 [==============================] - 1s 15ms/step - loss: 1.1568 - accuracy: 0.7421\n",
            "Epoch 145/200\n",
            "73/73 [==============================] - 1s 17ms/step - loss: 1.1513 - accuracy: 0.7447\n",
            "Epoch 146/200\n",
            "73/73 [==============================] - 1s 16ms/step - loss: 1.1460 - accuracy: 0.7370\n",
            "Epoch 147/200\n",
            "73/73 [==============================] - 1s 16ms/step - loss: 1.1423 - accuracy: 0.7434\n",
            "Epoch 148/200\n",
            "73/73 [==============================] - 1s 15ms/step - loss: 1.1448 - accuracy: 0.7396\n",
            "Epoch 149/200\n",
            "73/73 [==============================] - 1s 15ms/step - loss: 1.1437 - accuracy: 0.7413\n",
            "Epoch 150/200\n",
            "73/73 [==============================] - 1s 16ms/step - loss: 1.1337 - accuracy: 0.7477\n",
            "Epoch 151/200\n",
            "73/73 [==============================] - 1s 16ms/step - loss: 1.1252 - accuracy: 0.7434\n",
            "Epoch 152/200\n",
            "73/73 [==============================] - 1s 16ms/step - loss: 1.1140 - accuracy: 0.7495\n",
            "Epoch 153/200\n",
            "73/73 [==============================] - 1s 16ms/step - loss: 1.1107 - accuracy: 0.7447\n",
            "Epoch 154/200\n",
            "73/73 [==============================] - 1s 16ms/step - loss: 1.1122 - accuracy: 0.7443\n",
            "Epoch 155/200\n",
            "73/73 [==============================] - 1s 17ms/step - loss: 1.1241 - accuracy: 0.7443\n",
            "Epoch 156/200\n",
            "73/73 [==============================] - 1s 16ms/step - loss: 1.1285 - accuracy: 0.7404\n",
            "Epoch 157/200\n",
            "73/73 [==============================] - 1s 16ms/step - loss: 1.1059 - accuracy: 0.7482\n",
            "Epoch 158/200\n",
            "73/73 [==============================] - 1s 16ms/step - loss: 1.0882 - accuracy: 0.7546\n",
            "Epoch 159/200\n",
            "73/73 [==============================] - 1s 16ms/step - loss: 1.0807 - accuracy: 0.7516\n",
            "Epoch 160/200\n",
            "73/73 [==============================] - 1s 16ms/step - loss: 1.0732 - accuracy: 0.7559\n",
            "Epoch 161/200\n",
            "73/73 [==============================] - 1s 16ms/step - loss: 1.0726 - accuracy: 0.7551\n",
            "Epoch 162/200\n",
            "73/73 [==============================] - 1s 17ms/step - loss: 1.0607 - accuracy: 0.7615\n",
            "Epoch 163/200\n",
            "73/73 [==============================] - 1s 16ms/step - loss: 1.0560 - accuracy: 0.7632\n",
            "Epoch 164/200\n",
            "73/73 [==============================] - 1s 16ms/step - loss: 1.0511 - accuracy: 0.7611\n",
            "Epoch 165/200\n",
            "73/73 [==============================] - 1s 18ms/step - loss: 1.0472 - accuracy: 0.7619\n",
            "Epoch 166/200\n",
            "73/73 [==============================] - 1s 16ms/step - loss: 1.0460 - accuracy: 0.7611\n",
            "Epoch 167/200\n",
            "73/73 [==============================] - 1s 15ms/step - loss: 1.0450 - accuracy: 0.7598\n",
            "Epoch 168/200\n",
            "73/73 [==============================] - 1s 16ms/step - loss: 1.0449 - accuracy: 0.7624\n",
            "Epoch 169/200\n",
            "73/73 [==============================] - 1s 15ms/step - loss: 1.0419 - accuracy: 0.7602\n",
            "Epoch 170/200\n",
            "73/73 [==============================] - 1s 15ms/step - loss: 1.0364 - accuracy: 0.7650\n",
            "Epoch 171/200\n",
            "73/73 [==============================] - 1s 18ms/step - loss: 1.0343 - accuracy: 0.7594\n",
            "Epoch 172/200\n",
            "73/73 [==============================] - 1s 16ms/step - loss: 1.0307 - accuracy: 0.7611\n",
            "Epoch 173/200\n",
            "73/73 [==============================] - 1s 16ms/step - loss: 1.0277 - accuracy: 0.7619\n",
            "Epoch 174/200\n",
            "73/73 [==============================] - 1s 16ms/step - loss: 1.0283 - accuracy: 0.7641\n",
            "Epoch 175/200\n",
            "73/73 [==============================] - 1s 16ms/step - loss: 1.0247 - accuracy: 0.7645\n",
            "Epoch 176/200\n",
            "73/73 [==============================] - 1s 16ms/step - loss: 1.0173 - accuracy: 0.7637\n",
            "Epoch 177/200\n",
            "73/73 [==============================] - 1s 17ms/step - loss: 1.0183 - accuracy: 0.7632\n",
            "Epoch 178/200\n",
            "73/73 [==============================] - 1s 16ms/step - loss: 1.0165 - accuracy: 0.7671\n",
            "Epoch 179/200\n",
            "73/73 [==============================] - 1s 16ms/step - loss: 1.0128 - accuracy: 0.7645\n",
            "Epoch 180/200\n",
            "73/73 [==============================] - 1s 16ms/step - loss: 1.0112 - accuracy: 0.7594\n",
            "Epoch 181/200\n",
            "73/73 [==============================] - 1s 16ms/step - loss: 1.0022 - accuracy: 0.7624\n",
            "Epoch 182/200\n",
            "73/73 [==============================] - 1s 16ms/step - loss: 0.9977 - accuracy: 0.7607\n",
            "Epoch 183/200\n",
            "73/73 [==============================] - 1s 16ms/step - loss: 0.9952 - accuracy: 0.7658\n",
            "Epoch 184/200\n",
            "73/73 [==============================] - 1s 16ms/step - loss: 0.9944 - accuracy: 0.7637\n",
            "Epoch 185/200\n",
            "73/73 [==============================] - 1s 16ms/step - loss: 0.9920 - accuracy: 0.7641\n",
            "Epoch 186/200\n",
            "73/73 [==============================] - 1s 16ms/step - loss: 0.9830 - accuracy: 0.7650\n",
            "Epoch 187/200\n",
            "73/73 [==============================] - 1s 16ms/step - loss: 0.9787 - accuracy: 0.7706\n",
            "Epoch 188/200\n",
            "73/73 [==============================] - 1s 16ms/step - loss: 0.9743 - accuracy: 0.7736\n",
            "Epoch 189/200\n",
            "73/73 [==============================] - 1s 15ms/step - loss: 0.9694 - accuracy: 0.7714\n",
            "Epoch 190/200\n",
            "73/73 [==============================] - 1s 15ms/step - loss: 0.9680 - accuracy: 0.7688\n",
            "Epoch 191/200\n",
            "73/73 [==============================] - 1s 15ms/step - loss: 0.9630 - accuracy: 0.7740\n",
            "Epoch 192/200\n",
            "73/73 [==============================] - 1s 16ms/step - loss: 0.9607 - accuracy: 0.7714\n",
            "Epoch 193/200\n",
            "73/73 [==============================] - 1s 16ms/step - loss: 0.9563 - accuracy: 0.7736\n",
            "Epoch 194/200\n",
            "73/73 [==============================] - 1s 16ms/step - loss: 0.9566 - accuracy: 0.7766\n",
            "Epoch 195/200\n",
            "73/73 [==============================] - 1s 17ms/step - loss: 0.9574 - accuracy: 0.7744\n",
            "Epoch 196/200\n",
            "73/73 [==============================] - 1s 15ms/step - loss: 0.9609 - accuracy: 0.7667\n",
            "Epoch 197/200\n",
            "73/73 [==============================] - 1s 16ms/step - loss: 0.9769 - accuracy: 0.7641\n",
            "Epoch 198/200\n",
            "73/73 [==============================] - 1s 18ms/step - loss: 1.0273 - accuracy: 0.7503\n",
            "Epoch 199/200\n",
            "73/73 [==============================] - 1s 16ms/step - loss: 0.9961 - accuracy: 0.7654\n",
            "Epoch 200/200\n",
            "73/73 [==============================] - 1s 16ms/step - loss: 0.9739 - accuracy: 0.7697\n"
          ]
        }
      ]
    },
    {
      "cell_type": "code",
      "metadata": {
        "id": "gF-f6srgKRYX"
      },
      "source": [
        "def plot_graph(history, string):\n",
        "  plt.plot(history.history[string])\n",
        "  # plt.plot(history.history['val_'+string])\n",
        "  plt.xlabel('Epochs')\n",
        "  plt.ylabel(string)\n",
        "  # plt.legend([string, 'val_'+string])\n",
        "  plt.show()"
      ],
      "execution_count": 50,
      "outputs": []
    },
    {
      "cell_type": "code",
      "metadata": {
        "colab": {
          "base_uri": "https://localhost:8080/",
          "height": 542
        },
        "id": "X4_P4ycUKRdA",
        "outputId": "e7dadb10-8578-4ec4-97c1-45bc94ead13f"
      },
      "source": [
        "plot_graph(history, 'accuracy')\n",
        "plot_graph(history, 'loss')"
      ],
      "execution_count": 51,
      "outputs": [
        {
          "output_type": "display_data",
          "data": {
            "image/png": "[encoded data removed]",
            "text/plain": [
              "<Figure size 432x288 with 1 Axes>"
            ]
          },
          "metadata": {
            "needs_background": "light"
          }
        },
        {
          "output_type": "display_data",
          "data": {
            "image/png": "[encoded data removed]",
            "text/plain": [
              "<Figure size 432x288 with 1 Axes>"
            ]
          },
          "metadata": {
            "needs_background": "light"
          }
        }
      ]
    },
    {
      "cell_type": "markdown",
      "metadata": {
        "id": "C7jmfNktRStX"
      },
      "source": [
        "# Generate New Lyrics"
      ]
    },
    {
      "cell_type": "code",
      "metadata": {
        "colab": {
          "base_uri": "https://localhost:8080/"
        },
        "id": "g6iAGcekKRsh",
        "outputId": "306838a4-8883-4b06-8916-1239e0f1befb"
      },
      "source": [
        "seed_text = 'im feeling chills'\n",
        "next_words = 100\n",
        "\n",
        "for _ in range(next_words):\n",
        "  token_list = tokenizer.texts_to_sequences([seed_text])[0]\n",
        "  token_list = pad_sequences(sequences=[token_list],\n",
        "                             maxlen=max_seq_len-1,\n",
        "                             padding='pre')\n",
        "  predicted = np.argmax(model.predict(token_list), axis=-1)\n",
        "\n",
        "  output_word = ''\n",
        "  for word, index in tokenizer.word_index.items():\n",
        "    if index == predicted:\n",
        "      output_word = word\n",
        "      break\n",
        "  seed_text += \" \" + output_word\n",
        "\n",
        "print(seed_text)\n"
      ],
      "execution_count": 52,
      "outputs": [
        {
          "output_type": "stream",
          "name": "stdout",
          "text": [
            "im feeling chills that to take it no more to the bone yourself care world would better pavement tough song mine new walk new walk been walk been walk you were morning yourself was tough take yourself yourself is walk give cassandra cassandra cassandra i didnt believe cassandra yourself care be walk a break sucker would weave rely feeling feeling boomaboomerang new new new walk heartaches happy new walk my kind giving girl leaving her her im blue eye wait sure do do was morning do think boomaboomerang love feeling boomaboomerang boomaboomerang love cassandra friend i realized crazy new new shoulder body my\n"
          ]
        }
      ]
    },
    {
      "cell_type": "code",
      "metadata": {
        "id": "MZRb1A3lRVDQ"
      },
      "source": [
        ""
      ],
      "execution_count": null,
      "outputs": []
    },
    {
      "cell_type": "code",
      "metadata": {
        "id": "PsxA75ZVRVF6"
      },
      "source": [
        ""
      ],
      "execution_count": null,
      "outputs": []
    },
    {
      "cell_type": "code",
      "metadata": {
        "id": "mOPiSNxDRVI4"
      },
      "source": [
        ""
      ],
      "execution_count": null,
      "outputs": []
    },
    {
      "cell_type": "code",
      "metadata": {
        "id": "0dvaABCMRVL7"
      },
      "source": [
        ""
      ],
      "execution_count": null,
      "outputs": []
    },
    {
      "cell_type": "code",
      "metadata": {
        "id": "KL_oHxgwRVWz"
      },
      "source": [
        ""
      ],
      "execution_count": null,
      "outputs": []
    }
  ]
}