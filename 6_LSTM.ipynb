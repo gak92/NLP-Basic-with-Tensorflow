{
  "nbformat": 4,
  "nbformat_minor": 0,
  "metadata": {
    "colab": {
      "name": "6_LSTM.ipynb",
      "provenance": [],
      "collapsed_sections": []
    },
    "kernelspec": {
      "name": "python3",
      "display_name": "Python 3"
    },
    "language_info": {
      "name": "python"
    }
  },
  "cells": [
    {
      "cell_type": "code",
      "metadata": {
        "id": "SmSsDYxi0R5v"
      },
      "source": [
        "import tensorflow as tf\n",
        "import numpy as np\n",
        "import pandas as pd\n",
        "import matplotlib.pyplot as plt\n",
        "import tensorflow_datasets as tfds\n",
        "import io\n",
        "\n",
        "from tensorflow.keras.preprocessing.sequence import pad_sequences\n",
        "from tensorflow.keras.preprocessing.text import Tokenizer"
      ],
      "execution_count": 61,
      "outputs": []
    },
    {
      "cell_type": "markdown",
      "metadata": {
        "id": "BbRwaU1l09el"
      },
      "source": [
        "* https://www.kaggle.com/marklvl/sentiment-labelled-sentences-data-set\n",
        "* sentiment (1 for positive, 0 for negative)"
      ]
    },
    {
      "cell_type": "code",
      "metadata": {
        "colab": {
          "base_uri": "https://localhost:8080/"
        },
        "id": "ypVO8RFi08JF",
        "outputId": "04ab8102-218c-4b6a-f295-b61feb353c65"
      },
      "source": [
        "URL = 'https://drive.google.com/uc?id=13ySLC_ue6Umt9RJYSeM2t-V0kCv-4C-P'\n",
        "file_path = tf.keras.utils.get_file('sentiments.csv', URL)\n",
        "print(file_path)"
      ],
      "execution_count": 62,
      "outputs": [
        {
          "output_type": "stream",
          "name": "stdout",
          "text": [
            "/root/.keras/datasets/sentiments.csv\n"
          ]
        }
      ]
    },
    {
      "cell_type": "code",
      "metadata": {
        "colab": {
          "base_uri": "https://localhost:8080/",
          "height": 204
        },
        "id": "_4JnCdbn0xo9",
        "outputId": "8632bf04-5a38-41f9-9dac-d4192ddf5965"
      },
      "source": [
        "dataset = pd.read_csv(file_path)\n",
        "dataset.head()"
      ],
      "execution_count": 63,
      "outputs": [
        {
          "output_type": "execute_result",
          "data": {
            "text/html": [
              "<div>\n",
              "<style scoped>\n",
              "    .dataframe tbody tr th:only-of-type {\n",
              "        vertical-align: middle;\n",
              "    }\n",
              "\n",
              "    .dataframe tbody tr th {\n",
              "        vertical-align: top;\n",
              "    }\n",
              "\n",
              "    .dataframe thead th {\n",
              "        text-align: right;\n",
              "    }\n",
              "</style>\n",
              "<table border=\"1\" class=\"dataframe\">\n",
              "  <thead>\n",
              "    <tr style=\"text-align: right;\">\n",
              "      <th></th>\n",
              "      <th>Unnamed: 0</th>\n",
              "      <th>text</th>\n",
              "      <th>sentiment</th>\n",
              "    </tr>\n",
              "  </thead>\n",
              "  <tbody>\n",
              "    <tr>\n",
              "      <th>0</th>\n",
              "      <td>0</td>\n",
              "      <td>So there is no way for me to plug it in here i...</td>\n",
              "      <td>0</td>\n",
              "    </tr>\n",
              "    <tr>\n",
              "      <th>1</th>\n",
              "      <td>1</td>\n",
              "      <td>Good case Excellent value.</td>\n",
              "      <td>1</td>\n",
              "    </tr>\n",
              "    <tr>\n",
              "      <th>2</th>\n",
              "      <td>2</td>\n",
              "      <td>Great for the jawbone.</td>\n",
              "      <td>1</td>\n",
              "    </tr>\n",
              "    <tr>\n",
              "      <th>3</th>\n",
              "      <td>3</td>\n",
              "      <td>Tied to charger for conversations lasting more...</td>\n",
              "      <td>0</td>\n",
              "    </tr>\n",
              "    <tr>\n",
              "      <th>4</th>\n",
              "      <td>4</td>\n",
              "      <td>The mic is great.</td>\n",
              "      <td>1</td>\n",
              "    </tr>\n",
              "  </tbody>\n",
              "</table>\n",
              "</div>"
            ],
            "text/plain": [
              "   Unnamed: 0                                               text  sentiment\n",
              "0           0  So there is no way for me to plug it in here i...          0\n",
              "1           1                         Good case Excellent value.          1\n",
              "2           2                             Great for the jawbone.          1\n",
              "3           3  Tied to charger for conversations lasting more...          0\n",
              "4           4                                  The mic is great.          1"
            ]
          },
          "metadata": {},
          "execution_count": 63
        }
      ]
    },
    {
      "cell_type": "code",
      "metadata": {
        "colab": {
          "base_uri": "https://localhost:8080/"
        },
        "id": "NrAGTzYy0xra",
        "outputId": "b0685227-8abf-4f4d-92ad-fc1013900449"
      },
      "source": [
        "sentences = dataset['text'].tolist()\n",
        "labels = dataset['sentiment'].tolist()\n",
        "\n",
        "len(sentences), len(labels)"
      ],
      "execution_count": 64,
      "outputs": [
        {
          "output_type": "execute_result",
          "data": {
            "text/plain": [
              "(1992, 1992)"
            ]
          },
          "metadata": {},
          "execution_count": 64
        }
      ]
    },
    {
      "cell_type": "code",
      "metadata": {
        "colab": {
          "base_uri": "https://localhost:8080/"
        },
        "id": "7dWRwd_K0xuN",
        "outputId": "bea58bab-ebaa-4982-e4ed-b5f41ed7e76c"
      },
      "source": [
        "for i in range(2):\n",
        "  print(sentences[i], labels[i])"
      ],
      "execution_count": 65,
      "outputs": [
        {
          "output_type": "stream",
          "name": "stdout",
          "text": [
            "So there is no way for me to plug it in here in the US unless I go by a converter. 0\n",
            "Good case Excellent value. 1\n"
          ]
        }
      ]
    },
    {
      "cell_type": "markdown",
      "metadata": {
        "id": "RraFPl3QIxn2"
      },
      "source": [
        "# Creating subword dataset"
      ]
    },
    {
      "cell_type": "code",
      "metadata": {
        "id": "ESKvzJWH0xwo"
      },
      "source": [
        "VOCAB_SIZE = 1000"
      ],
      "execution_count": 66,
      "outputs": []
    },
    {
      "cell_type": "code",
      "metadata": {
        "colab": {
          "base_uri": "https://localhost:8080/"
        },
        "id": "AmdAKVcy0xzI",
        "outputId": "05625186-eb90-41d0-a15a-f7567f6f49e3"
      },
      "source": [
        "tokenizer = tfds.deprecated.text.SubwordTextEncoder.build_from_corpus(corpus_generator=sentences,\n",
        "                                                                      target_vocab_size=VOCAB_SIZE,\n",
        "                                                                      max_subword_length=5)\n",
        "tokenizer"
      ],
      "execution_count": 67,
      "outputs": [
        {
          "output_type": "execute_result",
          "data": {
            "text/plain": [
              "<SubwordTextEncoder vocab_size=999>"
            ]
          },
          "metadata": {},
          "execution_count": 67
        }
      ]
    },
    {
      "cell_type": "code",
      "metadata": {
        "colab": {
          "base_uri": "https://localhost:8080/"
        },
        "id": "Lpf3H2Bv0x1o",
        "outputId": "495695ac-8335-4f0c-ddf2-3d7216f5b65a"
      },
      "source": [
        "tokenizer.vocab_size"
      ],
      "execution_count": 68,
      "outputs": [
        {
          "output_type": "execute_result",
          "data": {
            "text/plain": [
              "999"
            ]
          },
          "metadata": {},
          "execution_count": 68
        }
      ]
    },
    {
      "cell_type": "code",
      "metadata": {
        "colab": {
          "base_uri": "https://localhost:8080/"
        },
        "id": "zD0cBc9z0x4x",
        "outputId": "51244835-3340-4fe8-93ea-24a74a625336"
      },
      "source": [
        "idx = 5\n",
        "print(sentences[idx])\n",
        "\n",
        "encoded = tokenizer.encode(sentences[idx])\n",
        "print(encoded)\n",
        "\n",
        "for i in encoded:\n",
        "  print(i, ' --> ', tokenizer.decode([i]))"
      ],
      "execution_count": 69,
      "outputs": [
        {
          "output_type": "stream",
          "name": "stdout",
          "text": [
            "I have to jiggle the plug to get it to line up right to get decent volume.\n",
            "[4, 31, 6, 849, 162, 450, 12, 1, 600, 438, 775, 6, 175, 14, 6, 55, 213, 159, 474, 775, 6, 175, 614, 380, 295, 148, 72, 789]\n",
            "4  -->  I \n",
            "31  -->  have \n",
            "6  -->  to \n",
            "849  -->  j\n",
            "162  -->  ig\n",
            "450  -->  gl\n",
            "12  -->  e \n",
            "1  -->  the \n",
            "600  -->  pl\n",
            "438  -->  ug\n",
            "775  -->   \n",
            "6  -->  to \n",
            "175  -->  get \n",
            "14  -->  it \n",
            "6  -->  to \n",
            "55  -->  li\n",
            "213  -->  ne \n",
            "159  -->  up \n",
            "474  -->  right\n",
            "775  -->   \n",
            "6  -->  to \n",
            "175  -->  get \n",
            "614  -->  dec\n",
            "380  -->  ent \n",
            "295  -->  vo\n",
            "148  -->  lu\n",
            "72  -->  me\n",
            "789  -->  .\n"
          ]
        }
      ]
    },
    {
      "cell_type": "markdown",
      "metadata": {
        "id": "6sXjCaFQKW-Q"
      },
      "source": [
        "# Replace sentences with encoded subwords"
      ]
    },
    {
      "cell_type": "code",
      "metadata": {
        "id": "dA3XekUz0yJA"
      },
      "source": [
        "for i,sentence in enumerate(sentences):\n",
        "  sentences[i] = tokenizer.encode(sentence)"
      ],
      "execution_count": 70,
      "outputs": []
    },
    {
      "cell_type": "code",
      "metadata": {
        "colab": {
          "base_uri": "https://localhost:8080/"
        },
        "id": "kD_IQMjiKdRo",
        "outputId": "b6958d12-25d0-451c-ac62-459776374b60"
      },
      "source": [
        "print(sentences[0])"
      ],
      "execution_count": 71,
      "outputs": [
        {
          "output_type": "stream",
          "name": "stdout",
          "text": [
            "[736, 168, 775, 7, 193, 417, 17, 94, 6, 600, 438, 775, 14, 19, 141, 19, 1, 828, 826, 775, 99, 445, 4, 174, 361, 5, 79, 227, 139, 789]\n"
          ]
        }
      ]
    },
    {
      "cell_type": "markdown",
      "metadata": {
        "id": "zfvL42D3K7R6"
      },
      "source": [
        "# Splitting Dataset"
      ]
    },
    {
      "cell_type": "code",
      "metadata": {
        "id": "XA3z-CF5KdUJ"
      },
      "source": [
        "MAX_LENGTH = 50\n",
        "TRUNC_TYPE = 'post'\n",
        "PADDING_TYPE = 'post'"
      ],
      "execution_count": 72,
      "outputs": []
    },
    {
      "cell_type": "code",
      "metadata": {
        "colab": {
          "base_uri": "https://localhost:8080/"
        },
        "id": "Ynm253AeKdW4",
        "outputId": "35c405b7-9efe-4974-ee2c-740424a3ce17"
      },
      "source": [
        "padded_sentences = pad_sequences(sequences=sentences,\n",
        "                                 maxlen=MAX_LENGTH,\n",
        "                                 padding=PADDING_TYPE,\n",
        "                                 truncating=TRUNC_TYPE)\n",
        "padded_sentences[0]"
      ],
      "execution_count": 73,
      "outputs": [
        {
          "output_type": "execute_result",
          "data": {
            "text/plain": [
              "array([736, 168, 775,   7, 193, 417,  17,  94,   6, 600, 438, 775,  14,\n",
              "        19, 141,  19,   1, 828, 826, 775,  99, 445,   4, 174, 361,   5,\n",
              "        79, 227, 139, 789,   0,   0,   0,   0,   0,   0,   0,   0,   0,\n",
              "         0,   0,   0,   0,   0,   0,   0,   0,   0,   0,   0], dtype=int32)"
            ]
          },
          "metadata": {},
          "execution_count": 73
        }
      ]
    },
    {
      "cell_type": "code",
      "metadata": {
        "colab": {
          "base_uri": "https://localhost:8080/"
        },
        "id": "cBnJNkZALEc2",
        "outputId": "57026e51-2dd8-4c2e-e8ca-38628f7a26d0"
      },
      "source": [
        "training_size = int(len(sentences) * 0.8)\n",
        "training_size"
      ],
      "execution_count": 74,
      "outputs": [
        {
          "output_type": "execute_result",
          "data": {
            "text/plain": [
              "1593"
            ]
          },
          "metadata": {},
          "execution_count": 74
        }
      ]
    },
    {
      "cell_type": "code",
      "metadata": {
        "colab": {
          "base_uri": "https://localhost:8080/"
        },
        "id": "k2BbnSoMLEfD",
        "outputId": "6d6c0dcc-3666-4cf7-ff71-a0c9084f7911"
      },
      "source": [
        "training_sequences = padded_sentences[:training_size]\n",
        "testing_sequences = padded_sentences[training_size:]\n",
        "\n",
        "training_labels = labels[:training_size]\n",
        "testing_labels = labels[training_size:]\n",
        "\n",
        "training_labels_final = np.array(training_labels)\n",
        "testing_labels_final = np.array(testing_labels)\n",
        "\n",
        "len(training_sentences), len(training_labels), len(testing_sentences), len(testing_labels)"
      ],
      "execution_count": 75,
      "outputs": [
        {
          "output_type": "execute_result",
          "data": {
            "text/plain": [
              "(1593, 1593, 399, 399)"
            ]
          },
          "metadata": {},
          "execution_count": 75
        }
      ]
    },
    {
      "cell_type": "markdown",
      "metadata": {
        "id": "KYaZkTkKLUgQ"
      },
      "source": [
        "# Creating Model with Embedding Layer"
      ]
    },
    {
      "cell_type": "code",
      "metadata": {
        "id": "KPa0p3_KLcay"
      },
      "source": [
        "EMBEDDING_DIM = 16"
      ],
      "execution_count": 76,
      "outputs": []
    },
    {
      "cell_type": "code",
      "metadata": {
        "id": "UXIBjbLyLEiC"
      },
      "source": [
        "model = tf.keras.Sequential([\n",
        "    tf.keras.layers.Embedding(VOCAB_SIZE,\n",
        "                              EMBEDDING_DIM,\n",
        "                              input_length=MAX_LENGTH),\n",
        "    tf.keras.layers.GlobalAveragePooling1D(),\n",
        "    tf.keras.layers.Dense(6, activation='relu'),\n",
        "    tf.keras.layers.Dense(1, activation='sigmoid')\n",
        "])"
      ],
      "execution_count": 77,
      "outputs": []
    },
    {
      "cell_type": "code",
      "metadata": {
        "id": "frOiWxUrLEk3"
      },
      "source": [
        "model.compile(\n",
        "    loss = tf.keras.losses.BinaryCrossentropy(),\n",
        "    optimizer = tf.keras.optimizers.Adam(),\n",
        "    metrics = ['accuracy']\n",
        ")"
      ],
      "execution_count": 78,
      "outputs": []
    },
    {
      "cell_type": "code",
      "metadata": {
        "colab": {
          "base_uri": "https://localhost:8080/"
        },
        "id": "9w6raj8ILEvB",
        "outputId": "6b486cb0-1fa5-4296-94dd-a3a75345322d"
      },
      "source": [
        "model.summary()"
      ],
      "execution_count": 79,
      "outputs": [
        {
          "output_type": "stream",
          "name": "stdout",
          "text": [
            "Model: \"sequential_5\"\n",
            "_________________________________________________________________\n",
            "Layer (type)                 Output Shape              Param #   \n",
            "=================================================================\n",
            "embedding_5 (Embedding)      (None, 50, 16)            16000     \n",
            "_________________________________________________________________\n",
            "global_average_pooling1d_2 ( (None, 16)                0         \n",
            "_________________________________________________________________\n",
            "dense_10 (Dense)             (None, 6)                 102       \n",
            "_________________________________________________________________\n",
            "dense_11 (Dense)             (None, 1)                 7         \n",
            "=================================================================\n",
            "Total params: 16,109\n",
            "Trainable params: 16,109\n",
            "Non-trainable params: 0\n",
            "_________________________________________________________________\n"
          ]
        }
      ]
    },
    {
      "cell_type": "code",
      "metadata": {
        "colab": {
          "base_uri": "https://localhost:8080/"
        },
        "id": "P97fpfFuLEx_",
        "outputId": "9b271c92-1683-4648-811b-5bbf5c16e2cb"
      },
      "source": [
        "NUM_EPOCHS = 30\n",
        "\n",
        "history = model.fit(x=training_seuences,\n",
        "                    y=training_labels_final,\n",
        "                    epochs=NUM_EPOCHS,\n",
        "                    validation_data=(testing_sequences, testing_labels_final))"
      ],
      "execution_count": 80,
      "outputs": [
        {
          "output_type": "stream",
          "name": "stdout",
          "text": [
            "Epoch 1/30\n",
            "50/50 [==============================] - 1s 5ms/step - loss: 0.6901 - accuracy: 0.5229 - val_loss: 0.7008 - val_accuracy: 0.4311\n",
            "Epoch 2/30\n",
            "50/50 [==============================] - 0s 3ms/step - loss: 0.6842 - accuracy: 0.5474 - val_loss: 0.6965 - val_accuracy: 0.4737\n",
            "Epoch 3/30\n",
            "50/50 [==============================] - 0s 3ms/step - loss: 0.6752 - accuracy: 0.5913 - val_loss: 0.6903 - val_accuracy: 0.4987\n",
            "Epoch 4/30\n",
            "50/50 [==============================] - 0s 2ms/step - loss: 0.6608 - accuracy: 0.6190 - val_loss: 0.6718 - val_accuracy: 0.5890\n",
            "Epoch 5/30\n",
            "50/50 [==============================] - 0s 2ms/step - loss: 0.6369 - accuracy: 0.6981 - val_loss: 0.6645 - val_accuracy: 0.5464\n",
            "Epoch 6/30\n",
            "50/50 [==============================] - 0s 2ms/step - loss: 0.6064 - accuracy: 0.7370 - val_loss: 0.6395 - val_accuracy: 0.6341\n",
            "Epoch 7/30\n",
            "50/50 [==============================] - 0s 3ms/step - loss: 0.5660 - accuracy: 0.7910 - val_loss: 0.6132 - val_accuracy: 0.6792\n",
            "Epoch 8/30\n",
            "50/50 [==============================] - 0s 2ms/step - loss: 0.5241 - accuracy: 0.8230 - val_loss: 0.5889 - val_accuracy: 0.6967\n",
            "Epoch 9/30\n",
            "50/50 [==============================] - 0s 2ms/step - loss: 0.4823 - accuracy: 0.8443 - val_loss: 0.5635 - val_accuracy: 0.7343\n",
            "Epoch 10/30\n",
            "50/50 [==============================] - 0s 2ms/step - loss: 0.4430 - accuracy: 0.8537 - val_loss: 0.5469 - val_accuracy: 0.7419\n",
            "Epoch 11/30\n",
            "50/50 [==============================] - 0s 3ms/step - loss: 0.4081 - accuracy: 0.8663 - val_loss: 0.5251 - val_accuracy: 0.7419\n",
            "Epoch 12/30\n",
            "50/50 [==============================] - 0s 3ms/step - loss: 0.3797 - accuracy: 0.8688 - val_loss: 0.5138 - val_accuracy: 0.7494\n",
            "Epoch 13/30\n",
            "50/50 [==============================] - 0s 2ms/step - loss: 0.3530 - accuracy: 0.8845 - val_loss: 0.5163 - val_accuracy: 0.7444\n",
            "Epoch 14/30\n",
            "50/50 [==============================] - 0s 2ms/step - loss: 0.3287 - accuracy: 0.8864 - val_loss: 0.4946 - val_accuracy: 0.7569\n",
            "Epoch 15/30\n",
            "50/50 [==============================] - 0s 2ms/step - loss: 0.3105 - accuracy: 0.8920 - val_loss: 0.5094 - val_accuracy: 0.7469\n",
            "Epoch 16/30\n",
            "50/50 [==============================] - 0s 2ms/step - loss: 0.2926 - accuracy: 0.9014 - val_loss: 0.5056 - val_accuracy: 0.7469\n",
            "Epoch 17/30\n",
            "50/50 [==============================] - 0s 3ms/step - loss: 0.2770 - accuracy: 0.9102 - val_loss: 0.5052 - val_accuracy: 0.7519\n",
            "Epoch 18/30\n",
            "50/50 [==============================] - 0s 3ms/step - loss: 0.2616 - accuracy: 0.9127 - val_loss: 0.5141 - val_accuracy: 0.7494\n",
            "Epoch 19/30\n",
            "50/50 [==============================] - 0s 3ms/step - loss: 0.2486 - accuracy: 0.9178 - val_loss: 0.5483 - val_accuracy: 0.7444\n",
            "Epoch 20/30\n",
            "50/50 [==============================] - 0s 2ms/step - loss: 0.2383 - accuracy: 0.9184 - val_loss: 0.5131 - val_accuracy: 0.7569\n",
            "Epoch 21/30\n",
            "50/50 [==============================] - 0s 2ms/step - loss: 0.2265 - accuracy: 0.9278 - val_loss: 0.5298 - val_accuracy: 0.7544\n",
            "Epoch 22/30\n",
            "50/50 [==============================] - 0s 2ms/step - loss: 0.2190 - accuracy: 0.9291 - val_loss: 0.5567 - val_accuracy: 0.7419\n",
            "Epoch 23/30\n",
            "50/50 [==============================] - 0s 3ms/step - loss: 0.2091 - accuracy: 0.9335 - val_loss: 0.5336 - val_accuracy: 0.7644\n",
            "Epoch 24/30\n",
            "50/50 [==============================] - 0s 2ms/step - loss: 0.1994 - accuracy: 0.9397 - val_loss: 0.5323 - val_accuracy: 0.7619\n",
            "Epoch 25/30\n",
            "50/50 [==============================] - 0s 3ms/step - loss: 0.1925 - accuracy: 0.9422 - val_loss: 0.5628 - val_accuracy: 0.7569\n",
            "Epoch 26/30\n",
            "50/50 [==============================] - 0s 2ms/step - loss: 0.1850 - accuracy: 0.9404 - val_loss: 0.5486 - val_accuracy: 0.7644\n",
            "Epoch 27/30\n",
            "50/50 [==============================] - 0s 2ms/step - loss: 0.1782 - accuracy: 0.9510 - val_loss: 0.5809 - val_accuracy: 0.7619\n",
            "Epoch 28/30\n",
            "50/50 [==============================] - 0s 3ms/step - loss: 0.1719 - accuracy: 0.9542 - val_loss: 0.5933 - val_accuracy: 0.7594\n",
            "Epoch 29/30\n",
            "50/50 [==============================] - 0s 2ms/step - loss: 0.1652 - accuracy: 0.9561 - val_loss: 0.5839 - val_accuracy: 0.7644\n",
            "Epoch 30/30\n",
            "50/50 [==============================] - 0s 2ms/step - loss: 0.1606 - accuracy: 0.9561 - val_loss: 0.6259 - val_accuracy: 0.7594\n"
          ]
        }
      ]
    },
    {
      "cell_type": "code",
      "metadata": {
        "colab": {
          "base_uri": "https://localhost:8080/"
        },
        "id": "cKSZavJqKdah",
        "outputId": "c9d573bc-d75c-40c4-f54c-4f004417d00b"
      },
      "source": [
        "model_loss_acc = model.evaluate(testing_sequences, testing_labels_final)\n",
        "model_loss_acc"
      ],
      "execution_count": 81,
      "outputs": [
        {
          "output_type": "stream",
          "name": "stdout",
          "text": [
            "13/13 [==============================] - 0s 2ms/step - loss: 0.6259 - accuracy: 0.7594\n"
          ]
        },
        {
          "output_type": "execute_result",
          "data": {
            "text/plain": [
              "[0.6259191036224365, 0.7593985199928284]"
            ]
          },
          "metadata": {},
          "execution_count": 81
        }
      ]
    },
    {
      "cell_type": "markdown",
      "metadata": {
        "id": "VTakN5T8L2Zr"
      },
      "source": [
        "# Plot Accuracy & Loss Graph"
      ]
    },
    {
      "cell_type": "code",
      "metadata": {
        "id": "psUu6VVkL6Id"
      },
      "source": [
        "def plot_graph(history, string):\n",
        "  plt.plot(history.history[string])\n",
        "  plt.plot(history.history['val_'+string])\n",
        "  plt.xlabel('Epochs')\n",
        "  plt.ylabel(string)\n",
        "  plt.legend([string, 'val_'+string])\n",
        "  plt.show()"
      ],
      "execution_count": 82,
      "outputs": []
    },
    {
      "cell_type": "code",
      "metadata": {
        "colab": {
          "base_uri": "https://localhost:8080/",
          "height": 541
        },
        "id": "Mt9nZqUlL6Ln",
        "outputId": "941470a0-caa5-4d63-ef16-01b2f592df96"
      },
      "source": [
        "plot_graph(history, 'accuracy')\n",
        "plot_graph(history, 'loss')\n"
      ],
      "execution_count": 83,
      "outputs": [
        {
          "output_type": "display_data",
          "data": {
            "image/png": "[encoded data removed]",
            "text/plain": [
              "<Figure size 432x288 with 1 Axes>"
            ]
          },
          "metadata": {
            "needs_background": "light"
          }
        },
        {
          "output_type": "display_data",
          "data": {
            "image/png": "[encoded data removed]",
            "text/plain": [
              "<Figure size 432x288 with 1 Axes>"
            ]
          },
          "metadata": {
            "needs_background": "light"
          }
        }
      ]
    },
    {
      "cell_type": "markdown",
      "metadata": {
        "id": "bOLcS5jaMLxr"
      },
      "source": [
        "# Function to predict sentiment of review"
      ]
    },
    {
      "cell_type": "code",
      "metadata": {
        "id": "9zbDhD88L6Oc"
      },
      "source": [
        "def predict_review(model, new_sentences, maxlen=MAX_LENGTH, show_padded_sequence=True):\n",
        "  new_sequences = []\n",
        "\n",
        "  for i, sent in enumerate(new_sentences):\n",
        "    new_sequences.append(tokenizer.encode(sent))\n",
        "\n",
        "  TRUNC_TYPE = 'post'\n",
        "  PADDING_TYPE = 'post'\n",
        "\n",
        "  new_reviews_padded = pad_sequences(sequences=new_sequences,\n",
        "                                    maxlen=maxlen,\n",
        "                                    padding=PADDING_TYPE,\n",
        "                                    truncating=TRUNC_TYPE)\n",
        "  classes = model.predict(new_reviews_padded)\n",
        "\n",
        "  for x in range(len(new_sentences)):\n",
        "    if(show_padded_sequence):\n",
        "      print(new_reviews_padded[x])\n",
        "    print(new_sentences[x])\n",
        "    print(classes[x])\n",
        "    print('\\n')\n"
      ],
      "execution_count": 84,
      "outputs": []
    },
    {
      "cell_type": "code",
      "metadata": {
        "colab": {
          "base_uri": "https://localhost:8080/"
        },
        "id": "Xwt4aNkUL6Rr",
        "outputId": "4ec43be7-0ff9-4751-ff04-1e10e9c923e2"
      },
      "source": [
        "# Use the model to predict some reviews   \n",
        "fake_reviews = [\"I love this phone\", \n",
        "                \"Everything was cold\",\n",
        "                \"Everything was hot exactly as I wanted\", \n",
        "                \"Everything was green\", \n",
        "                \"the host seated us immediately\",\n",
        "                \"they gave us free chocolate cake\", \n",
        "                \"we couldn't hear each other talk because of the shouting in the kitchen\"\n",
        "              ]\n",
        "\n",
        "predict_review(model, fake_reviews)\n"
      ],
      "execution_count": 85,
      "outputs": [
        {
          "output_type": "stream",
          "name": "stdout",
          "text": [
            "[  4 281  16  25   0   0   0   0   0   0   0   0   0   0   0   0   0   0\n",
            "   0   0   0   0   0   0   0   0   0   0   0   0   0   0   0   0   0   0\n",
            "   0   0   0   0   0   0   0   0   0   0   0   0   0   0]\n",
            "I love this phone\n",
            "[0.9513852]\n",
            "\n",
            "\n",
            "[812 227 864 100 775   9 525 843   0   0   0   0   0   0   0   0   0   0\n",
            "   0   0   0   0   0   0   0   0   0   0   0   0   0   0   0   0   0   0\n",
            "   0   0   0   0   0   0   0   0   0   0   0   0   0   0]\n",
            "Everything was cold\n",
            "[0.12914357]\n",
            "\n",
            "\n",
            "[812 227 864 100 775   9 109   8 333 731  24  61   4 171  59  77   0   0\n",
            "   0   0   0   0   0   0   0   0   0   0   0   0   0   0   0   0   0   0\n",
            "   0   0   0   0   0   0   0   0   0   0   0   0   0   0]\n",
            "Everything was hot exactly as I wanted\n",
            "[0.40447378]\n",
            "\n",
            "\n",
            "[812 227 864 100 775   9 157 359 853   0   0   0   0   0   0   0   0   0\n",
            "   0   0   0   0   0   0   0   0   0   0   0   0   0   0   0   0   0   0\n",
            "   0   0   0   0   0   0   0   0   0   0   0   0   0   0]\n",
            "Everything was green\n",
            "[0.11892584]\n",
            "\n",
            "\n",
            "[  1 109 228 540 237 635 241 423 340  89 298   0   0   0   0   0   0   0\n",
            "   0   0   0   0   0   0   0   0   0   0   0   0   0   0   0   0   0   0\n",
            "   0   0   0   0   0   0   0   0   0   0   0   0   0   0]\n",
            "the host seated us immediately\n",
            "[0.6419929]\n",
            "\n",
            "\n",
            "[154 242  47 635 341  12 569 547 147 319 775 125  85   0   0   0   0   0\n",
            "   0   0   0   0   0   0   0   0   0   0   0   0   0   0   0   0   0   0\n",
            "   0   0   0   0   0   0   0   0   0   0   0   0   0   0]\n",
            "they gave us free chocolate cake\n",
            "[0.8051297]\n",
            "\n",
            "\n",
            "[158 190 853 782   8 607 775 210 232 146 775 470  67 305 101  15   1 328\n",
            " 296  26  19   1 661 641 195   0   0   0   0   0   0   0   0   0   0   0\n",
            "   0   0   0   0   0   0   0   0   0   0   0   0   0   0]\n",
            "we couldn't hear each other talk because of the shouting in the kitchen\n",
            "[0.02590618]\n",
            "\n",
            "\n"
          ]
        }
      ]
    },
    {
      "cell_type": "markdown",
      "metadata": {
        "id": "0BhE4QkrPkHs"
      },
      "source": [
        "# Function to fit model and show result"
      ]
    },
    {
      "cell_type": "code",
      "metadata": {
        "id": "2YOJ2hxEL6VT"
      },
      "source": [
        "def fit_model(model, sentences):\n",
        "  model.compile(\n",
        "      loss = 'binary_crossentropy',\n",
        "      optimizer = 'adam',\n",
        "      metrics = ['accuracy']\n",
        "  )\n",
        "  model.summary()\n",
        "  history = model.fit(x=training_sequences,\n",
        "                      y=training_labels_final,\n",
        "                      epochs=NUM_EPOCHS,\n",
        "                      validation_data=(testing_sequences, testing_labels_final))\n",
        "  return history\n",
        "  \n",
        "\n",
        "def plot_result(history):\n",
        "  plot_graph(history, 'accuracy')\n",
        "  plot_graph(history, 'loss')\n",
        "\n",
        "\n",
        "def fit_model_and_show_result(model, sentences):\n",
        "  history = fit_model(model, sentences)\n",
        "  plot_result(history)\n",
        "  predict_review(model, sentences)"
      ],
      "execution_count": 86,
      "outputs": []
    },
    {
      "cell_type": "markdown",
      "metadata": {
        "id": "bZEUeMs-Rhj_"
      },
      "source": [
        "# 1- Create a Bidirectional LSTM Model"
      ]
    },
    {
      "cell_type": "code",
      "metadata": {
        "id": "DGKPXOWVPn5L"
      },
      "source": [
        "model_bilstm = tf.keras.Sequential([\n",
        "    tf.keras.layers.Embedding(VOCAB_SIZE,\n",
        "                              EMBEDDING_DIM,\n",
        "                              input_length=MAX_LENGTH),\n",
        "    tf.keras.layers.Bidirectional(tf.keras.layers.LSTM(EMBEDDING_DIM)),\n",
        "    tf.keras.layers.Dense(6, activation='relu'),\n",
        "    tf.keras.layers.Dense(1, activation='sigmoid')\n",
        "])"
      ],
      "execution_count": 87,
      "outputs": []
    },
    {
      "cell_type": "code",
      "metadata": {
        "colab": {
          "base_uri": "https://localhost:8080/",
          "height": 1000
        },
        "id": "ER_631cnPn_l",
        "outputId": "bf58aef0-00ab-4508-e700-bca30b14648c"
      },
      "source": [
        "fit_model_and_show_result(model_bilstm, fake_reviews)"
      ],
      "execution_count": 88,
      "outputs": [
        {
          "output_type": "stream",
          "name": "stdout",
          "text": [
            "Model: \"sequential_6\"\n",
            "_________________________________________________________________\n",
            "Layer (type)                 Output Shape              Param #   \n",
            "=================================================================\n",
            "embedding_6 (Embedding)      (None, 50, 16)            16000     \n",
            "_________________________________________________________________\n",
            "bidirectional_3 (Bidirection (None, 32)                4224      \n",
            "_________________________________________________________________\n",
            "dense_12 (Dense)             (None, 6)                 198       \n",
            "_________________________________________________________________\n",
            "dense_13 (Dense)             (None, 1)                 7         \n",
            "=================================================================\n",
            "Total params: 20,429\n",
            "Trainable params: 20,429\n",
            "Non-trainable params: 0\n",
            "_________________________________________________________________\n",
            "Epoch 1/30\n",
            "50/50 [==============================] - 6s 50ms/step - loss: 0.6896 - accuracy: 0.5267 - val_loss: 0.6936 - val_accuracy: 0.4311\n",
            "Epoch 2/30\n",
            "50/50 [==============================] - 2s 33ms/step - loss: 0.6356 - accuracy: 0.6742 - val_loss: 0.5790 - val_accuracy: 0.7469\n",
            "Epoch 3/30\n",
            "50/50 [==============================] - 2s 32ms/step - loss: 0.4604 - accuracy: 0.7910 - val_loss: 0.5048 - val_accuracy: 0.7594\n",
            "Epoch 4/30\n",
            "50/50 [==============================] - 2s 32ms/step - loss: 0.3330 - accuracy: 0.8650 - val_loss: 0.5289 - val_accuracy: 0.7469\n",
            "Epoch 5/30\n",
            "50/50 [==============================] - 2s 32ms/step - loss: 0.2519 - accuracy: 0.8989 - val_loss: 0.5318 - val_accuracy: 0.7619\n",
            "Epoch 6/30\n",
            "50/50 [==============================] - 2s 32ms/step - loss: 0.2058 - accuracy: 0.9309 - val_loss: 0.6238 - val_accuracy: 0.7469\n",
            "Epoch 7/30\n",
            "50/50 [==============================] - 2s 32ms/step - loss: 0.1567 - accuracy: 0.9523 - val_loss: 0.6818 - val_accuracy: 0.7419\n",
            "Epoch 8/30\n",
            "50/50 [==============================] - 2s 32ms/step - loss: 0.1345 - accuracy: 0.9573 - val_loss: 0.7706 - val_accuracy: 0.7494\n",
            "Epoch 9/30\n",
            "50/50 [==============================] - 2s 32ms/step - loss: 0.1034 - accuracy: 0.9718 - val_loss: 0.8485 - val_accuracy: 0.7444\n",
            "Epoch 10/30\n",
            "50/50 [==============================] - 2s 32ms/step - loss: 0.0912 - accuracy: 0.9812 - val_loss: 0.8738 - val_accuracy: 0.7393\n",
            "Epoch 11/30\n",
            "50/50 [==============================] - 2s 33ms/step - loss: 0.0613 - accuracy: 0.9900 - val_loss: 0.9174 - val_accuracy: 0.7669\n",
            "Epoch 12/30\n",
            "50/50 [==============================] - 2s 33ms/step - loss: 0.0516 - accuracy: 0.9906 - val_loss: 0.9622 - val_accuracy: 0.7594\n",
            "Epoch 13/30\n",
            "50/50 [==============================] - 2s 33ms/step - loss: 0.0495 - accuracy: 0.9918 - val_loss: 1.0752 - val_accuracy: 0.7494\n",
            "Epoch 14/30\n",
            "50/50 [==============================] - 2s 33ms/step - loss: 0.0413 - accuracy: 0.9918 - val_loss: 1.1142 - val_accuracy: 0.7444\n",
            "Epoch 15/30\n",
            "50/50 [==============================] - 2s 32ms/step - loss: 0.0462 - accuracy: 0.9900 - val_loss: 0.9821 - val_accuracy: 0.7444\n",
            "Epoch 16/30\n",
            "50/50 [==============================] - 2s 32ms/step - loss: 0.0648 - accuracy: 0.9856 - val_loss: 0.9956 - val_accuracy: 0.7669\n",
            "Epoch 17/30\n",
            "50/50 [==============================] - 2s 33ms/step - loss: 0.0423 - accuracy: 0.9912 - val_loss: 1.1025 - val_accuracy: 0.7444\n",
            "Epoch 18/30\n",
            "50/50 [==============================] - 2s 32ms/step - loss: 0.0348 - accuracy: 0.9937 - val_loss: 1.1689 - val_accuracy: 0.7368\n",
            "Epoch 19/30\n",
            "50/50 [==============================] - 2s 33ms/step - loss: 0.0286 - accuracy: 0.9937 - val_loss: 1.1567 - val_accuracy: 0.7544\n",
            "Epoch 20/30\n",
            "50/50 [==============================] - 2s 33ms/step - loss: 0.0250 - accuracy: 0.9944 - val_loss: 1.1710 - val_accuracy: 0.7544\n",
            "Epoch 21/30\n",
            "50/50 [==============================] - 2s 33ms/step - loss: 0.0167 - accuracy: 0.9981 - val_loss: 1.2280 - val_accuracy: 0.7569\n",
            "Epoch 22/30\n",
            "50/50 [==============================] - 2s 33ms/step - loss: 0.0136 - accuracy: 0.9981 - val_loss: 1.2789 - val_accuracy: 0.7469\n",
            "Epoch 23/30\n",
            "50/50 [==============================] - 2s 32ms/step - loss: 0.0119 - accuracy: 0.9981 - val_loss: 1.2681 - val_accuracy: 0.7544\n",
            "Epoch 24/30\n",
            "50/50 [==============================] - 2s 32ms/step - loss: 0.0102 - accuracy: 0.9987 - val_loss: 1.3080 - val_accuracy: 0.7569\n",
            "Epoch 25/30\n",
            "50/50 [==============================] - 2s 32ms/step - loss: 0.0074 - accuracy: 0.9981 - val_loss: 1.2064 - val_accuracy: 0.7469\n",
            "Epoch 26/30\n",
            "50/50 [==============================] - 2s 33ms/step - loss: 0.0136 - accuracy: 0.9969 - val_loss: 1.4025 - val_accuracy: 0.7419\n",
            "Epoch 27/30\n",
            "50/50 [==============================] - 2s 32ms/step - loss: 0.0054 - accuracy: 0.9994 - val_loss: 1.3519 - val_accuracy: 0.7469\n",
            "Epoch 28/30\n",
            "50/50 [==============================] - 2s 32ms/step - loss: 0.0030 - accuracy: 1.0000 - val_loss: 1.4401 - val_accuracy: 0.7469\n",
            "Epoch 29/30\n",
            "50/50 [==============================] - 2s 33ms/step - loss: 0.0019 - accuracy: 1.0000 - val_loss: 1.4912 - val_accuracy: 0.7469\n",
            "Epoch 30/30\n",
            "50/50 [==============================] - 2s 33ms/step - loss: 0.0014 - accuracy: 1.0000 - val_loss: 1.5235 - val_accuracy: 0.7469\n"
          ]
        },
        {
          "output_type": "display_data",
          "data": {
            "image/png": "[encoded data removed]",
            "text/plain": [
              "<Figure size 432x288 with 1 Axes>"
            ]
          },
          "metadata": {
            "needs_background": "light"
          }
        },
        {
          "output_type": "display_data",
          "data": {
            "image/png": "[encoded data removed]",
            "text/plain": [
              "<Figure size 432x288 with 1 Axes>"
            ]
          },
          "metadata": {
            "needs_background": "light"
          }
        },
        {
          "output_type": "stream",
          "name": "stdout",
          "text": [
            "[  4 281  16  25   0   0   0   0   0   0   0   0   0   0   0   0   0   0\n",
            "   0   0   0   0   0   0   0   0   0   0   0   0   0   0   0   0   0   0\n",
            "   0   0   0   0   0   0   0   0   0   0   0   0   0   0]\n",
            "I love this phone\n",
            "[0.99819696]\n",
            "\n",
            "\n",
            "[812 227 864 100 775   9 525 843   0   0   0   0   0   0   0   0   0   0\n",
            "   0   0   0   0   0   0   0   0   0   0   0   0   0   0   0   0   0   0\n",
            "   0   0   0   0   0   0   0   0   0   0   0   0   0   0]\n",
            "Everything was cold\n",
            "[0.0030379]\n",
            "\n",
            "\n",
            "[812 227 864 100 775   9 109   8 333 731  24  61   4 171  59  77   0   0\n",
            "   0   0   0   0   0   0   0   0   0   0   0   0   0   0   0   0   0   0\n",
            "   0   0   0   0   0   0   0   0   0   0   0   0   0   0]\n",
            "Everything was hot exactly as I wanted\n",
            "[0.9612433]\n",
            "\n",
            "\n",
            "[812 227 864 100 775   9 157 359 853   0   0   0   0   0   0   0   0   0\n",
            "   0   0   0   0   0   0   0   0   0   0   0   0   0   0   0   0   0   0\n",
            "   0   0   0   0   0   0   0   0   0   0   0   0   0   0]\n",
            "Everything was green\n",
            "[0.00284764]\n",
            "\n",
            "\n",
            "[  1 109 228 540 237 635 241 423 340  89 298   0   0   0   0   0   0   0\n",
            "   0   0   0   0   0   0   0   0   0   0   0   0   0   0   0   0   0   0\n",
            "   0   0   0   0   0   0   0   0   0   0   0   0   0   0]\n",
            "the host seated us immediately\n",
            "[0.9992535]\n",
            "\n",
            "\n",
            "[154 242  47 635 341  12 569 547 147 319 775 125  85   0   0   0   0   0\n",
            "   0   0   0   0   0   0   0   0   0   0   0   0   0   0   0   0   0   0\n",
            "   0   0   0   0   0   0   0   0   0   0   0   0   0   0]\n",
            "they gave us free chocolate cake\n",
            "[0.51109374]\n",
            "\n",
            "\n",
            "[158 190 853 782   8 607 775 210 232 146 775 470  67 305 101  15   1 328\n",
            " 296  26  19   1 661 641 195   0   0   0   0   0   0   0   0   0   0   0\n",
            "   0   0   0   0   0   0   0   0   0   0   0   0   0   0]\n",
            "we couldn't hear each other talk because of the shouting in the kitchen\n",
            "[0.00034177]\n",
            "\n",
            "\n"
          ]
        }
      ]
    },
    {
      "cell_type": "markdown",
      "metadata": {
        "id": "gGvNaTu7V3hz"
      },
      "source": [
        "# 2- Using Multiple Bidirectional Layers"
      ]
    },
    {
      "cell_type": "code",
      "metadata": {
        "colab": {
          "base_uri": "https://localhost:8080/",
          "height": 1000
        },
        "id": "Qv0r4mQaPoJ8",
        "outputId": "dbce69fa-fdff-4540-bd66-1c71d374f62c"
      },
      "source": [
        "model_multiple_bilstm = tf.keras.Sequential([\n",
        "    tf.keras.layers.Embedding(VOCAB_SIZE,\n",
        "                              EMBEDDING_DIM,\n",
        "                              input_length=MAX_LENGTH),\n",
        "    tf.keras.layers.Bidirectional(tf.keras.layers.LSTM(EMBEDDING_DIM,\n",
        "                                                       return_sequences=True)),\n",
        "    tf.keras.layers.Bidirectional(tf.keras.layers.LSTM(EMBEDDING_DIM)),\n",
        "    tf.keras.layers.Dense(6, activation='relu'),\n",
        "    tf.keras.layers.Dense(1, activation='sigmoid')\n",
        "])\n",
        "\n",
        "fit_model_and_show_result(model_multiple_bilstm, fake_reviews)"
      ],
      "execution_count": 90,
      "outputs": [
        {
          "output_type": "stream",
          "name": "stdout",
          "text": [
            "Model: \"sequential_7\"\n",
            "_________________________________________________________________\n",
            "Layer (type)                 Output Shape              Param #   \n",
            "=================================================================\n",
            "embedding_8 (Embedding)      (None, 50, 16)            16000     \n",
            "_________________________________________________________________\n",
            "bidirectional_4 (Bidirection (None, 50, 32)            4224      \n",
            "_________________________________________________________________\n",
            "bidirectional_5 (Bidirection (None, 32)                6272      \n",
            "_________________________________________________________________\n",
            "dense_14 (Dense)             (None, 6)                 198       \n",
            "_________________________________________________________________\n",
            "dense_15 (Dense)             (None, 1)                 7         \n",
            "=================================================================\n",
            "Total params: 26,701\n",
            "Trainable params: 26,701\n",
            "Non-trainable params: 0\n",
            "_________________________________________________________________\n",
            "Epoch 1/30\n",
            "50/50 [==============================] - 11s 91ms/step - loss: 0.6901 - accuracy: 0.5223 - val_loss: 0.7012 - val_accuracy: 0.4110\n",
            "Epoch 2/30\n",
            "50/50 [==============================] - 3s 63ms/step - loss: 0.6167 - accuracy: 0.6679 - val_loss: 0.6089 - val_accuracy: 0.7569\n",
            "Epoch 3/30\n",
            "50/50 [==============================] - 3s 62ms/step - loss: 0.4518 - accuracy: 0.8449 - val_loss: 0.5932 - val_accuracy: 0.7544\n",
            "Epoch 4/30\n",
            "50/50 [==============================] - 3s 63ms/step - loss: 0.3045 - accuracy: 0.8883 - val_loss: 0.4959 - val_accuracy: 0.7644\n",
            "Epoch 5/30\n",
            "50/50 [==============================] - 3s 64ms/step - loss: 0.2613 - accuracy: 0.9127 - val_loss: 0.6273 - val_accuracy: 0.7469\n",
            "Epoch 6/30\n",
            "50/50 [==============================] - 3s 64ms/step - loss: 0.2110 - accuracy: 0.9322 - val_loss: 0.7481 - val_accuracy: 0.7419\n",
            "Epoch 7/30\n",
            "50/50 [==============================] - 3s 64ms/step - loss: 0.2142 - accuracy: 0.9360 - val_loss: 0.5786 - val_accuracy: 0.7694\n",
            "Epoch 8/30\n",
            "50/50 [==============================] - 3s 63ms/step - loss: 0.2377 - accuracy: 0.9178 - val_loss: 0.7130 - val_accuracy: 0.7393\n",
            "Epoch 9/30\n",
            "50/50 [==============================] - 3s 62ms/step - loss: 0.1780 - accuracy: 0.9454 - val_loss: 0.7115 - val_accuracy: 0.7669\n",
            "Epoch 10/30\n",
            "50/50 [==============================] - 3s 64ms/step - loss: 0.1704 - accuracy: 0.9454 - val_loss: 0.7522 - val_accuracy: 0.7619\n",
            "Epoch 11/30\n",
            "50/50 [==============================] - 3s 63ms/step - loss: 0.1524 - accuracy: 0.9542 - val_loss: 0.8231 - val_accuracy: 0.7544\n",
            "Epoch 12/30\n",
            "50/50 [==============================] - 3s 62ms/step - loss: 0.1423 - accuracy: 0.9605 - val_loss: 0.9382 - val_accuracy: 0.7444\n",
            "Epoch 13/30\n",
            "50/50 [==============================] - 3s 62ms/step - loss: 0.1656 - accuracy: 0.9473 - val_loss: 0.9280 - val_accuracy: 0.7293\n",
            "Epoch 14/30\n",
            "50/50 [==============================] - 3s 63ms/step - loss: 0.1328 - accuracy: 0.9648 - val_loss: 0.9519 - val_accuracy: 0.7494\n",
            "Epoch 15/30\n",
            "50/50 [==============================] - 3s 64ms/step - loss: 0.1192 - accuracy: 0.9667 - val_loss: 0.9633 - val_accuracy: 0.7419\n",
            "Epoch 16/30\n",
            "50/50 [==============================] - 3s 64ms/step - loss: 0.1152 - accuracy: 0.9674 - val_loss: 0.9741 - val_accuracy: 0.7343\n",
            "Epoch 17/30\n",
            "50/50 [==============================] - 3s 63ms/step - loss: 0.1168 - accuracy: 0.9680 - val_loss: 1.0623 - val_accuracy: 0.7243\n",
            "Epoch 18/30\n",
            "50/50 [==============================] - 3s 62ms/step - loss: 0.1051 - accuracy: 0.9692 - val_loss: 1.1654 - val_accuracy: 0.7168\n",
            "Epoch 19/30\n",
            "50/50 [==============================] - 3s 62ms/step - loss: 0.0907 - accuracy: 0.9774 - val_loss: 1.1492 - val_accuracy: 0.7318\n",
            "Epoch 20/30\n",
            "50/50 [==============================] - 3s 63ms/step - loss: 0.0801 - accuracy: 0.9824 - val_loss: 1.2796 - val_accuracy: 0.7293\n",
            "Epoch 21/30\n",
            "50/50 [==============================] - 3s 63ms/step - loss: 0.0825 - accuracy: 0.9818 - val_loss: 1.1483 - val_accuracy: 0.7318\n",
            "Epoch 22/30\n",
            "50/50 [==============================] - 3s 63ms/step - loss: 0.0699 - accuracy: 0.9849 - val_loss: 1.1621 - val_accuracy: 0.7393\n",
            "Epoch 23/30\n",
            "50/50 [==============================] - 3s 63ms/step - loss: 0.0766 - accuracy: 0.9831 - val_loss: 1.1110 - val_accuracy: 0.7343\n",
            "Epoch 24/30\n",
            "50/50 [==============================] - 3s 63ms/step - loss: 0.0828 - accuracy: 0.9774 - val_loss: 1.1014 - val_accuracy: 0.7368\n",
            "Epoch 25/30\n",
            "50/50 [==============================] - 3s 63ms/step - loss: 0.0940 - accuracy: 0.9743 - val_loss: 1.0867 - val_accuracy: 0.7544\n",
            "Epoch 26/30\n",
            "50/50 [==============================] - 3s 64ms/step - loss: 0.0853 - accuracy: 0.9780 - val_loss: 1.0448 - val_accuracy: 0.7318\n",
            "Epoch 27/30\n",
            "50/50 [==============================] - 3s 64ms/step - loss: 0.0650 - accuracy: 0.9831 - val_loss: 1.2249 - val_accuracy: 0.7343\n",
            "Epoch 28/30\n",
            "50/50 [==============================] - 3s 62ms/step - loss: 0.0590 - accuracy: 0.9862 - val_loss: 1.3612 - val_accuracy: 0.7168\n",
            "Epoch 29/30\n",
            "50/50 [==============================] - 3s 64ms/step - loss: 0.0521 - accuracy: 0.9893 - val_loss: 1.3276 - val_accuracy: 0.7419\n",
            "Epoch 30/30\n",
            "50/50 [==============================] - 3s 63ms/step - loss: 0.0686 - accuracy: 0.9843 - val_loss: 1.1998 - val_accuracy: 0.7469\n"
          ]
        },
        {
          "output_type": "display_data",
          "data": {
            "image/png": "[encoded data removed]",
            "text/plain": [
              "<Figure size 432x288 with 1 Axes>"
            ]
          },
          "metadata": {
            "needs_background": "light"
          }
        },
        {
          "output_type": "display_data",
          "data": {
            "image/png": "[encoded data removed]",
            "text/plain": [
              "<Figure size 432x288 with 1 Axes>"
            ]
          },
          "metadata": {
            "needs_background": "light"
          }
        },
        {
          "output_type": "stream",
          "name": "stdout",
          "text": [
            "WARNING:tensorflow:5 out of the last 5 calls to <function Model.make_predict_function.<locals>.predict_function at 0x7f96271db5f0> triggered tf.function retracing. Tracing is expensive and the excessive number of tracings could be due to (1) creating @tf.function repeatedly in a loop, (2) passing tensors with different shapes, (3) passing Python objects instead of tensors. For (1), please define your @tf.function outside of the loop. For (2), @tf.function has experimental_relax_shapes=True option that relaxes argument shapes that can avoid unnecessary retracing. For (3), please refer to https://www.tensorflow.org/guide/function#controlling_retracing and https://www.tensorflow.org/api_docs/python/tf/function for  more details.\n"
          ]
        },
        {
          "output_type": "stream",
          "name": "stderr",
          "text": [
            "WARNING:tensorflow:5 out of the last 5 calls to <function Model.make_predict_function.<locals>.predict_function at 0x7f96271db5f0> triggered tf.function retracing. Tracing is expensive and the excessive number of tracings could be due to (1) creating @tf.function repeatedly in a loop, (2) passing tensors with different shapes, (3) passing Python objects instead of tensors. For (1), please define your @tf.function outside of the loop. For (2), @tf.function has experimental_relax_shapes=True option that relaxes argument shapes that can avoid unnecessary retracing. For (3), please refer to https://www.tensorflow.org/guide/function#controlling_retracing and https://www.tensorflow.org/api_docs/python/tf/function for  more details.\n"
          ]
        },
        {
          "output_type": "stream",
          "name": "stdout",
          "text": [
            "[  4 281  16  25   0   0   0   0   0   0   0   0   0   0   0   0   0   0\n",
            "   0   0   0   0   0   0   0   0   0   0   0   0   0   0   0   0   0   0\n",
            "   0   0   0   0   0   0   0   0   0   0   0   0   0   0]\n",
            "I love this phone\n",
            "[0.99956286]\n",
            "\n",
            "\n",
            "[812 227 864 100 775   9 525 843   0   0   0   0   0   0   0   0   0   0\n",
            "   0   0   0   0   0   0   0   0   0   0   0   0   0   0   0   0   0   0\n",
            "   0   0   0   0   0   0   0   0   0   0   0   0   0   0]\n",
            "Everything was cold\n",
            "[0.02146316]\n",
            "\n",
            "\n",
            "[812 227 864 100 775   9 109   8 333 731  24  61   4 171  59  77   0   0\n",
            "   0   0   0   0   0   0   0   0   0   0   0   0   0   0   0   0   0   0\n",
            "   0   0   0   0   0   0   0   0   0   0   0   0   0   0]\n",
            "Everything was hot exactly as I wanted\n",
            "[0.02682146]\n",
            "\n",
            "\n",
            "[812 227 864 100 775   9 157 359 853   0   0   0   0   0   0   0   0   0\n",
            "   0   0   0   0   0   0   0   0   0   0   0   0   0   0   0   0   0   0\n",
            "   0   0   0   0   0   0   0   0   0   0   0   0   0   0]\n",
            "Everything was green\n",
            "[0.02163437]\n",
            "\n",
            "\n",
            "[  1 109 228 540 237 635 241 423 340  89 298   0   0   0   0   0   0   0\n",
            "   0   0   0   0   0   0   0   0   0   0   0   0   0   0   0   0   0   0\n",
            "   0   0   0   0   0   0   0   0   0   0   0   0   0   0]\n",
            "the host seated us immediately\n",
            "[0.998018]\n",
            "\n",
            "\n",
            "[154 242  47 635 341  12 569 547 147 319 775 125  85   0   0   0   0   0\n",
            "   0   0   0   0   0   0   0   0   0   0   0   0   0   0   0   0   0   0\n",
            "   0   0   0   0   0   0   0   0   0   0   0   0   0   0]\n",
            "they gave us free chocolate cake\n",
            "[0.9994843]\n",
            "\n",
            "\n",
            "[158 190 853 782   8 607 775 210 232 146 775 470  67 305 101  15   1 328\n",
            " 296  26  19   1 661 641 195   0   0   0   0   0   0   0   0   0   0   0\n",
            "   0   0   0   0   0   0   0   0   0   0   0   0   0   0]\n",
            "we couldn't hear each other talk because of the shouting in the kitchen\n",
            "[0.02011538]\n",
            "\n",
            "\n"
          ]
        }
      ]
    },
    {
      "cell_type": "markdown",
      "metadata": {
        "id": "xGZbwG9aWr9T"
      },
      "source": [
        "# Comparing Models"
      ]
    },
    {
      "cell_type": "code",
      "metadata": {
        "id": "qmNVfwG-L6YQ"
      },
      "source": [
        "my_reviews =[\"lovely\", \"dreadful\", \"stay away\",\n",
        "             \"everything was hot exactly as I wanted\",\n",
        "             \"everything was not exactly as I wanted\",\n",
        "             \"they gave us free chocolate cake\",\n",
        "             \"I've never eaten anything so spicy in my life, my throat burned for hours\",\n",
        "             \"for a phone that is as expensive as this one I expect it to be much easier to use than this thing is\",\n",
        "             \"we left there very full for a low price so I'd say you just can't go wrong at this place\",\n",
        "             \"that place does not have quality meals and it isn't a good place to go for dinner\",\n",
        "             ]"
      ],
      "execution_count": 91,
      "outputs": []
    },
    {
      "cell_type": "code",
      "metadata": {
        "colab": {
          "base_uri": "https://localhost:8080/"
        },
        "id": "GSRYttFTKdh_",
        "outputId": "c2c88bcc-567d-49cd-9e98-bdccf0852dd5"
      },
      "source": [
        "print(\"===================================\\n\",\"Embeddings only:\\n\", \"===================================\",)\n",
        "predict_review(model, my_reviews, show_padded_sequence=False)"
      ],
      "execution_count": 92,
      "outputs": [
        {
          "output_type": "stream",
          "name": "stdout",
          "text": [
            "===================================\n",
            " Embeddings only:\n",
            " ===================================\n",
            "lovely\n",
            "[0.9592228]\n",
            "\n",
            "\n",
            "dreadful\n",
            "[0.3448746]\n",
            "\n",
            "\n",
            "stay away\n",
            "[0.7398701]\n",
            "\n",
            "\n",
            "everything was hot exactly as I wanted\n",
            "[0.8499634]\n",
            "\n",
            "\n",
            "everything was not exactly as I wanted\n",
            "[0.6130969]\n",
            "\n",
            "\n",
            "they gave us free chocolate cake\n",
            "[0.8051297]\n",
            "\n",
            "\n",
            "I've never eaten anything so spicy in my life, my throat burned for hours\n",
            "[0.03714439]\n",
            "\n",
            "\n",
            "for a phone that is as expensive as this one I expect it to be much easier to use than this thing is\n",
            "[0.48336542]\n",
            "\n",
            "\n",
            "we left there very full for a low price so I'd say you just can't go wrong at this place\n",
            "[0.769148]\n",
            "\n",
            "\n",
            "that place does not have quality meals and it isn't a good place to go for dinner\n",
            "[0.882825]\n",
            "\n",
            "\n"
          ]
        }
      ]
    },
    {
      "cell_type": "code",
      "metadata": {
        "colab": {
          "base_uri": "https://localhost:8080/"
        },
        "id": "p7uviyKmKdlB",
        "outputId": "3e733cdc-6c74-49f2-e29c-dd6f113d50d4"
      },
      "source": [
        "print(\"===================================\\n\", \"With a single bidirectional LSTM:\\n\", \"===================================\")\n",
        "predict_review(model_bilstm, my_reviews, show_padded_sequence=False)"
      ],
      "execution_count": 93,
      "outputs": [
        {
          "output_type": "stream",
          "name": "stdout",
          "text": [
            "===================================\n",
            " With a single bidirectional LSTM:\n",
            " ===================================\n",
            "lovely\n",
            "[0.98561025]\n",
            "\n",
            "\n",
            "dreadful\n",
            "[0.0001812]\n",
            "\n",
            "\n",
            "stay away\n",
            "[0.00148198]\n",
            "\n",
            "\n",
            "everything was hot exactly as I wanted\n",
            "[0.9967135]\n",
            "\n",
            "\n",
            "everything was not exactly as I wanted\n",
            "[0.01300138]\n",
            "\n",
            "\n",
            "they gave us free chocolate cake\n",
            "[0.51109374]\n",
            "\n",
            "\n",
            "I've never eaten anything so spicy in my life, my throat burned for hours\n",
            "[0.00296354]\n",
            "\n",
            "\n",
            "for a phone that is as expensive as this one I expect it to be much easier to use than this thing is\n",
            "[0.63878554]\n",
            "\n",
            "\n",
            "we left there very full for a low price so I'd say you just can't go wrong at this place\n",
            "[0.9998163]\n",
            "\n",
            "\n",
            "that place does not have quality meals and it isn't a good place to go for dinner\n",
            "[0.9800097]\n",
            "\n",
            "\n"
          ]
        }
      ]
    },
    {
      "cell_type": "code",
      "metadata": {
        "colab": {
          "base_uri": "https://localhost:8080/"
        },
        "id": "-45iyMWLKdnz",
        "outputId": "263ff222-ddc6-499f-8149-155ac9fe785d"
      },
      "source": [
        "print(\"===================================\\n\",\"With two bidirectional LSTMs:\\n\", \"===================================\")\n",
        "predict_review(model_multiple_bilstm, my_reviews, show_padded_sequence=False)"
      ],
      "execution_count": 94,
      "outputs": [
        {
          "output_type": "stream",
          "name": "stdout",
          "text": [
            "===================================\n",
            " With two bidirectional LSTMs:\n",
            " ===================================\n",
            "lovely\n",
            "[0.9995804]\n",
            "\n",
            "\n",
            "dreadful\n",
            "[0.01998544]\n",
            "\n",
            "\n",
            "stay away\n",
            "[0.02102163]\n",
            "\n",
            "\n",
            "everything was hot exactly as I wanted\n",
            "[0.9149488]\n",
            "\n",
            "\n",
            "everything was not exactly as I wanted\n",
            "[0.02362403]\n",
            "\n",
            "\n",
            "they gave us free chocolate cake\n",
            "[0.9994843]\n",
            "\n",
            "\n",
            "I've never eaten anything so spicy in my life, my throat burned for hours\n",
            "[0.0222697]\n",
            "\n",
            "\n",
            "for a phone that is as expensive as this one I expect it to be much easier to use than this thing is\n",
            "[0.02106303]\n",
            "\n",
            "\n",
            "we left there very full for a low price so I'd say you just can't go wrong at this place\n",
            "[0.99684644]\n",
            "\n",
            "\n",
            "that place does not have quality meals and it isn't a good place to go for dinner\n",
            "[0.8933327]\n",
            "\n",
            "\n"
          ]
        }
      ]
    }
  ]
}