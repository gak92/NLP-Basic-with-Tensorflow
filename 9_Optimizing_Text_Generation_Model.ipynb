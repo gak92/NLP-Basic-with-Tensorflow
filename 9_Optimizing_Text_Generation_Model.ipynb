{
  "nbformat": 4,
  "nbformat_minor": 0,
  "metadata": {
    "colab": {
      "name": "9_Optimizing_Text_Generation_Model.ipynb",
      "provenance": [],
      "collapsed_sections": []
    },
    "kernelspec": {
      "name": "python3",
      "display_name": "Python 3"
    },
    "language_info": {
      "name": "python"
    },
    "accelerator": "GPU"
  },
  "cells": [
    {
      "cell_type": "markdown",
      "metadata": {
        "id": "FoLfZfQeib4r"
      },
      "source": [
        "# Importing Libraries"
      ]
    },
    {
      "cell_type": "code",
      "metadata": {
        "id": "FvVn-NQWgP4n"
      },
      "source": [
        "import tensorflow as tf\n",
        "import numpy as np\n",
        "import pandas as pd\n",
        "import matplotlib.pyplot as plt\n",
        "import tensorflow_datasets as tfds\n",
        "import io\n",
        "import string\n",
        "\n",
        "from tensorflow.keras.preprocessing.sequence import pad_sequences\n",
        "from tensorflow.keras.preprocessing.text import Tokenizer"
      ],
      "execution_count": 1,
      "outputs": []
    },
    {
      "cell_type": "markdown",
      "metadata": {
        "id": "PV2XnVSwigIs"
      },
      "source": [
        "# Download Dataset"
      ]
    },
    {
      "cell_type": "markdown",
      "metadata": {
        "id": "8mXw9zmNii3p"
      },
      "source": [
        "* https://drive.google.com/uc?id=1LiJFZd41ofrWoBtW-pMYsfz1w8Ny0Bj8"
      ]
    },
    {
      "cell_type": "code",
      "metadata": {
        "colab": {
          "base_uri": "https://localhost:8080/"
        },
        "id": "AVpVVVEKih4j",
        "outputId": "c1f8d342-99dd-4259-8aa2-6faf7a70a066"
      },
      "source": [
        "URL = 'https://drive.google.com/uc?id=1LiJFZd41ofrWoBtW-pMYsfz1w8Ny0Bj8'\n",
        "file_path = tf.keras.utils.get_file('song_data.csv', URL)\n",
        "print(file_path)"
      ],
      "execution_count": 2,
      "outputs": [
        {
          "output_type": "stream",
          "name": "stdout",
          "text": [
            "Downloading data from https://drive.google.com/uc?id=1LiJFZd41ofrWoBtW-pMYsfz1w8Ny0Bj8\n",
            "69820416/Unknown - 1s 0us/step/root/.keras/datasets/song_data.csv\n"
          ]
        }
      ]
    },
    {
      "cell_type": "code",
      "metadata": {
        "colab": {
          "base_uri": "https://localhost:8080/",
          "height": 419
        },
        "id": "sqiolqO6ih6x",
        "outputId": "c387fd7c-ee23-4077-8910-9b64ff2d4c73"
      },
      "source": [
        "dataset = pd.read_csv(file_path, dtype=str)[:250]\n",
        "dataset"
      ],
      "execution_count": 3,
      "outputs": [
        {
          "output_type": "execute_result",
          "data": {
            "text/html": [
              "<div>\n",
              "<style scoped>\n",
              "    .dataframe tbody tr th:only-of-type {\n",
              "        vertical-align: middle;\n",
              "    }\n",
              "\n",
              "    .dataframe tbody tr th {\n",
              "        vertical-align: top;\n",
              "    }\n",
              "\n",
              "    .dataframe thead th {\n",
              "        text-align: right;\n",
              "    }\n",
              "</style>\n",
              "<table border=\"1\" class=\"dataframe\">\n",
              "  <thead>\n",
              "    <tr style=\"text-align: right;\">\n",
              "      <th></th>\n",
              "      <th>artist</th>\n",
              "      <th>song</th>\n",
              "      <th>link</th>\n",
              "      <th>text</th>\n",
              "    </tr>\n",
              "  </thead>\n",
              "  <tbody>\n",
              "    <tr>\n",
              "      <th>0</th>\n",
              "      <td>ABBA</td>\n",
              "      <td>Ahe's My Kind Of Girl</td>\n",
              "      <td>/a/abba/ahes+my+kind+of+girl_20598417.html</td>\n",
              "      <td>Look at her face, it's a wonderful face  \\nAnd...</td>\n",
              "    </tr>\n",
              "    <tr>\n",
              "      <th>1</th>\n",
              "      <td>ABBA</td>\n",
              "      <td>Andante, Andante</td>\n",
              "      <td>/a/abba/andante+andante_20002708.html</td>\n",
              "      <td>Take it easy with me, please  \\nTouch me gentl...</td>\n",
              "    </tr>\n",
              "    <tr>\n",
              "      <th>2</th>\n",
              "      <td>ABBA</td>\n",
              "      <td>As Good As New</td>\n",
              "      <td>/a/abba/as+good+as+new_20003033.html</td>\n",
              "      <td>I'll never know why I had to go  \\nWhy I had t...</td>\n",
              "    </tr>\n",
              "    <tr>\n",
              "      <th>3</th>\n",
              "      <td>ABBA</td>\n",
              "      <td>Bang</td>\n",
              "      <td>/a/abba/bang_20598415.html</td>\n",
              "      <td>Making somebody happy is a question of give an...</td>\n",
              "    </tr>\n",
              "    <tr>\n",
              "      <th>4</th>\n",
              "      <td>ABBA</td>\n",
              "      <td>Bang-A-Boomerang</td>\n",
              "      <td>/a/abba/bang+a+boomerang_20002668.html</td>\n",
              "      <td>Making somebody happy is a question of give an...</td>\n",
              "    </tr>\n",
              "    <tr>\n",
              "      <th>...</th>\n",
              "      <td>...</td>\n",
              "      <td>...</td>\n",
              "      <td>...</td>\n",
              "      <td>...</td>\n",
              "    </tr>\n",
              "    <tr>\n",
              "      <th>245</th>\n",
              "      <td>Air Supply</td>\n",
              "      <td>Believer</td>\n",
              "      <td>/a/air+supply/believer_20522284.html</td>\n",
              "      <td>Believer  \\nI got no where to go  \\nBeliever  ...</td>\n",
              "    </tr>\n",
              "    <tr>\n",
              "      <th>246</th>\n",
              "      <td>Air Supply</td>\n",
              "      <td>Big Cat</td>\n",
              "      <td>/a/air+supply/big+cat_20522283.html</td>\n",
              "      <td>Big cat walking on the wild side  \\nBig cat ta...</td>\n",
              "    </tr>\n",
              "    <tr>\n",
              "      <th>247</th>\n",
              "      <td>Air Supply</td>\n",
              "      <td>Black And Blue</td>\n",
              "      <td>/a/air+supply/black+and+blue_20154341.html</td>\n",
              "      <td>Blue, blue is the color of skies  \\nBlue is th...</td>\n",
              "    </tr>\n",
              "    <tr>\n",
              "      <th>248</th>\n",
              "      <td>Air Supply</td>\n",
              "      <td>Body Glove</td>\n",
              "      <td>/a/air+supply/body+glove_20522282.html</td>\n",
              "      <td>The more you win, the more you gain  \\nAn open...</td>\n",
              "    </tr>\n",
              "    <tr>\n",
              "      <th>249</th>\n",
              "      <td>Air Supply</td>\n",
              "      <td>Book Of Love</td>\n",
              "      <td>/a/air+supply/book+of+love_20522281.html</td>\n",
              "      <td>The book of love, that sacred place  \\nWhere w...</td>\n",
              "    </tr>\n",
              "  </tbody>\n",
              "</table>\n",
              "<p>250 rows × 4 columns</p>\n",
              "</div>"
            ],
            "text/plain": [
              "         artist  ...                                               text\n",
              "0          ABBA  ...  Look at her face, it's a wonderful face  \\nAnd...\n",
              "1          ABBA  ...  Take it easy with me, please  \\nTouch me gentl...\n",
              "2          ABBA  ...  I'll never know why I had to go  \\nWhy I had t...\n",
              "3          ABBA  ...  Making somebody happy is a question of give an...\n",
              "4          ABBA  ...  Making somebody happy is a question of give an...\n",
              "..          ...  ...                                                ...\n",
              "245  Air Supply  ...  Believer  \\nI got no where to go  \\nBeliever  ...\n",
              "246  Air Supply  ...  Big cat walking on the wild side  \\nBig cat ta...\n",
              "247  Air Supply  ...  Blue, blue is the color of skies  \\nBlue is th...\n",
              "248  Air Supply  ...  The more you win, the more you gain  \\nAn open...\n",
              "249  Air Supply  ...  The book of love, that sacred place  \\nWhere w...\n",
              "\n",
              "[250 rows x 4 columns]"
            ]
          },
          "metadata": {},
          "execution_count": 3
        }
      ]
    },
    {
      "cell_type": "markdown",
      "metadata": {
        "id": "-wzjftaMF0X5"
      },
      "source": [
        "# Preprocess Dataset"
      ]
    },
    {
      "cell_type": "code",
      "metadata": {
        "id": "utD5kgGNih9k"
      },
      "source": [
        "def create_lyrics_corpus(dataset, field):\n",
        "  dataset[field] = dataset[field].str.replace('[{}]'.format(string.punctuation), '')\n",
        "  dataset[field] = dataset[field].str.lower()\n",
        "\n",
        "  lyrics = dataset[field].str.cat()\n",
        "  corpus = lyrics.split('\\n')\n",
        "\n",
        "  for l in range(len(corpus)):\n",
        "    corpus[l] = corpus[l].rstrip()\n",
        "  corpus = [l for l in corpus if l != '']\n",
        "\n",
        "  return corpus"
      ],
      "execution_count": 4,
      "outputs": []
    },
    {
      "cell_type": "code",
      "metadata": {
        "id": "pJit2yrCEXn5"
      },
      "source": [
        "def tokenize_corpus(corpus, num_words=-1):\n",
        "  if num_words > -1:\n",
        "    tokenizer = Tokenizer(num_words=num_words)\n",
        "  else:\n",
        "    tokenizer = Tokenizer()\n",
        "\n",
        "  tokenizer.fit_on_texts(corpus)\n",
        "  return tokenizer"
      ],
      "execution_count": 5,
      "outputs": []
    },
    {
      "cell_type": "code",
      "metadata": {
        "id": "ORQs6NQOih_6"
      },
      "source": [
        "# Create the corpus using the text 'column'\n",
        "corpus = create_lyrics_corpus(dataset, 'text')"
      ],
      "execution_count": 6,
      "outputs": []
    },
    {
      "cell_type": "code",
      "metadata": {
        "colab": {
          "base_uri": "https://localhost:8080/"
        },
        "id": "3NjqqgJ1FHpU",
        "outputId": "c3654e85-4356-4d2b-87aa-d0ffbe86b999"
      },
      "source": [
        "len(corpus), type(corpus)"
      ],
      "execution_count": 7,
      "outputs": [
        {
          "output_type": "execute_result",
          "data": {
            "text/plain": [
              "(9556, list)"
            ]
          },
          "metadata": {},
          "execution_count": 7
        }
      ]
    },
    {
      "cell_type": "code",
      "metadata": {
        "id": "Qs4-11Q5iiCi"
      },
      "source": [
        "# Tokenize the corpus\n",
        "tokenizer = tokenize_corpus(corpus, num_words=2000)"
      ],
      "execution_count": 8,
      "outputs": []
    },
    {
      "cell_type": "code",
      "metadata": {
        "colab": {
          "base_uri": "https://localhost:8080/"
        },
        "id": "SAI0iKQEFMaJ",
        "outputId": "a785fd36-ae92-4d79-9d67-efe48ce20ee0"
      },
      "source": [
        "tokenizer"
      ],
      "execution_count": 9,
      "outputs": [
        {
          "output_type": "execute_result",
          "data": {
            "text/plain": [
              "<keras_preprocessing.text.Tokenizer at 0x7f15d3dc6750>"
            ]
          },
          "metadata": {},
          "execution_count": 9
        }
      ]
    },
    {
      "cell_type": "code",
      "metadata": {
        "colab": {
          "base_uri": "https://localhost:8080/"
        },
        "id": "MYBkGfBMiiKC",
        "outputId": "e3575c65-9662-4aca-a228-d11e5620ec05"
      },
      "source": [
        "total_words = len(tokenizer.word_index) + 1\n",
        "print(total_words)"
      ],
      "execution_count": 10,
      "outputs": [
        {
          "output_type": "stream",
          "name": "stdout",
          "text": [
            "4148\n"
          ]
        }
      ]
    },
    {
      "cell_type": "code",
      "metadata": {
        "colab": {
          "base_uri": "https://localhost:8080/"
        },
        "id": "toLX_RAGGjuS",
        "outputId": "95874ef7-7103-41f7-f9ad-fe69f9fc9bb5"
      },
      "source": [
        "tmp_seq = corpus[0]\n",
        "print(tmp_seq)\n",
        "\n",
        "tmp_seq = tokenizer.texts_to_sequences([tmp_seq])\n",
        "print(tmp_seq)"
      ],
      "execution_count": 11,
      "outputs": [
        {
          "output_type": "stream",
          "name": "stdout",
          "text": [
            "look at her face its a wonderful face\n",
            "[[111, 66, 86, 206, 29, 4, 1196, 206]]\n"
          ]
        }
      ]
    },
    {
      "cell_type": "markdown",
      "metadata": {
        "id": "vOM7-HEAFvJC"
      },
      "source": [
        "# Create Sequences"
      ]
    },
    {
      "cell_type": "code",
      "metadata": {
        "colab": {
          "base_uri": "https://localhost:8080/"
        },
        "id": "ilzs9WjfFlBs",
        "outputId": "123cf405-9b27-4e1a-cd1f-96850793ff4a"
      },
      "source": [
        "sequences = []\n",
        "for line in corpus:\n",
        "  token_list = tokenizer.texts_to_sequences([line])[0]\n",
        "  for i in range(len(token_list)):\n",
        "    n_gram_seq = token_list[:i+1]\n",
        "    sequences.append(n_gram_seq)\n",
        "\n",
        "sequences[0:10]"
      ],
      "execution_count": 12,
      "outputs": [
        {
          "output_type": "execute_result",
          "data": {
            "text/plain": [
              "[[111],\n",
              " [111, 66],\n",
              " [111, 66, 86],\n",
              " [111, 66, 86, 206],\n",
              " [111, 66, 86, 206, 29],\n",
              " [111, 66, 86, 206, 29, 4],\n",
              " [111, 66, 86, 206, 29, 4, 1196],\n",
              " [111, 66, 86, 206, 29, 4, 1196, 206],\n",
              " [5],\n",
              " [5, 8]]"
            ]
          },
          "metadata": {},
          "execution_count": 12
        }
      ]
    },
    {
      "cell_type": "code",
      "metadata": {
        "colab": {
          "base_uri": "https://localhost:8080/"
        },
        "id": "VeSgjYpZFlD_",
        "outputId": "1c5eb3a7-c920-46da-cd30-865a5902dc6c"
      },
      "source": [
        "max_seq_len = max([len(seq) for seq in sequences])\n",
        "print(max_seq_len)\n",
        "\n",
        "sequences = np.array(pad_sequences(sequences,\n",
        "                                   maxlen=max_seq_len,\n",
        "                                   padding='pre'))\n",
        "\n",
        "sequences[0:10]"
      ],
      "execution_count": 13,
      "outputs": [
        {
          "output_type": "stream",
          "name": "stdout",
          "text": [
            "20\n"
          ]
        },
        {
          "output_type": "execute_result",
          "data": {
            "text/plain": [
              "array([[   0,    0,    0,    0,    0,    0,    0,    0,    0,    0,    0,\n",
              "           0,    0,    0,    0,    0,    0,    0,    0,  111],\n",
              "       [   0,    0,    0,    0,    0,    0,    0,    0,    0,    0,    0,\n",
              "           0,    0,    0,    0,    0,    0,    0,  111,   66],\n",
              "       [   0,    0,    0,    0,    0,    0,    0,    0,    0,    0,    0,\n",
              "           0,    0,    0,    0,    0,    0,  111,   66,   86],\n",
              "       [   0,    0,    0,    0,    0,    0,    0,    0,    0,    0,    0,\n",
              "           0,    0,    0,    0,    0,  111,   66,   86,  206],\n",
              "       [   0,    0,    0,    0,    0,    0,    0,    0,    0,    0,    0,\n",
              "           0,    0,    0,    0,  111,   66,   86,  206,   29],\n",
              "       [   0,    0,    0,    0,    0,    0,    0,    0,    0,    0,    0,\n",
              "           0,    0,    0,  111,   66,   86,  206,   29,    4],\n",
              "       [   0,    0,    0,    0,    0,    0,    0,    0,    0,    0,    0,\n",
              "           0,    0,  111,   66,   86,  206,   29,    4, 1196],\n",
              "       [   0,    0,    0,    0,    0,    0,    0,    0,    0,    0,    0,\n",
              "           0,  111,   66,   86,  206,   29,    4, 1196,  206],\n",
              "       [   0,    0,    0,    0,    0,    0,    0,    0,    0,    0,    0,\n",
              "           0,    0,    0,    0,    0,    0,    0,    0,    5],\n",
              "       [   0,    0,    0,    0,    0,    0,    0,    0,    0,    0,    0,\n",
              "           0,    0,    0,    0,    0,    0,    0,    5,    8]],\n",
              "      dtype=int32)"
            ]
          },
          "metadata": {},
          "execution_count": 13
        }
      ]
    },
    {
      "cell_type": "markdown",
      "metadata": {
        "id": "lbAxxDKAIjyL"
      },
      "source": [
        "# Split Sequences into input sequence and output predicted word"
      ]
    },
    {
      "cell_type": "code",
      "metadata": {
        "colab": {
          "base_uri": "https://localhost:8080/"
        },
        "id": "Kh7zHK-vQOtf",
        "outputId": "8c246d14-fb1f-4725-80da-9c3794403c61"
      },
      "source": [
        "len(sequences)"
      ],
      "execution_count": 14,
      "outputs": [
        {
          "output_type": "execute_result",
          "data": {
            "text/plain": [
              "56846"
            ]
          },
          "metadata": {},
          "execution_count": 14
        }
      ]
    },
    {
      "cell_type": "code",
      "metadata": {
        "colab": {
          "base_uri": "https://localhost:8080/"
        },
        "id": "eXJ7eHGmFlGo",
        "outputId": "4f7fdaa0-c090-4e53-bc43-c2f06f6db802"
      },
      "source": [
        "input_sequences, labels = sequences[:, :-1], sequences[:,-1]\n",
        "input_sequences[0], labels[0]"
      ],
      "execution_count": 15,
      "outputs": [
        {
          "output_type": "execute_result",
          "data": {
            "text/plain": [
              "(array([0, 0, 0, 0, 0, 0, 0, 0, 0, 0, 0, 0, 0, 0, 0, 0, 0, 0, 0],\n",
              "       dtype=int32), 111)"
            ]
          },
          "metadata": {},
          "execution_count": 15
        }
      ]
    },
    {
      "cell_type": "code",
      "metadata": {
        "colab": {
          "base_uri": "https://localhost:8080/"
        },
        "id": "aJ5RibIDQGcs",
        "outputId": "5322d576-eb8c-4070-a668-5a49adda72ab"
      },
      "source": [
        "len(input_sequences), len(labels)"
      ],
      "execution_count": 16,
      "outputs": [
        {
          "output_type": "execute_result",
          "data": {
            "text/plain": [
              "(56846, 56846)"
            ]
          },
          "metadata": {},
          "execution_count": 16
        }
      ]
    },
    {
      "cell_type": "markdown",
      "metadata": {
        "id": "09oG9A8jJGtI"
      },
      "source": [
        "# One Hot Encode Lables"
      ]
    },
    {
      "cell_type": "code",
      "metadata": {
        "colab": {
          "base_uri": "https://localhost:8080/"
        },
        "id": "J7ivSfILFlJY",
        "outputId": "7697e903-3a4a-44fc-e951-046d94c826f8"
      },
      "source": [
        "one_hot_labels = tf.keras.utils.to_categorical(labels, num_classes=total_words)\n",
        "one_hot_labels[0]"
      ],
      "execution_count": 17,
      "outputs": [
        {
          "output_type": "execute_result",
          "data": {
            "text/plain": [
              "array([0., 0., 0., ..., 0., 0., 0.], dtype=float32)"
            ]
          },
          "metadata": {},
          "execution_count": 17
        }
      ]
    },
    {
      "cell_type": "markdown",
      "metadata": {
        "id": "Pf6f-EYxKKF0"
      },
      "source": [
        "# Check Data"
      ]
    },
    {
      "cell_type": "code",
      "metadata": {
        "colab": {
          "base_uri": "https://localhost:8080/"
        },
        "id": "qdh5XePDFlMD",
        "outputId": "8b10a6c5-b2b3-42f4-b57d-9d0938231c8f"
      },
      "source": [
        "print(tokenizer.word_index['know'])\n",
        "print(tokenizer.word_index['feeling'])\n",
        "\n",
        "print(input_sequences[5])\n",
        "print(input_sequences[6])\n",
        "\n",
        "print(one_hot_labels[5])\n",
        "print(one_hot_labels[6])"
      ],
      "execution_count": 18,
      "outputs": [
        {
          "output_type": "stream",
          "name": "stdout",
          "text": [
            "31\n",
            "158\n",
            "[  0   0   0   0   0   0   0   0   0   0   0   0   0   0 111  66  86 206\n",
            "  29]\n",
            "[  0   0   0   0   0   0   0   0   0   0   0   0   0 111  66  86 206  29\n",
            "   4]\n",
            "[0. 0. 0. ... 0. 0. 0.]\n",
            "[0. 0. 0. ... 0. 0. 0.]\n"
          ]
        }
      ]
    },
    {
      "cell_type": "code",
      "metadata": {
        "colab": {
          "base_uri": "https://localhost:8080/"
        },
        "id": "9oLxzyinPRHY",
        "outputId": "7b70e792-7af4-48e7-a9cb-b32021cc3338"
      },
      "source": [
        "len(input_sequences), len(one_hot_labels)"
      ],
      "execution_count": 19,
      "outputs": [
        {
          "output_type": "execute_result",
          "data": {
            "text/plain": [
              "(56846, 56846)"
            ]
          },
          "metadata": {},
          "execution_count": 19
        }
      ]
    },
    {
      "cell_type": "markdown",
      "metadata": {
        "id": "uwKLZh6kKNby"
      },
      "source": [
        "# Train a Text Generation Model"
      ]
    },
    {
      "cell_type": "code",
      "metadata": {
        "colab": {
          "base_uri": "https://localhost:8080/"
        },
        "id": "VVO_60dEiiNM",
        "outputId": "3e66bb8d-e8de-48e1-f353-5f326b86a83a"
      },
      "source": [
        "model = tf.keras.models.Sequential()\n",
        "model.add(tf.keras.layers.Embedding(input_dim=total_words,\n",
        "                                    output_dim=64,\n",
        "                                    input_length=max_seq_len-1))\n",
        "model.add(tf.keras.layers.Bidirectional(tf.keras.layers.LSTM(20)))\n",
        "model.add(tf.keras.layers.Dense(units=total_words,\n",
        "                                activation='softmax'))\n",
        "\n",
        "model.compile(\n",
        "    loss = 'categorical_crossentropy',\n",
        "    optimizer = 'adam',\n",
        "    metrics = ['accuracy']\n",
        ")\n",
        "\n",
        "model.summary()"
      ],
      "execution_count": 20,
      "outputs": [
        {
          "output_type": "stream",
          "name": "stdout",
          "text": [
            "Model: \"sequential\"\n",
            "_________________________________________________________________\n",
            "Layer (type)                 Output Shape              Param #   \n",
            "=================================================================\n",
            "embedding (Embedding)        (None, 19, 64)            265472    \n",
            "_________________________________________________________________\n",
            "bidirectional (Bidirectional (None, 40)                13600     \n",
            "_________________________________________________________________\n",
            "dense (Dense)                (None, 4148)              170068    \n",
            "=================================================================\n",
            "Total params: 449,140\n",
            "Trainable params: 449,140\n",
            "Non-trainable params: 0\n",
            "_________________________________________________________________\n"
          ]
        }
      ]
    },
    {
      "cell_type": "code",
      "metadata": {
        "colab": {
          "base_uri": "https://localhost:8080/"
        },
        "id": "0I9IrWcAKRVs",
        "outputId": "2eeb3edd-7fde-4f27-96cf-68c6528ea888"
      },
      "source": [
        "history = model.fit(x=input_sequences,\n",
        "                    y=one_hot_labels,\n",
        "                    epochs=100)"
      ],
      "execution_count": 21,
      "outputs": [
        {
          "output_type": "stream",
          "name": "stdout",
          "text": [
            "Epoch 1/100\n",
            "1777/1777 [==============================] - 34s 15ms/step - loss: 6.0363 - accuracy: 0.0425\n",
            "Epoch 2/100\n",
            "1777/1777 [==============================] - 26s 15ms/step - loss: 5.7126 - accuracy: 0.0552\n",
            "Epoch 3/100\n",
            "1777/1777 [==============================] - 26s 15ms/step - loss: 5.4816 - accuracy: 0.0746\n",
            "Epoch 4/100\n",
            "1777/1777 [==============================] - 26s 15ms/step - loss: 5.2999 - accuracy: 0.0981\n",
            "Epoch 5/100\n",
            "1777/1777 [==============================] - 26s 14ms/step - loss: 5.1568 - accuracy: 0.1117\n",
            "Epoch 6/100\n",
            "1777/1777 [==============================] - 26s 15ms/step - loss: 5.0318 - accuracy: 0.1241\n",
            "Epoch 7/100\n",
            "1777/1777 [==============================] - 26s 15ms/step - loss: 4.9246 - accuracy: 0.1323\n",
            "Epoch 8/100\n",
            "1777/1777 [==============================] - 26s 15ms/step - loss: 4.8313 - accuracy: 0.1387\n",
            "Epoch 9/100\n",
            "1777/1777 [==============================] - 26s 15ms/step - loss: 4.7477 - accuracy: 0.1464\n",
            "Epoch 10/100\n",
            "1777/1777 [==============================] - 26s 15ms/step - loss: 4.6711 - accuracy: 0.1538\n",
            "Epoch 11/100\n",
            "1777/1777 [==============================] - 26s 15ms/step - loss: 4.5999 - accuracy: 0.1619\n",
            "Epoch 12/100\n",
            "1777/1777 [==============================] - 26s 15ms/step - loss: 4.5347 - accuracy: 0.1714\n",
            "Epoch 13/100\n",
            "1777/1777 [==============================] - 26s 15ms/step - loss: 4.4739 - accuracy: 0.1794\n",
            "Epoch 14/100\n",
            "1777/1777 [==============================] - 26s 15ms/step - loss: 4.4176 - accuracy: 0.1861\n",
            "Epoch 15/100\n",
            "1777/1777 [==============================] - 26s 15ms/step - loss: 4.3650 - accuracy: 0.1920\n",
            "Epoch 16/100\n",
            "1777/1777 [==============================] - 26s 15ms/step - loss: 4.3161 - accuracy: 0.1986\n",
            "Epoch 17/100\n",
            "1777/1777 [==============================] - 26s 15ms/step - loss: 4.2715 - accuracy: 0.2048\n",
            "Epoch 18/100\n",
            "1777/1777 [==============================] - 26s 15ms/step - loss: 4.2265 - accuracy: 0.2111\n",
            "Epoch 19/100\n",
            "1777/1777 [==============================] - 26s 15ms/step - loss: 4.1829 - accuracy: 0.2161\n",
            "Epoch 20/100\n",
            "1777/1777 [==============================] - 26s 15ms/step - loss: 4.1411 - accuracy: 0.2220\n",
            "Epoch 21/100\n",
            "1777/1777 [==============================] - 26s 15ms/step - loss: 4.1022 - accuracy: 0.2272\n",
            "Epoch 22/100\n",
            "1777/1777 [==============================] - 26s 15ms/step - loss: 4.0660 - accuracy: 0.2311\n",
            "Epoch 23/100\n",
            "1777/1777 [==============================] - 26s 15ms/step - loss: 4.0322 - accuracy: 0.2354\n",
            "Epoch 24/100\n",
            "1777/1777 [==============================] - 26s 15ms/step - loss: 4.0004 - accuracy: 0.2403\n",
            "Epoch 25/100\n",
            "1777/1777 [==============================] - 26s 15ms/step - loss: 3.9702 - accuracy: 0.2434\n",
            "Epoch 26/100\n",
            "1777/1777 [==============================] - 26s 15ms/step - loss: 3.9433 - accuracy: 0.2466\n",
            "Epoch 27/100\n",
            "1777/1777 [==============================] - 26s 15ms/step - loss: 3.9160 - accuracy: 0.2511\n",
            "Epoch 28/100\n",
            "1777/1777 [==============================] - 26s 15ms/step - loss: 3.8920 - accuracy: 0.2543\n",
            "Epoch 29/100\n",
            "1777/1777 [==============================] - 26s 15ms/step - loss: 3.8675 - accuracy: 0.2574\n",
            "Epoch 30/100\n",
            "1777/1777 [==============================] - 26s 15ms/step - loss: 3.8452 - accuracy: 0.2609\n",
            "Epoch 31/100\n",
            "1777/1777 [==============================] - 26s 15ms/step - loss: 3.8245 - accuracy: 0.2642\n",
            "Epoch 32/100\n",
            "1777/1777 [==============================] - 26s 15ms/step - loss: 3.8049 - accuracy: 0.2665\n",
            "Epoch 33/100\n",
            "1777/1777 [==============================] - 26s 15ms/step - loss: 3.7835 - accuracy: 0.2707\n",
            "Epoch 34/100\n",
            "1777/1777 [==============================] - 26s 15ms/step - loss: 3.7649 - accuracy: 0.2731\n",
            "Epoch 35/100\n",
            "1777/1777 [==============================] - 26s 15ms/step - loss: 3.7475 - accuracy: 0.2764\n",
            "Epoch 36/100\n",
            "1777/1777 [==============================] - 26s 15ms/step - loss: 3.7314 - accuracy: 0.2785\n",
            "Epoch 37/100\n",
            "1777/1777 [==============================] - 26s 15ms/step - loss: 3.7105 - accuracy: 0.2819\n",
            "Epoch 38/100\n",
            "1777/1777 [==============================] - 26s 15ms/step - loss: 3.6956 - accuracy: 0.2835\n",
            "Epoch 39/100\n",
            "1777/1777 [==============================] - 26s 15ms/step - loss: 3.6819 - accuracy: 0.2867\n",
            "Epoch 40/100\n",
            "1777/1777 [==============================] - 26s 15ms/step - loss: 3.6639 - accuracy: 0.2885\n",
            "Epoch 41/100\n",
            "1777/1777 [==============================] - 26s 15ms/step - loss: 3.6479 - accuracy: 0.2922\n",
            "Epoch 42/100\n",
            "1777/1777 [==============================] - 26s 15ms/step - loss: 3.6337 - accuracy: 0.2933\n",
            "Epoch 43/100\n",
            "1777/1777 [==============================] - 26s 15ms/step - loss: 3.6180 - accuracy: 0.2969\n",
            "Epoch 44/100\n",
            "1777/1777 [==============================] - 26s 15ms/step - loss: 3.6044 - accuracy: 0.2988\n",
            "Epoch 45/100\n",
            "1777/1777 [==============================] - 26s 15ms/step - loss: 3.5889 - accuracy: 0.3013\n",
            "Epoch 46/100\n",
            "1777/1777 [==============================] - 26s 15ms/step - loss: 3.5755 - accuracy: 0.3026\n",
            "Epoch 47/100\n",
            "1777/1777 [==============================] - 26s 15ms/step - loss: 3.5621 - accuracy: 0.3052\n",
            "Epoch 48/100\n",
            "1777/1777 [==============================] - 26s 15ms/step - loss: 3.5494 - accuracy: 0.3073\n",
            "Epoch 49/100\n",
            "1777/1777 [==============================] - 26s 15ms/step - loss: 3.5349 - accuracy: 0.3093\n",
            "Epoch 50/100\n",
            "1777/1777 [==============================] - 26s 15ms/step - loss: 3.5230 - accuracy: 0.3116\n",
            "Epoch 51/100\n",
            "1777/1777 [==============================] - 26s 15ms/step - loss: 3.5097 - accuracy: 0.3134\n",
            "Epoch 52/100\n",
            "1777/1777 [==============================] - 26s 15ms/step - loss: 3.4981 - accuracy: 0.3152\n",
            "Epoch 53/100\n",
            "1777/1777 [==============================] - 26s 15ms/step - loss: 3.4867 - accuracy: 0.3173\n",
            "Epoch 54/100\n",
            "1777/1777 [==============================] - 26s 15ms/step - loss: 3.4738 - accuracy: 0.3196\n",
            "Epoch 55/100\n",
            "1777/1777 [==============================] - 26s 15ms/step - loss: 3.4620 - accuracy: 0.3206\n",
            "Epoch 56/100\n",
            "1777/1777 [==============================] - 26s 15ms/step - loss: 3.4512 - accuracy: 0.3225\n",
            "Epoch 57/100\n",
            "1777/1777 [==============================] - 26s 15ms/step - loss: 3.4389 - accuracy: 0.3251\n",
            "Epoch 58/100\n",
            "1777/1777 [==============================] - 26s 15ms/step - loss: 3.4285 - accuracy: 0.3277\n",
            "Epoch 59/100\n",
            "1777/1777 [==============================] - 26s 15ms/step - loss: 3.4184 - accuracy: 0.3287\n",
            "Epoch 60/100\n",
            "1777/1777 [==============================] - 26s 15ms/step - loss: 3.4072 - accuracy: 0.3313\n",
            "Epoch 61/100\n",
            "1777/1777 [==============================] - 26s 15ms/step - loss: 3.3970 - accuracy: 0.3322\n",
            "Epoch 62/100\n",
            "1777/1777 [==============================] - 26s 15ms/step - loss: 3.3865 - accuracy: 0.3330\n",
            "Epoch 63/100\n",
            "1777/1777 [==============================] - 26s 15ms/step - loss: 3.3777 - accuracy: 0.3359\n",
            "Epoch 64/100\n",
            "1777/1777 [==============================] - 26s 15ms/step - loss: 3.3693 - accuracy: 0.3367\n",
            "Epoch 65/100\n",
            "1777/1777 [==============================] - 26s 15ms/step - loss: 3.3606 - accuracy: 0.3388\n",
            "Epoch 66/100\n",
            "1777/1777 [==============================] - 26s 15ms/step - loss: 3.3510 - accuracy: 0.3391\n",
            "Epoch 67/100\n",
            "1777/1777 [==============================] - 26s 15ms/step - loss: 3.3472 - accuracy: 0.3402\n",
            "Epoch 68/100\n",
            "1777/1777 [==============================] - 26s 15ms/step - loss: 3.3335 - accuracy: 0.3421\n",
            "Epoch 69/100\n",
            "1777/1777 [==============================] - 26s 15ms/step - loss: 3.3244 - accuracy: 0.3435\n",
            "Epoch 70/100\n",
            "1777/1777 [==============================] - 26s 15ms/step - loss: 3.3181 - accuracy: 0.3459\n",
            "Epoch 71/100\n",
            "1777/1777 [==============================] - 26s 15ms/step - loss: 3.3096 - accuracy: 0.3458\n",
            "Epoch 72/100\n",
            "1777/1777 [==============================] - 26s 15ms/step - loss: 3.3048 - accuracy: 0.3465\n",
            "Epoch 73/100\n",
            "1777/1777 [==============================] - 26s 15ms/step - loss: 3.2914 - accuracy: 0.3490\n",
            "Epoch 74/100\n",
            "1777/1777 [==============================] - 26s 15ms/step - loss: 3.2860 - accuracy: 0.3497\n",
            "Epoch 75/100\n",
            "1777/1777 [==============================] - 26s 15ms/step - loss: 3.2785 - accuracy: 0.3518\n",
            "Epoch 76/100\n",
            "1777/1777 [==============================] - 26s 15ms/step - loss: 3.2730 - accuracy: 0.3516\n",
            "Epoch 77/100\n",
            "1777/1777 [==============================] - 26s 15ms/step - loss: 3.2630 - accuracy: 0.3531\n",
            "Epoch 78/100\n",
            "1777/1777 [==============================] - 26s 15ms/step - loss: 3.2637 - accuracy: 0.3536\n",
            "Epoch 79/100\n",
            "1777/1777 [==============================] - 26s 15ms/step - loss: 3.2486 - accuracy: 0.3561\n",
            "Epoch 80/100\n",
            "1777/1777 [==============================] - 26s 15ms/step - loss: 3.2440 - accuracy: 0.3579\n",
            "Epoch 81/100\n",
            "1777/1777 [==============================] - 26s 15ms/step - loss: 3.2387 - accuracy: 0.3577\n",
            "Epoch 82/100\n",
            "1777/1777 [==============================] - 26s 15ms/step - loss: 3.2340 - accuracy: 0.3586\n",
            "Epoch 83/100\n",
            "1777/1777 [==============================] - 26s 15ms/step - loss: 3.2236 - accuracy: 0.3602\n",
            "Epoch 84/100\n",
            "1777/1777 [==============================] - 26s 15ms/step - loss: 3.2147 - accuracy: 0.3618\n",
            "Epoch 85/100\n",
            "1777/1777 [==============================] - 26s 15ms/step - loss: 3.2087 - accuracy: 0.3648\n",
            "Epoch 86/100\n",
            "1777/1777 [==============================] - 26s 15ms/step - loss: 3.2043 - accuracy: 0.3638\n",
            "Epoch 87/100\n",
            "1777/1777 [==============================] - 26s 15ms/step - loss: 3.1945 - accuracy: 0.3667\n",
            "Epoch 88/100\n",
            "1777/1777 [==============================] - 26s 15ms/step - loss: 3.1914 - accuracy: 0.3660\n",
            "Epoch 89/100\n",
            "1777/1777 [==============================] - 26s 15ms/step - loss: 3.1856 - accuracy: 0.3676\n",
            "Epoch 90/100\n",
            "1777/1777 [==============================] - 26s 15ms/step - loss: 3.1838 - accuracy: 0.3680\n",
            "Epoch 91/100\n",
            "1777/1777 [==============================] - 26s 15ms/step - loss: 3.1712 - accuracy: 0.3693\n",
            "Epoch 92/100\n",
            "1777/1777 [==============================] - 26s 15ms/step - loss: 3.1689 - accuracy: 0.3703\n",
            "Epoch 93/100\n",
            "1777/1777 [==============================] - 26s 15ms/step - loss: 3.1617 - accuracy: 0.3726\n",
            "Epoch 94/100\n",
            "1777/1777 [==============================] - 26s 15ms/step - loss: 3.1550 - accuracy: 0.3729\n",
            "Epoch 95/100\n",
            "1777/1777 [==============================] - 26s 15ms/step - loss: 3.1521 - accuracy: 0.3729\n",
            "Epoch 96/100\n",
            "1777/1777 [==============================] - 26s 15ms/step - loss: 3.1458 - accuracy: 0.3747\n",
            "Epoch 97/100\n",
            "1777/1777 [==============================] - 26s 15ms/step - loss: 3.1348 - accuracy: 0.3759\n",
            "Epoch 98/100\n",
            "1777/1777 [==============================] - 26s 15ms/step - loss: 3.1321 - accuracy: 0.3770\n",
            "Epoch 99/100\n",
            "1777/1777 [==============================] - 26s 15ms/step - loss: 3.1243 - accuracy: 0.3783\n",
            "Epoch 100/100\n",
            "1777/1777 [==============================] - 26s 15ms/step - loss: 3.1209 - accuracy: 0.3781\n"
          ]
        }
      ]
    },
    {
      "cell_type": "code",
      "metadata": {
        "id": "gF-f6srgKRYX"
      },
      "source": [
        "def plot_graph(history, string):\n",
        "  plt.plot(history.history[string])\n",
        "  # plt.plot(history.history['val_'+string])\n",
        "  plt.xlabel('Epochs')\n",
        "  plt.ylabel(string)\n",
        "  # plt.legend([string, 'val_'+string])\n",
        "  plt.show()"
      ],
      "execution_count": 22,
      "outputs": []
    },
    {
      "cell_type": "code",
      "metadata": {
        "colab": {
          "base_uri": "https://localhost:8080/",
          "height": 541
        },
        "id": "X4_P4ycUKRdA",
        "outputId": "1f2966b4-18d4-4719-f12d-ddc975d01958"
      },
      "source": [
        "plot_graph(history, 'accuracy')\n",
        "plot_graph(history, 'loss')"
      ],
      "execution_count": 23,
      "outputs": [
        {
          "output_type": "display_data",
          "data": {
            "image/png": "[encoded data removed]",
            "text/plain": [
              "<Figure size 432x288 with 1 Axes>"
            ]
          },
          "metadata": {
            "needs_background": "light"
          }
        },
        {
          "output_type": "display_data",
          "data": {
            "image/png": "[encoded data removed]",
            "text/plain": [
              "<Figure size 432x288 with 1 Axes>"
            ]
          },
          "metadata": {
            "needs_background": "light"
          }
        }
      ]
    },
    {
      "cell_type": "markdown",
      "metadata": {
        "id": "C7jmfNktRStX"
      },
      "source": [
        "# Generate New Lyrics"
      ]
    },
    {
      "cell_type": "code",
      "metadata": {
        "colab": {
          "base_uri": "https://localhost:8080/"
        },
        "id": "g6iAGcekKRsh",
        "outputId": "2c3ca641-3a85-4c50-c5b7-1de891b072fc"
      },
      "source": [
        "seed_text = 'im feeling chills'\n",
        "next_words = 100\n",
        "\n",
        "for _ in range(next_words):\n",
        "  token_list = tokenizer.texts_to_sequences([seed_text])[0]\n",
        "  token_list = pad_sequences(sequences=[token_list],\n",
        "                             maxlen=max_seq_len-1,\n",
        "                             padding='pre')\n",
        "  predicted = np.argmax(model.predict(token_list), axis=-1)\n",
        "\n",
        "  output_word = ''\n",
        "  for word, index in tokenizer.word_index.items():\n",
        "    if index == predicted:\n",
        "      output_word = word\n",
        "      break\n",
        "  seed_text += \" \" + output_word\n",
        "\n",
        "print(seed_text)\n"
      ],
      "execution_count": 24,
      "outputs": [
        {
          "output_type": "stream",
          "name": "stdout",
          "text": [
            "im feeling chills me to the farm that trick now im a cry is a shame falling going ahead ahead ballerina heels o day can trial near me and youll plans yourself together kissing through angels own dreadful winner corner defeated escape beaten fool love taught taught happiest shadow by myself for loneliness on loneliness that she will higher honesty your trees endless door shadow then devil girlya tidy ahhah honey day fools love can love taught everythings love taught everythings push scares forty hes doesnt may take take a lot of get excite let it be fair trees dreadful winner twilight present\n"
          ]
        }
      ]
    },
    {
      "cell_type": "markdown",
      "metadata": {
        "id": "PXBhu038WaNg"
      },
      "source": [
        "# Randomly choose words with probabilities"
      ]
    },
    {
      "cell_type": "code",
      "metadata": {
        "id": "MZRb1A3lRVDQ",
        "colab": {
          "base_uri": "https://localhost:8080/"
        },
        "outputId": "152700de-0ee2-4d60-d887-d2368ce8d8d7"
      },
      "source": [
        "seed_text = 'im feeling chills'\n",
        "next_words = 100\n",
        "\n",
        "for _ in range(next_words):\n",
        "  token_list = tokenizer.texts_to_sequences([seed_text])[0]\n",
        "  token_list = pad_sequences(sequences=[token_list],\n",
        "                             maxlen=max_seq_len-1,\n",
        "                             padding='pre')\n",
        "  predicted_probs = model.predict(token_list)[0]\n",
        "  predicted = np.random.choice([x for x in range(len(predicted_probs))],\n",
        "                               p=predicted_probs)\n",
        "\n",
        "  output_word = ''\n",
        "  for word, index in tokenizer.word_index.items():\n",
        "    if index == predicted:\n",
        "      output_word = word\n",
        "      break\n",
        "  seed_text += \" \" + output_word\n",
        "\n",
        "print(seed_text)"
      ],
      "execution_count": 25,
      "outputs": [
        {
          "output_type": "stream",
          "name": "stdout",
          "text": [
            "im feeling chills me to the rest of the head laughing stop doing now nobodys soul all alone can hug hug myself defenses along honesty no safe or call to die for door too easily heads for hills tambourine man man days higher old grind honey by forty winner rushing door girlfriend trees winner bird marionette brother marionette brother sunrise speaking move looks breaking not sail those bus day old man needed nancy baby tea mama tried spring still magic other thrill treasure thrill treasure train twilight tells tambourine ahhaa by piper kick baby guy love call my happiest day by loneliness fair\n"
          ]
        }
      ]
    },
    {
      "cell_type": "code",
      "metadata": {
        "id": "PsxA75ZVRVF6"
      },
      "source": [
        ""
      ],
      "execution_count": 25,
      "outputs": []
    },
    {
      "cell_type": "code",
      "metadata": {
        "id": "mOPiSNxDRVI4"
      },
      "source": [
        ""
      ],
      "execution_count": 25,
      "outputs": []
    },
    {
      "cell_type": "code",
      "metadata": {
        "id": "0dvaABCMRVL7"
      },
      "source": [
        ""
      ],
      "execution_count": 25,
      "outputs": []
    },
    {
      "cell_type": "code",
      "metadata": {
        "id": "KL_oHxgwRVWz"
      },
      "source": [
        ""
      ],
      "execution_count": 25,
      "outputs": []
    }
  ]
}