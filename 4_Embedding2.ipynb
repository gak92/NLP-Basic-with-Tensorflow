{
  "nbformat": 4,
  "nbformat_minor": 0,
  "metadata": {
    "colab": {
      "name": "4_Embedding2.ipynb",
      "provenance": [],
      "collapsed_sections": []
    },
    "kernelspec": {
      "name": "python3",
      "display_name": "Python 3"
    },
    "language_info": {
      "name": "python"
    }
  },
  "cells": [
    {
      "cell_type": "markdown",
      "metadata": {
        "id": "OSd4RyS6PZwp"
      },
      "source": [
        "# Importing Libraries"
      ]
    },
    {
      "cell_type": "code",
      "metadata": {
        "id": "N5wr2uNRPO-r"
      },
      "source": [
        "import numpy as np\n",
        "import pandas as pd\n",
        "import tensorflow as tf\n",
        "import io\n",
        "import matplotlib.pyplot as plt\n",
        "\n",
        "from tensorflow.keras.preprocessing.text import Tokenizer\n",
        "from tensorflow.keras.preprocessing.sequence import pad_sequences"
      ],
      "execution_count": 22,
      "outputs": []
    },
    {
      "cell_type": "markdown",
      "metadata": {
        "id": "mvkfY5iDP6D1"
      },
      "source": [
        "# Download Dataset"
      ]
    },
    {
      "cell_type": "markdown",
      "metadata": {
        "id": "GfKlRGsGP8Qn"
      },
      "source": [
        "* https://www.kaggle.com/marklvl/sentiment-labelled-sentences-data-set"
      ]
    },
    {
      "cell_type": "code",
      "metadata": {
        "id": "tVu141GwP9GN"
      },
      "source": [
        "URL = 'https://drive.google.com/uc?id=13ySLC_ue6Umt9RJYSeM2t-V0kCv-4C-P'"
      ],
      "execution_count": 2,
      "outputs": []
    },
    {
      "cell_type": "code",
      "metadata": {
        "colab": {
          "base_uri": "https://localhost:8080/"
        },
        "id": "zMhEp1fbQEL4",
        "outputId": "cb817043-aa81-493c-c1b9-1658f9497c2a"
      },
      "source": [
        "file_path = tf.keras.utils.get_file('sentiments.csv', URL)\n",
        "print(file_path)"
      ],
      "execution_count": 3,
      "outputs": [
        {
          "output_type": "stream",
          "name": "stdout",
          "text": [
            "Downloading data from https://drive.google.com/uc?id=13ySLC_ue6Umt9RJYSeM2t-V0kCv-4C-P\n",
            "131072/127831 [==============================] - 0s 1us/step\n",
            "139264/127831 [================================] - 0s 1us/step\n",
            "/root/.keras/datasets/sentiments.csv\n"
          ]
        }
      ]
    },
    {
      "cell_type": "code",
      "metadata": {
        "colab": {
          "base_uri": "https://localhost:8080/",
          "height": 204
        },
        "id": "orWP9YWIQS3f",
        "outputId": "764b8ccb-2fd3-4bf9-a086-2562e9766643"
      },
      "source": [
        "dataset = pd.read_csv(file_path)\n",
        "dataset.head()"
      ],
      "execution_count": 4,
      "outputs": [
        {
          "output_type": "execute_result",
          "data": {
            "text/html": [
              "<div>\n",
              "<style scoped>\n",
              "    .dataframe tbody tr th:only-of-type {\n",
              "        vertical-align: middle;\n",
              "    }\n",
              "\n",
              "    .dataframe tbody tr th {\n",
              "        vertical-align: top;\n",
              "    }\n",
              "\n",
              "    .dataframe thead th {\n",
              "        text-align: right;\n",
              "    }\n",
              "</style>\n",
              "<table border=\"1\" class=\"dataframe\">\n",
              "  <thead>\n",
              "    <tr style=\"text-align: right;\">\n",
              "      <th></th>\n",
              "      <th>Unnamed: 0</th>\n",
              "      <th>text</th>\n",
              "      <th>sentiment</th>\n",
              "    </tr>\n",
              "  </thead>\n",
              "  <tbody>\n",
              "    <tr>\n",
              "      <th>0</th>\n",
              "      <td>0</td>\n",
              "      <td>So there is no way for me to plug it in here i...</td>\n",
              "      <td>0</td>\n",
              "    </tr>\n",
              "    <tr>\n",
              "      <th>1</th>\n",
              "      <td>1</td>\n",
              "      <td>Good case Excellent value.</td>\n",
              "      <td>1</td>\n",
              "    </tr>\n",
              "    <tr>\n",
              "      <th>2</th>\n",
              "      <td>2</td>\n",
              "      <td>Great for the jawbone.</td>\n",
              "      <td>1</td>\n",
              "    </tr>\n",
              "    <tr>\n",
              "      <th>3</th>\n",
              "      <td>3</td>\n",
              "      <td>Tied to charger for conversations lasting more...</td>\n",
              "      <td>0</td>\n",
              "    </tr>\n",
              "    <tr>\n",
              "      <th>4</th>\n",
              "      <td>4</td>\n",
              "      <td>The mic is great.</td>\n",
              "      <td>1</td>\n",
              "    </tr>\n",
              "  </tbody>\n",
              "</table>\n",
              "</div>"
            ],
            "text/plain": [
              "   Unnamed: 0                                               text  sentiment\n",
              "0           0  So there is no way for me to plug it in here i...          0\n",
              "1           1                         Good case Excellent value.          1\n",
              "2           2                             Great for the jawbone.          1\n",
              "3           3  Tied to charger for conversations lasting more...          0\n",
              "4           4                                  The mic is great.          1"
            ]
          },
          "metadata": {},
          "execution_count": 4
        }
      ]
    },
    {
      "cell_type": "code",
      "metadata": {
        "colab": {
          "base_uri": "https://localhost:8080/"
        },
        "id": "2iRjCm-NX0nA",
        "outputId": "f165d62f-c2d2-46fb-e61b-2e1904257ac7"
      },
      "source": [
        "sentences = dataset['text'].tolist()\n",
        "labels = dataset['sentiment'].tolist()\n",
        "\n",
        "len(sentences), len(labels)"
      ],
      "execution_count": 5,
      "outputs": [
        {
          "output_type": "execute_result",
          "data": {
            "text/plain": [
              "(1992, 1992)"
            ]
          },
          "metadata": {},
          "execution_count": 5
        }
      ]
    },
    {
      "cell_type": "code",
      "metadata": {
        "colab": {
          "base_uri": "https://localhost:8080/"
        },
        "id": "--ca7SaMX0p_",
        "outputId": "c3818e22-3694-43f0-ca6e-6018b952b9b4"
      },
      "source": [
        "# Split data into training and testing\n",
        "training_size = int(len(sentences) * 0.8)\n",
        "print(training_size)"
      ],
      "execution_count": 6,
      "outputs": [
        {
          "output_type": "stream",
          "name": "stdout",
          "text": [
            "1593\n"
          ]
        }
      ]
    },
    {
      "cell_type": "code",
      "metadata": {
        "colab": {
          "base_uri": "https://localhost:8080/"
        },
        "id": "2LduhBYUX035",
        "outputId": "e6fc893e-97da-4798-c15b-a1cbe57080cd"
      },
      "source": [
        "training_sentences = sentences[0 : training_size]\n",
        "testing_sentences = sentences[training_size:]\n",
        "\n",
        "training_labels = labels[0 : training_size]\n",
        "testing_labels = labels[training_size:]\n",
        "\n",
        "len(training_sentences), len(training_labels), len(testing_sentences), len(testing_labels)"
      ],
      "execution_count": 7,
      "outputs": [
        {
          "output_type": "execute_result",
          "data": {
            "text/plain": [
              "(1593, 1593, 399, 399)"
            ]
          },
          "metadata": {},
          "execution_count": 7
        }
      ]
    },
    {
      "cell_type": "code",
      "metadata": {
        "id": "uRxQFFykX068"
      },
      "source": [
        "# Convert labels into numpy array\n",
        "training_labels_final = np.array(training_labels)\n",
        "testing_labels_final = np.array(testing_labels)"
      ],
      "execution_count": 8,
      "outputs": []
    },
    {
      "cell_type": "code",
      "metadata": {
        "colab": {
          "base_uri": "https://localhost:8080/"
        },
        "id": "u2o4XY2wg1IO",
        "outputId": "6a077d4a-125f-4c71-9861-320edf6eee8f"
      },
      "source": [
        "type(training_labels_final), type(testing_labels_final)"
      ],
      "execution_count": 9,
      "outputs": [
        {
          "output_type": "execute_result",
          "data": {
            "text/plain": [
              "(numpy.ndarray, numpy.ndarray)"
            ]
          },
          "metadata": {},
          "execution_count": 9
        }
      ]
    },
    {
      "cell_type": "code",
      "metadata": {
        "colab": {
          "base_uri": "https://localhost:8080/"
        },
        "id": "Nzp8p7b0g8Et",
        "outputId": "d83f6ff6-5b08-4aea-ee93-fe8f83966b04"
      },
      "source": [
        "len(training_labels_final), len(testing_labels_final)"
      ],
      "execution_count": 10,
      "outputs": [
        {
          "output_type": "execute_result",
          "data": {
            "text/plain": [
              "(1593, 399)"
            ]
          },
          "metadata": {},
          "execution_count": 10
        }
      ]
    },
    {
      "cell_type": "markdown",
      "metadata": {
        "id": "xrd_ov1NZYqd"
      },
      "source": [
        "# Tokenize the dataset"
      ]
    },
    {
      "cell_type": "code",
      "metadata": {
        "id": "y6C24jc_ZWG6"
      },
      "source": [
        "VOCAB_SIZE = 500\n",
        "OOV_TOKEN = '<OOV>'\n",
        "MAX_LENGTH = 50\n",
        "PADDING_TYPE = 'post'\n",
        "TRUNC_TYPE ='post'\n",
        "EMBEDDING_DIM = 16"
      ],
      "execution_count": 11,
      "outputs": []
    },
    {
      "cell_type": "code",
      "metadata": {
        "colab": {
          "base_uri": "https://localhost:8080/"
        },
        "id": "6UFzMF4tZWJn",
        "outputId": "afa633e9-d8e1-4735-db21-ceffcdf1601f"
      },
      "source": [
        "tokenizer = Tokenizer(num_words=VOCAB_SIZE, oov_token=OOV_TOKEN)\n",
        "tokenizer.fit_on_texts(training_sentences)\n",
        "\n",
        "word_index = tokenizer.word_index\n",
        "print(word_index)"
      ],
      "execution_count": 12,
      "outputs": [
        {
          "output_type": "stream",
          "name": "stdout",
          "text": [
            "{'<OOV>': 1, 'the': 2, 'and': 3, 'i': 4, 'it': 5, 'a': 6, 'is': 7, 'to': 8, 'this': 9, 'was': 10, 'of': 11, 'my': 12, 'for': 13, 'not': 14, 'phone': 15, 'in': 16, 'very': 17, 'with': 18, 'great': 19, 'good': 20, 'on': 21, 'that': 22, 'have': 23, 'you': 24, 'had': 25, 'so': 26, 'but': 27, 'are': 28, 'food': 29, 'service': 30, 'be': 31, 'as': 32, 'place': 33, 'all': 34, 'like': 35, 'quality': 36, 'time': 37, 'product': 38, 'one': 39, 'at': 40, 'we': 41, 'well': 42, 'they': 43, 'would': 44, 'back': 45, 'if': 46, 'headset': 47, 'works': 48, 'battery': 49, 'really': 50, \"don't\": 51, 'sound': 52, 'your': 53, 'use': 54, 'best': 55, 'up': 56, 'from': 57, 'has': 58, 'just': 59, 'an': 60, \"i've\": 61, 'will': 62, 'no': 63, 'were': 64, 'only': 65, 'also': 66, 'me': 67, 'there': 68, 'ever': 69, 'than': 70, \"it's\": 71, 'out': 72, 'nice': 73, 'ear': 74, 'go': 75, 'excellent': 76, 'when': 77, 'first': 78, 'work': 79, 'recommend': 80, '2': 81, 'here': 82, 'after': 83, \"i'm\": 84, 'or': 85, 'never': 86, 'too': 87, 'love': 88, 'price': 89, 'case': 90, 'get': 91, 'can': 92, 'been': 93, 'more': 94, 'what': 95, 'any': 96, 'could': 97, 'again': 98, 'even': 99, 'because': 100, 'better': 101, 'did': 102, 'does': 103, 'about': 104, 'do': 105, 'made': 106, 'which': 107, 'our': 108, 'by': 109, 'now': 110, 'their': 111, 'bad': 112, 'other': 113, 'am': 114, 'worst': 115, 'them': 116, 'much': 117, 'got': 118, 'money': 119, 'new': 120, 'disappointed': 121, 'enough': 122, 'these': 123, 'delicious': 124, 'then': 125, 'think': 126, 'still': 127, 'happy': 128, 'off': 129, 'minutes': 130, 'right': 131, 'car': 132, 'pretty': 133, 'item': 134, 'worked': 135, 'friendly': 136, 'charger': 137, 'buy': 138, 'while': 139, 'vegas': 140, 'waste': 141, 'comfortable': 142, 'far': 143, 'poor': 144, 'bluetooth': 145, 'easy': 146, 'some': 147, 'he': 148, 'two': 149, 'bought': 150, 'everything': 151, 'few': 152, 'definitely': 153, 'reception': 154, 'used': 155, 'restaurant': 156, 'going': 157, 'how': 158, 'went': 159, 'people': 160, \"doesn't\": 161, 'fine': 162, 'thing': 163, '1': 164, 'its': 165, 'being': 166, \"didn't\": 167, 'make': 168, 'piece': 169, 'over': 170, 'came': 171, 'always': 172, 'way': 173, 'say': 174, 'long': 175, 'charge': 176, 'little': 177, 'life': 178, 'purchase': 179, 'down': 180, 'cell': 181, 'terrible': 182, 'times': 183, 'take': 184, 'amazing': 185, '5': 186, 'problem': 187, '3': 188, 'camera': 189, 'want': 190, 'calls': 191, 'device': 192, 'know': 193, 'same': 194, 'another': 195, 'come': 196, 'us': 197, 'problems': 198, 'volume': 199, 'into': 200, 'last': 201, 'hear': 202, 'clear': 203, 'lot': 204, 'working': 205, 'found': 206, 'using': 207, 'motorola': 208, 'fit': 209, 'small': 210, 'fantastic': 211, 'every': 212, 'before': 213, 'horrible': 214, 'worth': 215, 'many': 216, 'quite': 217, 'plug': 218, 'impressed': 219, 'design': 220, 'highly': 221, 'makes': 222, 'years': 223, 'sure': 224, 'order': 225, 'both': 226, \"couldn't\": 227, 'fits': 228, 'look': 229, 'experience': 230, 'ordered': 231, 'customer': 232, 'try': 233, 'nothing': 234, \"can't\": 235, 'taste': 236, 'staff': 237, 'several': 238, 'loved': 239, 'without': 240, 'months': 241, 'left': 242, 'phones': 243, 'real': 244, 'since': 245, 'looks': 246, 'cool': 247, 'tried': 248, 'call': 249, 'around': 250, 'screen': 251, 'cheap': 252, 'side': 253, 'where': 254, 'overall': 255, \"i'd\": 256, 'year': 257, 'stars': 258, 'however': 259, 'deal': 260, 'give': 261, \"wasn't\": 262, \"won't\": 263, 'fresh': 264, 'salad': 265, 'steak': 266, 'waited': 267, 'days': 268, 'she': 269, 'talk': 270, 'find': 271, 'wear': 272, 'kind': 273, 'perfectly': 274, '10': 275, 'night': 276, 'company': 277, 'either': 278, 'old': 279, 'low': 280, 'amazon': 281, 'hard': 282, 'said': 283, 'day': 284, 'next': 285, 'menu': 286, 'burger': 287, 'pizza': 288, 'who': 289, 'absolutely': 290, 'most': 291, 'need': 292, 'priced': 293, 'verizon': 294, 'dropped': 295, 'buttons': 296, 'seriously': 297, 'big': 298, 'broke': 299, 'black': 300, 'light': 301, 'completely': 302, 'jabra': 303, 'voice': 304, 'area': 305, 'slow': 306, 'probably': 307, 'return': 308, 'junk': 309, 'looking': 310, \"i'll\": 311, 'unit': 312, 'away': 313, 'anyone': 314, 'took': 315, 'none': 316, 'tasty': 317, 'selection': 318, 'eat': 319, 'breakfast': 320, 'flavor': 321, 'must': 322, 'everyone': 323, 'helpful': 324, 'kept': 325, 'picture': 326, 'audio': 327, 'loud': 328, 'end': 329, 'different': 330, 'feels': 331, 'headsets': 332, 'gets': 333, 'home': 334, 'arrived': 335, 'quickly': 336, 'received': 337, 'pleased': 338, 'job': 339, 'getting': 340, 'software': 341, 'hours': 342, 'internet': 343, 'less': 344, 'stay': 345, 'extremely': 346, 'useless': 347, 'felt': 348, 'hands': 349, 'family': 350, 'nokia': 351, 'sucks': 352, 'couple': 353, 'disappointing': 354, 'bland': 355, 'those': 356, 'wrong': 357, 'things': 358, 'feel': 359, 'coming': 360, 'waitress': 361, 'sushi': 362, 'unless': 363, 'value': 364, 'each': 365, 'original': 366, 'though': 367, 'bars': 368, 'three': 369, 'simple': 370, 'ears': 371, 'hate': 372, 'turn': 373, 'headphones': 374, 'week': 375, 'later': 376, 'within': 377, 'expect': 378, 'free': 379, 'huge': 380, 'high': 381, 'fast': 382, 'full': 383, 'may': 384, 'signal': 385, 'avoid': 386, 'glad': 387, 'put': 388, 'awesome': 389, 'incredible': 390, 'check': 391, 'color': 392, 'part': 393, 'expected': 394, 'tell': 395, 'authentic': 396, 'disappointment': 397, 'cable': 398, 'care': 399, 'ago': 400, 'having': 401, 'crap': 402, 'especially': 403, 'rather': 404, 'difficult': 405, 'cannot': 406, 'zero': 407, 'samsung': 408, 'extra': 409, 'soon': 410, 'inside': 411, 'prices': 412, 'cooked': 413, 'wonderful': 414, 'sauce': 415, 'dish': 416, 'buffet': 417, 'eating': 418, 'dining': 419, 'atmosphere': 420, 'clean': 421, 'line': 422, 'decent': 423, 'razr': 424, 'started': 425, 'yet': 426, 'charging': 427, 'mobile': 428, 'hold': 429, 'least': 430, 'seems': 431, 'should': 432, 'actually': 433, 'sturdy': 434, 'large': 435, 'front': 436, 'beautiful': 437, 'bargain': 438, 'super': 439, 'shipping': 440, 'between': 441, 'pictures': 442, 'wife': 443, 'strong': 444, 'done': 445, 'set': 446, 'weeks': 447, 'during': 448, 'charm': 449, 'hit': 450, 'thought': 451, 'reasonably': 452, 'range': 453, 'bit': 454, 'mistake': 455, 'important': 456, 'feature': 457, 'buying': 458, 'lacking': 459, 'anything': 460, 'belt': 461, 'data': 462, 'sides': 463, 'others': 464, 'trying': 465, 'today': 466, 'satisfied': 467, 'keep': 468, 'plastic': 469, 'oh': 470, 'clarity': 471, '20': 472, 'unfortunately': 473, 'given': 474, 'star': 475, 'replace': 476, 'quick': 477, 'plus': 478, 'cases': 479, 'pay': 480, 'connection': 481, 'told': 482, 'hour': 483, '4': 484, 'management': 485, 'easily': 486, 'see': 487, 'wow': 488, 'pho': 489, 'fries': 490, 'beer': 491, 'waiter': 492, 'table': 493, 'tender': 494, 'server': 495, 'potato': 496, 'lunch': 497, 'chicken': 498, 'town': 499, 'spicy': 500, 'served': 501, 'eaten': 502, 'spot': 503, 'ambiance': 504, 'mic': 505, 'sending': 506, 'clip': 507, 'blue': 508, 'instructions': 509, 'provided': 510, 'included': 511, 'recommended': 512, 'performance': 513, 'keyboard': 514, 'instead': 515, 'reasonable': 516, 'support': 517, 'perhaps': 518, 'party': 519, 'player': 520, 'person': 521, 'station': 522, 'purchased': 523, 'holds': 524, 'music': 525, 'dont': 526, 'decision': 527, 'white': 528, 'although': 529, 'such': 530, 'ask': 531, 'leather': 532, 'comfortably': 533, 'basically': 534, 'almost': 535, 'stuff': 536, 'house': 537, 'literally': 538, 'goes': 539, 'tool': 540, 'obviously': 541, 'once': 542, 'simply': 543, 'lasts': 544, 'able': 545, 'lightweight': 546, 'earpiece': 547, 'unreliable': 548, 'gave': 549, 'seller': 550, 'plantronics': 551, 'charged': 552, 'weak': 553, 'lg': 554, 'cant': 555, 'easier': 556, 'hot': 557, 'face': 558, 'happier': 559, 'finally': 560, 'wanted': 561, 'waiting': 562, 'comes': 563, 'might': 564, 'expensive': 565, 'under': 566, 'liked': 567, 'palm': 568, 'store': 569, 'touch': 570, 'above': 571, 'own': 572, 'cingular': 573, 't': 574, 'enjoy': 575, 'please': 576, 'ringtones': 577, 'stop': 578, 'needed': 579, 'treo': 580, 'usb': 581, 'point': 582, 'red': 583, 'reviews': 584, 'awful': 585, 'something': 586, 'bar': 587, 'third': 588, 'wall': 589, 'hand': 590, 'break': 591, 'perfect': 592, 'until': 593, 'totally': 594, 'fact': 595, 'places': 596, 'tables': 597, 'shrimp': 598, 'servers': 599, 'pasta': 600, 'wait': 601, 'meat': 602, 'dishes': 603, 'thai': 604, 'steaks': 605, 'rude': 606, 'bacon': 607, 'wings': 608, 'folks': 609, 'special': 610, '0': 611, 'location': 612, 'jawbone': 613, 'conversations': 614, 'contacts': 615, 'fun': 616, 'static': 617, 'website': 618, 'pair': 619, 'below': 620, \"that's\": 621, 'pocket': 622, 'pc': 623, '7': 624, 'worthless': 625, 'thats': 626, 'features': 627, 'mind': 628, 'returned': 629, 'protection': 630, 'seconds': 631, '510': 632, 'complaints': 633, 'particular': 634, \"phone's\": 635, 'cover': 636, 'let': 637, 'trouble': 638, 'choice': 639, 'longer': 640, 'packaged': 641, 'loves': 642, 'construction': 643, 'boy': 644, 'ease': 645, 'play': 646, 'plan': 647, 'match': 648, 'fall': 649, 'display': 650, 'rocks': 651, 'number': 652, 'setup': 653, 'earpieces': 654, 'bt': 655, 'earbud': 656, 'failed': 657, 'coverage': 658, 'experienced': 659, 'drops': 660, 'forever': 661, 'description': 662, 'hoping': 663, \"wouldn't\": 664, 'sharp': 665, 'wasting': 666, 'chargers': 667, 'options': 668, 'needs': 669, 'handsfree': 670, 'network': 671, 'lost': 672, 'replacement': 673, 'thin': 674, 'nearly': 675, 'form': 676, 'anyway': 677, 'room': 678, \"there's\": 679, 'certainly': 680, 'mess': 681, 'hair': 682, 'sony': 683, 'favorite': 684, 'market': 685, 'comfort': 686, 'whatsoever': 687, '8': 688, 'drain': 689, 'whole': 690, 'poorly': 691, 'scratched': 692, 'someone': 693, 'microphone': 694, 'uncomfortable': 695, 'plugged': 696, 'driving': 697, 'immediately': 698, 'flip': 699, 'inexpensive': 700, 'wireless': 701, 'outside': 702, 'exactly': 703, \"you'd\": 704, 'stupid': 705, 'dead': 706, 'breaks': 707, 'note': 708, 'alone': 709, 'q': 710, 'size': 711, 'turned': 712, 'wearing': 713, 'sunglasses': 714, 'computer': 715, 'results': 716, 'im': 717, 'noise': 718, 'holster': 719, 'review': 720, 'ended': 721, 'refund': 722, 'drop': 723, 'sucked': 724, 'total': 725, 'friends': 726, \"isn't\": 727, 'joke': 728, 'walked': 729, 'through': 730, 'speaker': 731, 'sprint': 732, 'stopped': 733, 'guess': 734, 'tinny': 735, 'spring': 736, 'pairing': 737, 'ripped': 738, 'beat': 739, 'iphone': 740, 'despite': 741, 'power': 742, 'outlet': 743, 'etc': 744, 'elsewhere': 745, 'mediocre': 746, 'passed': 747, '100': 748, 'cut': 749, 'date': 750, 'bottom': 751, 'else': 752, 'boot': 753, 'thumbs': 754, 'checked': 755, 'send': 756, 'says': 757, 'top': 758, 'making': 759, 'beep': 760, 'word': 761, 'seen': 762, 'damn': 763, 'warm': 764, 'running': 765, 'salmon': 766, 'portions': 767, 'establishment': 768, 'sick': 769, 'attentive': 770, 'dessert': 771, 'sandwich': 772, 'greek': 773, 'dressing': 774, 'husband': 775, 'heart': 776, 'seafood': 777, 'tasteless': 778, 'second': 779, 'fish': 780, 'drinks': 781, 'rice': 782, '30': 783, 'sweet': 784, 'rolls': 785, \"you're\": 786, 'cafe': 787, 'meal': 788, 'trip': 789, 'leave': 790, 'pork': 791, 'delish': 792, 'cream': 793, 'empty': 794, 'itself': 795, 'considering': 796, 'seated': 797, 'phoenix': 798, 'treated': 799, 'sat': 800, 'ice': 801, 'interesting': 802, 'bread': 803, 'business': 804, 'cold': 805, 'possible': 806, 'outstanding': 807, 'pizzas': 808, 'enjoyed': 809, 'lasting': 810, '45': 811, 'wasted': 812, 'extended': 813, 'notice': 814, 'tooth': 815, 'advise': 816, 'fire': 817, 'run': 818, 'combination': 819, 'owned': 820, 'pull': 821, 'unusable': 822, 'book': 823, 'short': 824, 'regarding': 825, 'turns': 826, 'pda': 827, 'world': 828, '15': 829, 'essentially': 830, 'forget': 831, 'tech': 832, 'clearly': 833, 'mp3': 834, 'lock': 835, 'died': 836, 'glasses': 837, 'sometimes': 838, 'series': 839, 'quiet': 840, 'saying': 841, 'docking': 842, 'd807': 843, 'advertised': 844, 'handy': 845, '6': 846, 'cheaper': 847, 'costs': 848, 'buyer': 849, 'beware': 850, 'apparently': 851, 'pros': 852, 'flaw': 853, 'rated': 854, 'impressive': 855, 'expectations': 856, 'resolution': 857, 'slim': 858, 'sex': 859, 'toast': 860, 'sleek': 861, 'keypad': 862, 'unhappy': 863, 'winner': 864, 'careful': 865, 'logitech': 866, 'recognition': 867, 'tremendous': 868, 'takes': 869, 'stated': 870, 'blackberry': 871, 'sounds': 872, 'funny': 873, 'technology': 874, 'wired': 875, 'previous': 876, 's': 877, 'w810i': 878, 'superb': 879, 'maintain': 880, \"shouldn't\": 881, 'graphics': 882, 'button': 883, 'thank': 884, 'igo': 885, 'tips': 886, 'connected': 887, \"wife's\": 888, 'whether': 889, 'storage': 890, 'buzzing': 891, 'override': 892, 'functionality': 893, 'recently': 894, 'bucks': 895, 'ring': 896, 'dropping': 897, 'incredibly': 898, 'strange': 899, 'bother': 900, 'living': 901, 'issues': 902, 'embarrassing': 903, 'consumer': 904, 'background': 905, 'usually': 906, 'excited': 907, 'cute': 908, 'additional': 909, 'gels': 910, 'purpose': 911, 'secure': 912, 'appears': 913, 'rubber': 914, 'smell': 915, 'caused': 916, 'flimsy': 917, 'month': 918, 'flawlessly': 919, 'fry': 920, 'adorable': 921, 'strip': 922, 'wise': 923, 'gotten': 924, 'dialing': 925, 'neither': 926, 'games': 927, 'ipod': 928, 'recharge': 929, 'save': 930, 'along': 931, 'starts': 932, 'ringing': 933, 'reason': 934, 'auto': 935, 'push': 936, 'skype': 937, 'self': 938, 'help': 939, 'shipped': 940, 'prompt': 941, 'noticed': 942, 'att': 943, 'mention': 944, 'effect': 945, 'model': 946, 'warning': 947, 'wish': 948, 'dying': 949, 'install': 950, 'purchasing': 951, 'moto': 952, 'figure': 953, 'reading': 954, 'memory': 955, 'solid': 956, 'returning': 957, 'changing': 958, 'update': 959, 'cumbersome': 960, 'delivery': 961, 'switch': 962, 'worthwhile': 963, 'understand': 964, 'pricing': 965, 'batteries': 966, 'user': 967, 'ability': 968, 'receiving': 969, 'exchanged': 970, 'cellphone': 971, 'described': 972, 'nyc': 973, 'defective': 974, 'unacceptable': 975, 'catching': 976, 'amazed': 977, 'timeframe': 978, 'complaint': 979, 'standard': 980, 'accidentally': 981, 'listening': 982, 'kitchen': 983, 'conversation': 984, 'ample': 985, 'eargels': 986, 'seem': 987, 'missed': 988, 'numerous': 989, 'barely': 990, 'due': 991, 'forced': 992, 'menus': 993, 'holding': 994, 'broken': 995, 'effort': 996, 'course': 997, 'breaking': 998, '50': 999, 'operate': 1000, 'paired': 1001, 'pack': 1002, 'believe': 1003, 'apart': 1004, 'brand': 1005, 'performed': 1006, 'echo': 1007, 'wind': 1008, 'warranty': 1009, 'placed': 1010, 'falling': 1011, 'tiny': 1012, 'tries': 1013, 'download': 1014, 'happened': 1015, 'access': 1016, 'continue': 1017, 'flash': 1018, 'truly': 1019, 'tones': 1020, 'prime': 1021, 'chinese': 1022, 'crisp': 1023, 'video': 1024, 'accept': 1025, 'allows': 1026, 'multiple': 1027, 'signs': 1028, 'sizes': 1029, 'classy': 1030, 'metro': 1031, 'cost': 1032, 'convenient': 1033, 'son': 1034, 'protector': 1035, '12': 1036, 'discount': 1037, 'double': 1038, 'disgusting': 1039, 'rare': 1040, 'five': 1041, 'lots': 1042, 'sounded': 1043, 'together': 1044, 'feet': 1045, 'everywhere': 1046, 'ordering': 1047, 'awkward': 1048, 'current': 1049, 'dirty': 1050, 'answer': 1051, \"haven't\": 1052, 'laptop': 1053, 'normal': 1054, 'fails': 1055, 'lose': 1056, 'exceptional': 1057, 'setting': 1058, 'show': 1059, 'ok': 1060, 'managed': 1061, 'seat': 1062, 'lightly': 1063, 'rating': 1064, 'rest': 1065, 'joy': 1066, 'covered': 1067, 'disappoint': 1068, 'crust': 1069, 'texture': 1070, 'nasty': 1071, 'late': 1072, 'recommendation': 1073, 'potatoes': 1074, 'overpriced': 1075, 'asked': 1076, 'mexican': 1077, 'tacos': 1078, 'overwhelmed': 1079, 'familiar': 1080, 'visit': 1081, 'grossed': 1082, 'beef': 1083, 'duck': 1084, 'char': 1085, 'realized': 1086, 'his': 1087, 'towards': 1088, 'customers': 1089, 'portion': 1090, 'attack': 1091, 'excuse': 1092, 'scallop': 1093, 'water': 1094, 'appetizers': 1095, 'heard': 1096, 'salt': 1097, 'batter': 1098, 'chewy': 1099, 'min': 1100, 'known': 1101, 'opportunity': 1102, 'die': 1103, 'mouth': 1104, 'bye': 1105, \"we'll\": 1106, 'serves': 1107, 'marrow': 1108, 'wine': 1109, 'bartender': 1110, 'lovers': 1111, 'busy': 1112, 'gross': 1113, 'preparing': 1114, 'belly': 1115, 'melt': 1116, 'burgers': 1117, 'cheese': 1118, 'subway': 1119, 'restaurants': 1120, 'dine': 1121, 'drink': 1122, 'rarely': 1123, 'curry': 1124, 'bathrooms': 1125, 'decorated': 1126, 'bay': 1127, 'stale': 1128, 'bakery': 1129, 'sad': 1130, 'ladies': 1131, 'decided': 1132, 'looked': 1133, 'healthy': 1134, 'butter': 1135, 'chips': 1136, 'watch': 1137, 'egg': 1138, 'dog': 1139, 'bowl': 1140, 'live': 1141, 'insulted': 1142, 'drive': 1143, 'hope': 1144, 'brunch': 1145, 'stepped': 1146, 'gold': 1147, 'bug': 1148, \"we're\": 1149, 'her': 1150, 'shower': 1151, 'lobster': 1152, 'bisque': 1153, 'yum': 1154, 'stayed': 1155, 'flavorful': 1156, 'dark': 1157, 'par': 1158, 'creamy': 1159, 'generous': 1160, 'coffee': 1161, 'tea': 1162, 'patio': 1163, 'bachi': 1164, \"friend's\": 1165, 'why': 1166, 'pulled': 1167, 'stir': 1168, 'fried': 1169, 'doubt': 1170, 'mom': 1171, 'pleasant': 1172, 'omg': 1173, 'ten': 1174, 'pancakes': 1175, 'eggs': 1176, 'tasted': 1177, 'deserves': 1178, 'green': 1179, 'stuffed': 1180, 'kids': 1181, 'assure': 1182, 'regular': 1183, 'dinner': 1184, '40': 1185, 'anytime': 1186, 'driest': 1187, 'manager': 1188, 'acknowledged': 1189, 'group': 1190, 'crab': 1191, 'legs': 1192, 'bunch': 1193, 'homemade': 1194, 'desserts': 1195, 'recent': 1196, 'converter': 1197, 'tied': 1198, 'major': 1199, 'jiggle': 1200, 'dozen': 1201, 'hundred': 1202, 'imagine': 1203, 'owner': 1204, 'needless': 1205, 'seperated': 1206, 'mere': 1207, 'ft': 1208, 'excessive': 1209, 'garbled': 1210, 'odd': 1211, 'fooled': 1212, 'clicks': 1213, 'wonder': 1214, 'mechanism': 1215, \"motorola's\": 1216, 'followed': 1217, 'directions': 1218, 'kindle': 1219, 'commercials': 1220, 'misleading': 1221, 'mother': 1222, 'couldnt': 1223, 'earphone': 1224, 'breakage': 1225, 'unacceptible': 1226, 'ideal': 1227, 'whose': 1228, 'sensitive': 1229, 'moving': 1230, 'freeway': 1231, 'speed': 1232, 'contract': 1233, 'ac': 1234, 'juice': 1235, 'highy': 1236, 'mins': 1237, '680': 1238, '2mp': 1239, 'pics': 1240, 'garbage': 1241, 'gonna': 1242, 'arguing': 1243, 'bulky': 1244, 'usable': 1245, 'useful': 1246, 'machine': 1247, 'neat': 1248, 'gadget': 1249, 'e': 1250, 'stream': 1251, 'submerged': 1252, \"microsoft's\": 1253, 'faceplates': 1254, 'elegant': 1255, 'angle': 1256, 'drawback': 1257, 'pause': 1258, 'skip': 1259, 'songs': 1260, 'activated': 1261, 'suddenly': 1262, 'ipods': 1263, 'situations': 1264, 'bmw': 1265, 'fairly': 1266, 'hearing': 1267, 'wrongly': 1268, 'everyday': 1269, 'intended': 1270, 'runs': 1271, 'loads': 1272, 'greater': 1273, 'buds': 1274, 'waaay': 1275, 'bluetooths': 1276, 'listener': 1277, 'integrated': 1278, 'seamlessly': 1279, 'flush': 1280, 'toilet': 1281, 'supposedly': 1282, '375': 1283, 'styles': 1284, 'correctly': 1285, '350': 1286, 'jabra350': 1287, 'megapixels': 1288, 'renders': 1289, 'images': 1290, 'relatively': 1291, 'purcashed': 1292, 'geeky': 1293, 'oozes': 1294, 'embedded': 1295, 'stylish': 1296, 'compromise': 1297, 'qwerty': 1298, 'basic': 1299, 'simpler': 1300, 'iam': 1301, 'disapoinment': 1302, 'realize': 1303, 'accompanied': 1304, 'brilliant': 1305, 'nicely': 1306, 'damage': 1307, 'definitly': 1308, 'majority': 1309, 'peachy': 1310, 'keen': 1311, 'upstairs': 1312, 'basement': 1313, 'minute': 1314, 'reccomendation': 1315, 'relative': 1316, 'items': 1317, 'sudden': 1318, 'linking': 1319, '8530': 1320, 'curve': 1321, 'seemed': 1322, 'sketchy': 1323, 'messages': 1324, 'web': 1325, 'browsing': 1326, 'significantly': 1327, 'faster': 1328, 'build': 1329, 'unlike': 1330, 'colors': 1331, 'whine': 1332, 'communications': 1333, 'communicate': 1334, 'monkeys': 1335, 'share': 1336, 'dna': 1337, 'copy': 1338, 'humans': 1339, 'bougth': 1340, 'l7c': 1341, 'mode': 1342, 'file': 1343, 'browser': 1344, 'offers': 1345, 'hs850': 1346, 'latest': 1347, 'os': 1348, 'v1': 1349, '15g': 1350, 'likes': 1351, 'crawl': 1352, 'recognizes': 1353, 'bluetoooth': 1354, 'thorn': 1355, 'abhor': 1356, 'disconnected': 1357, '13': 1358, 'mail': 1359, 'backlight': 1360, 'message': 1361, 'tone': 1362, 'lately': 1363, 'wit': 1364, 'weight': 1365, 'hardly': 1366, \"you'll\": 1367, 'pleather': 1368, 'deaf': 1369, 'prettier': 1370, 'investment': 1371, 'ticking': 1372, 'noises': 1373, 'ends': 1374, 'electronics': 1375, 'available': 1376, 'fm': 1377, 'transmitters': 1378, 'h500': 1379, 'mega': 1380, 'pixel': 1381, 'good7': 1382, 'transmit': 1383, 'contacting': 1384, 'dollar': 1385, 'learned': 1386, 'lesson': 1387, 'online': 1388, 'earbugs': 1389, 'means': 1390, 'roam': 1391, 'crack': 1392, 'infatuated': 1393, 'freezes': 1394, 'frequently4': 1395, 'mostly': 1396, 'child': 1397, 'tick': 1398, 'headbands': 1399, 'ericsson': 1400, 'purchases': 1401, 'shine': 1402, 'calendar': 1403, 'sync': 1404, 'defeats': 1405, 'penny': 1406, 'wallet': 1407, 'type': 1408, 'excrutiatingly': 1409, 'aspect': 1410, 'glove': 1411, 'durable': 1412, 'o': 1413, 'gosh': 1414, 'attractive': 1415, 'factor': 1416, 'petroleum': 1417, 'unbearable': 1418, 'scary': 1419, 'stereo': 1420, 'absolutel': 1421, 'potentially': 1422, 'giving': 1423, 'reversible': 1424, 'rotating': 1425, 'contstruct': 1426, 'hinge': 1427, 'installed': 1428, 'overnite': 1429, 'thru': 1430, 'handset': 1431, 'cat': 1432, 'attacked': 1433, 'protective': 1434, 'destroying': 1435, 'razor': 1436, 'v3i': 1437, 'shouldve': 1438, 'invented': 1439, 'sooner': 1440, 'engineered': 1441, 'clever': 1442, 'complained': 1443, \"headset's\": 1444, '2160': 1445, 'tracfone': 1446, 'instruction': 1447, 'manual': 1448, 'alarm': 1449, 'clock': 1450, 'removing': 1451, 'antena': 1452, 'compared': 1453, 'compliments': 1454, 'state': 1455, 'allow': 1456, 'usage': 1457, 'ngage': 1458, 'earbuds': 1459, 'riingtones': 1460, 'rip': 1461, 'frequentyly': 1462, 'adhesive': 1463, 'practically': 1464, 'add': 1465, 'boost': 1466, 'concrete': 1467, 'knock': 1468, 'wood': 1469, 'transformed': 1470, 'organizational': 1471, 'capability': 1472, 'sitting': 1473, 'vehicle': 1474, 'cradle': 1475, 'jerks': 1476, 'los': 1477, 'angeles': 1478, 'starter': 1479, 'loudspeaker': 1480, 'option': 1481, 'bumpers': 1482, 'lights': 1483, 'appealing': 1484, 'improve': 1485, 'leaks': 1486, 'according': 1487, 'called': 1488, 'applifies': 1489, 'specially': 1490, 'transmission': 1491, 's11': 1492, 'finished': 1493, 'drivng': 1494, 'reverse': 1495, 'tape': 1496, 'embarassing': 1497, 'hurt': 1498, 'protects': 1499, 'average': 1500, 'operates': 1501, 'soyo': 1502, 'portraits': 1503, 'exterior': 1504, 'mentioned': 1505, 'gadgets': 1506, 'magical': 1507, 'promptly': 1508, 'comparably': 1509, 'offering': 1510, 'encourage': 1511, 'effective': 1512, 'recieve': 1513, 'cradles': 1514, 'kits': 1515, 'excelent': 1516, 'cingulair': 1517, 'nicer': 1518, 'era': 1519, 'colored': 1520, 'hoursthe': 1521, 'thereplacement': 1522, '2000': 1523, 'cheaply': 1524, 'distorted': 1525, 'yell': 1526, 'forgot': 1527, 'weird': 1528, 'iriver': 1529, 'spinn': 1530, 'fond': 1531, 'magnetic': 1532, 'strap': 1533, 'psyched': 1534, 'appointments': 1535, 'appearance': 1536, 'sanyo': 1537, 'survived': 1538, 'dozens': 1539, 'blacktop': 1540, 'ill': 1541, 'earphones': 1542, 'finds': 1543, 'enter': 1544, 'modest': 1545, 'cellular': 1546, 'awsome': 1547, 'drained': 1548, 'earpad': 1549, 'displeased': 1550, 'defect': 1551, 'risk': 1552, 'built': 1553, 'restored': 1554, 'jx': 1555, 'searched': 1556, 'key': 1557, 'pad': 1558, 'lit': 1559, 'portable': 1560, 'colleague': 1561, 'fully': 1562, 'bed': 1563, 'wi': 1564, 'fi': 1565, 'morning': 1566, 'card': 1567, 'hat': 1568, 'timely': 1569, 'shipment': 1570, 'surefire': 1571, 'gx2': 1572, 'bt50': 1573, 'buyers': 1574, 'remorse': 1575, 'accessoryone': 1576, 'inexcusable': 1577, 'carriers': 1578, 'tmobile': 1579, 'procedure': 1580, 'motorolas': 1581, 'vx9900': 1582, 'env': 1583, 'rocketed': 1584, 'destination': 1585, 'unknown': 1586, 'conditions': 1587, 'usefulness': 1588, \"verizon's\": 1589, 'bills': 1590, 'plans': 1591, 'overnight': 1592, 'regret': 1593, 'pitiful': 1594, 'respect': 1595, 'stuck': 1596, 'max': 1597, 'mute': 1598, 'hybrid': 1599, 'palmtop': 1600, 'excels': 1601, 'roles': 1602, 'bt250v': 1603, '11': 1604, 'bose': 1605, 'cancelling': 1606, 'commuter': 1607, 'photo': 1608, 'ad': 1609, 'earlier': 1610, 'noted': 1611, 'happens': 1612, 'frog': 1613, 'eye': 1614, 'pushed': 1615, 'function': 1616, 'aluminum': 1617, 'vx': 1618, 'protected': 1619, 'handheld': 1620, 'tools': 1621, 'sturdiness': 1622, 'orders': 1623, 'source': 1624, 'waterproof': 1625, 'thanks': 1626, 'sliding': 1627, 'edge': 1628, 'pants': 1629, 'pockets': 1630, 'ugly': 1631, 'shield': 1632, 'incrediable': 1633, 'improvement': 1634, 'refuse': 1635, 'activate': 1636, 'gentle': 1637, 'threw': 1638, 'window': 1639, 'inches': 1640, 'counter': 1641, 'cracked': 1642, 'laughing': 1643, 'trunk': 1644, 'carried': 1645, 'hitch': 1646, 'practical': 1647, 'channel': 1648, 'directly': 1649, 'increase': 1650, 'ones': 1651, 'properly': 1652, 'shifting': 1653, 'bubbling': 1654, 'peeling': 1655, 'scratch': 1656, 'droid': 1657, 'exercise': 1658, 'frustration': 1659, 'earset': 1660, 'outgoing': 1661, 'package': 1662, 'understanding': 1663, 'patient': 1664, 'wirefly': 1665, 'contact': 1666, 'inform': 1667, 'practice': 1668, 'aggravating': 1669, 'virgin': 1670, 'muddy': 1671, 'casing': 1672, \"wire's\": 1673, 'insert': 1674, 'glued': 1675, 'slid': 1676, 'plantronincs': 1677, 'continues': 1678, 'flawed': 1679, 'disapointing': 1680, 'fourth': 1681, 'hated': 1682, 'fixes': 1683, 'accessing': 1684, 'downloading': 1685, 'performing': 1686, 'functions': 1687, 'constantly': 1688, 'happening': 1689, 'adapters': 1690, 'procedures': 1691, 're': 1692, 'wiping': 1693, 'strength': 1694, 'plays': 1695, 'louder': 1696, 'constructed': 1697, 'navigate': 1698, 'recessed': 1699, 'avoiding': 1700, 'smoking': 1701, 'linked': 1702, 'possesed': 1703, 'idea': 1704, 'trash': 1705, 'research': 1706, 'development': 1707, 'division': 1708, 'knows': 1709, \"they're\": 1710, 'doing': 1711, 'killer': 1712, 'infuriating': 1713, 'walkman': 1714, 'charges': 1715, 'europe': 1716, 'asia': 1717, 'clipping': 1718, 'deffinitely': 1719, \"cent's\": 1720, 'behing': 1721, '5020': 1722, 'comfortible': 1723, '24': 1724, 'pain': 1725, 'arrival': 1726, 'fraction': 1727, 'crappy': 1728, 'e715': 1729, 'seeen': 1730, 'interface': 1731, 'decade': 1732, 'compete': 1733, 'designs': 1734, '700w': 1735, 'transceiver': 1736, 'steer': 1737, 'genuine': 1738, 'replacementr': 1739, 'pens': 1740, 'buyit': 1741, 'beats': 1742, 'fingers': 1743, 'steep': 1744, 'normally': 1745, 'haul': 1746, 'dissapointing': 1747, 'originally': 1748, 'discarded': 1749, 'players': 1750, 'posted': 1751, 'detailed': 1752, 'comments': 1753, 'grey': 1754, 'existing': 1755, 'cds': 1756, 'surprised': 1757, 'fabulous': 1758, 'currently': 1759, 'shooters': 1760, 'delay': 1761, 'messes': 1762, 'bitpim': 1763, 'program': 1764, 'transfer': 1765, 'accessory': 1766, 'manufacturer': 1767, 'muffled': 1768, 'incoming': 1769, 'severe': 1770, 'resistant': 1771, 'overly': 1772, 'contacted': 1773, 'produce': 1774, 'receipt': 1775, 'luck': 1776, 'linksys': 1777, 'exchange': 1778, 'refurb': 1779, 'snug': 1780, 'heavy': 1781, 'keeps': 1782, 'utter': 1783, 'promised': 1784, 'loop': 1785, 'four': 1786, 'latch': 1787, 'visor': 1788, 'address': 1789, 'reboots': 1790, 'rate': 1791, 'tungsten': 1792, 'e2': 1793, 'flipphones': 1794, 'designed': 1795, 'smoothly': 1796, 'study': 1797, 'interested': 1798, 'sins': 1799, 'industrial': 1800, 'tracking': 1801, 'detachable': 1802, 'periodically': 1803, 'somehow': 1804, 'upload': 1805, 'locks': 1806, 'screens': 1807, 'randomly': 1808, 'locked': 1809, '325': 1810, 'worn': 1811, 'ringer': 1812, 'choices': 1813, 'acceptable': 1814, 'balance': 1815, 'ready': 1816, 'upbeat': 1817, 'forgeries': 1818, 'abound': 1819, 'explain': 1820, 'jack': 1821, 'ca': 1822, '42': 1823, 'smallest': 1824, 'stays': 1825, 'biggest': 1826, 'drains': 1827, 'superfast': 1828, 'ergonomic': 1829, 'theory': 1830, 'stand': 1831, 'clips': 1832, 'occupied': 1833, 'distracting': 1834, 'entire': 1835, 'except': 1836, 'cbr': 1837, 'mp3s': 1838, 'preferably': 1839, 'windows': 1840, 'media': 1841, 'shots': 1842, 'sos': 1843, 'signals': 1844, 'connect': 1845, 'mini': 1846, 'near': 1847, 'open': 1848, 'allowing': 1849, 'startac': 1850, 'regretted': 1851, 'outperform': 1852, 'china': 1853, 'v325i': 1854, 'numbers': 1855, 'sim': 1856, '3o': 1857, 'r': 1858, 'crashed': 1859, 'replaced': 1860, 'quit': 1861, '18': 1862, '4s': 1863, 'connecting': 1864, 'sources': 1865, 'imac': 1866, 'external': 1867, 'bells': 1868, 'whistles': 1869, 'via': 1870, 'slide': 1871, 'grip': 1872, 'prevents': 1873, 'slipping': 1874, 'span': 1875, 'exclaim': 1876, 'whoa': 1877, 'tv': 1878, 'corded': 1879, 'freedom': 1880, 'mark': 1881, 'shows': 1882, 'functional': 1883, 'soft': 1884, 'tight': 1885, 'shape': 1886, 'copier': 1887, 'sent': 1888, 'anywhere': 1889, 'sold': 1890, 'units': 1891, 'provides': 1892, 'krussel': 1893, 'tracfonewebsite': 1894, 'toactivate': 1895, 'texas': 1896, 'dit': 1897, '5320': 1898, 'mainly': 1899, 'whatever': 1900, 'blueant': 1901, 'supertooth': 1902, 'pcs': 1903, 'sch': 1904, 'r450': 1905, 'slider': 1906, 'premium': 1907, 'plugs': 1908, 'plenty': 1909, 'capacity': 1910, 'confortable': 1911, 'somewhat': 1912, 'periods': 1913, 'ant': 1914, 'hey': 1915, 'pleasantly': 1916, 'suprised': 1917, 'dustpan': 1918, 'indoors': 1919, 'disposable': 1920, 'puff': 1921, 'smoke': 1922, 'ride': 1923, 'smoother': 1924, 'nano': 1925, 'dissapointed': 1926, 'reccommend': 1927, 'carries': 1928, 'highest': 1929, 'anti': 1930, 'glare': 1931, 'smartphone': 1932, 'wont': 1933, 'atleast': 1934, 'addition': 1935, 'amp': 1936, 'reoccure': 1937, 'somewhere': 1938, 'creaks': 1939, 'wooden': 1940, 'floor': 1941, 'apartment': 1942, 'generally': 1943, 'inconspicuous': 1944, 'slowly': 1945, 'sorry': 1946, 'impossible': 1947, 'refused': 1948, 'upgrade': 1949, 'securly': 1950, 'possibility': 1951, 'booking': 1952, 'entertainment': 1953, 'communication': 1954, 'activesync': 1955, 'optimal': 1956, 'synchronization': 1957, 'coupon': 1958, 'instance': 1959, 'ps3': 1960, 'cheapy': 1961, 'talking': 1962, 'shouting': 1963, 'telephone': 1964, 'yes': 1965, 'shiny': 1966, 'grtting': 1967, '44': 1968, 'v3c': 1969, 'exceeds': 1970, 'sight': 1971, 'improper': 1972, 'effects': 1973, 'palms': 1974, 'hoped': 1975, 'father': 1976, 'v265': 1977, 'pads': 1978, 'stops': 1979, 'intermittently': 1980, 'reaching': 1981, 'row': 1982, 'keys': 1983, 'nightmare': 1984, 'describe': 1985, 'speakerphone': 1986, 'cassette': 1987, 'cellphones': 1988, 'planning': 1989, 'read': 1990, \"other's\": 1991, 'products': 1992, 'sensor': 1993, 'reliability': 1994, 'beeping': 1995, 'letting': 1996, 'dieing': 1997, 'ir': 1998, 'cancellation': 1999, 'counterfeit': 2000, 'travled': 2001, 'swivel': 2002, 'sister': 2003, 'dual': 2004, '8125': 2005, 'keeping': 2006, 'bottowm': 2007, 'gimmick': 2008, 'opens': 2009, 'causing': 2010, 'discomfort': 2011, 'trust': 2012, 'maintains': 2013, 'flawless': 2014, 'devices': 2015, 'utterly': 2016, 'confusing': 2017, 'holder': 2018, 'cutouts': 2019, 'land': 2020, 'loops': 2021, 'material': 2022, 'flaws': 2023, 'owning': 2024, 'official': 2025, 'oem': 2026, 'loudest': 2027, 'competitors': 2028, 'saved': 2029, 'alot': 2030, 'cuts': 2031, 'unintelligible': 2032, 'restart': 2033, 'bend': 2034, 'leaf': 2035, 'metal': 2036, 'stress': 2037, 'leopard': 2038, 'print': 2039, 'wonderfully': 2040, 'wild': 2041, 'saggy': 2042, 'floppy': 2043, 'looses': 2044, 'snap': 2045, '8525': 2046, 'carry': 2047, 'fliptop': 2048, 'loose': 2049, 'wobbly': 2050, 'eventually': 2051, 'receive': 2052, 'fulfills': 2053, 'requirements': 2054, 'rests': 2055, 'against': 2056, 'websites': 2057, 'cables': 2058, 'lap': 2059, 'controls': 2060, 'accessable': 2061, 'mine': 2062, 'christmas': 2063, 'otherwise': 2064, 'satisifed': 2065, '2005': 2066, 's710a': 2067, 'specs': 2068, 'armband': 2069, 'allot': 2070, 'clearer': 2071, 'keypads': 2072, 'reach': 2073, 'ericson': 2074, 'z500a': 2075, 'motor': 2076, 'control': 2077, 'center': 2078, 'voltage': 2079, 'humming': 2080, 'equipment': 2081, 'certain': 2082, 'girl': 2083, 'complain': 2084, 'wake': 2085, 'styling': 2086, 'restocking': 2087, 'fee': 2088, 'darn': 2089, 'lousy': 2090, 'sweetest': 2091, 'securely': 2092, 'hook': 2093, 'directed': 2094, 'canal': 2095, 'unsatisfactory': 2096, 'videos': 2097, 'negatively': 2098, 'adapter': 2099, 'provide': 2100, 'hype': 2101, 'assumed': 2102, 'lense': 2103, 'falls': 2104, 'text': 2105, 'messaging': 2106, 'tricky': 2107, 'painful': 2108, 'lasted': 2109, 'blew': 2110, 'flops': 2111, 'smudged': 2112, 'touches': 2113, 'infra': 2114, 'port': 2115, 'irda': 2116, 'bank': 2117, 'holiday': 2118, 'rick': 2119, 'steve': 2120, 'angry': 2121, 'honeslty': 2122, 'ahead': 2123, 'warmer': 2124, 'cashier': 2125, 'wayyy': 2126, 'cape': 2127, 'cod': 2128, 'ravoli': 2129, 'chickenwith': 2130, 'cranberry': 2131, 'mmmm': 2132, 'disgusted': 2133, 'human': 2134, 'shocked': 2135, 'indicate': 2136, 'cash': 2137, 'burrittos': 2138, 'blah': 2139, 'interior': 2140, 'velvet': 2141, 'cake': 2142, 'ohhh': 2143, 'brought': 2144, 'hole': 2145, 'street': 2146, 'luke': 2147, 'sever': 2148, 'sashimi': 2149, 'combos': 2150, '23': 2151, 'final': 2152, 'blow': 2153, 'accident': 2154, 'grab': 2155, 'bite': 2156, 'pub': 2157, 'yourself': 2158, 'favor': 2159, 'redeeming': 2160, 'hiro': 2161, 'delight': 2162, 'moist': 2163, 'drag': 2164, 'judge': 2165, 'melted': 2166, 'styrofoam': 2167, 'fear': 2168, 'positive': 2169, 'frozen': 2170, 'pucks': 2171, 'disgust': 2172, 'behind': 2173, 'register': 2174, 'rib': 2175, 'section': 2176, 'generic': 2177, 'firehouse': 2178, 'pita': 2179, 'hummus': 2180, 'refreshing': 2181, 'pink': 2182, 'chow': 2183, 'mein': 2184, 'attitudes': 2185, 'imaginative': 2186, 'grill': 2187, 'downtown': 2188, 'flat': 2189, 'lined': 2190, 'strings': 2191, 'amount': 2192, 'banana': 2193, 'petrified': 2194, 'refill': 2195, 'struggle': 2196, 'wave': 2197, 'receives': 2198, 'cocktails': 2199, 'handmade': 2200, \"we'd\": 2201, 'military': 2202, 'dos': 2203, 'gringos': 2204, 'finish': 2205, 'tastings': 2206, 'jeff': 2207, 'beyond': 2208, 'meh': 2209, 'milkshake': 2210, 'chocolate': 2211, 'milk': 2212, 'suck': 2213, 'excalibur': 2214, 'common': 2215, 'sense': 2216, 'appalling': 2217, 'seasoned': 2218, 'cheated': 2219, 'experiencing': 2220, 'underwhelming': 2221, 'relationship': 2222, 'parties': 2223, 'smelled': 2224, 'grease': 2225, 'trap': 2226, 'turkey': 2227, 'roast': 2228, 'pan': 2229, 'cakes': 2230, 'raving': 2231, 'sugary': 2232, 'disaster': 2233, 'tailored': 2234, 'palate': 2235, 'six': 2236, 'yummy': 2237, 'ratio': 2238, 'tenders': 2239, 'unsatisfying': 2240, 'omelets': 2241, 'summary': 2242, 'largely': 2243, 'sexy': 2244, 'outrageously': 2245, 'flirting': 2246, 'hottest': 2247, 'rock': 2248, 'casino': 2249, 'step': 2250, 'forward': 2251, 'tip': 2252, 'lady': 2253, 'roasted': 2254, 'garlic': 2255, 'bone': 2256, 'added': 2257, 'bloddy': 2258, \"mary's\": 2259, 'mussels': 2260, 'reduction': 2261, 'buffets': 2262, 'tigerlilly': 2263, 'afternoon': 2264, 'personable': 2265, 'ambience': 2266, 'playing': 2267, 'sooooo': 2268, \"let's\": 2269, 'honest': 2270, 'yama': 2271, '40min': 2272, 'arriving': 2273, 'actual': 2274, 'blandest': 2275, 'indian': 2276, 'cuisine': 2277, 'worries': 2278, 'guys': 2279, 'loving': 2280, \"he's\": 2281, 'venture': 2282, 'further': 2283, 'host': 2284, 'lack': 2285, 'bitches': 2286, 'liking': 2287, 'reasons': 2288, 'reviewing': 2289, 'phenomenal': 2290, 'venturing': 2291, 'penne': 2292, 'vodka': 2293, 'including': 2294, 'massive': 2295, 'meatloaf': 2296, 'crispy': 2297, 'wrap': 2298, 'tuna': 2299, 'bagels': 2300, 'selections': 2301, 'lox': 2302, 'capers': 2303, 'meet': 2304, 'weekend': 2305, 'suggestions': 2306, 'ate': 2307, 'bamboo': 2308, 'shoots': 2309, 'blanket': 2310, 'moz': 2311, 'subpar': 2312, 'pace': 2313, 'watched': 2314, 'attention': 2315, 'ignore': 2316, 'fiancé': 2317, 'middle': 2318, 'greeted': 2319, 'mandalay': 2320, 'forty': 2321, 'vain': 2322, 'crostini': 2323, 'highlights': 2324, 'nigiri': 2325, 'joint': 2326, 'flavored': 2327, 'voodoo': 2328, 'gluten': 2329, 'leftover': 2330, 'relocated': 2331, 'diverse': 2332, 'hella': 2333, 'salty': 2334, 'spinach': 2335, 'avocado': 2336, 'ingredients': 2337, 'handed': 2338, 'listed': 2339, 'waitresses': 2340, 'lordy': 2341, 'khao': 2342, 'soi': 2343, 'terrific': 2344, 'thrilled': 2345, 'accommodations': 2346, 'vegetarian': 2347, 'daughter': 2348, 'caught': 2349, 'judging': 2350, 'inspired': 2351, 'leaves': 2352, 'desired': 2353, 'modern': 2354, 'hip': 2355, 'maintaining': 2356, 'coziness': 2357, 'weekly': 2358, 'haunt': 2359, 'asking': 2360, 'overcooked': 2361, 'charcoal': 2362, 'verge': 2363, 'dressed': 2364, 'rudely': 2365, 'dirt': 2366, 'hits': 2367, 'quantity': 2368, 'lemon': 2369, 'raspberry': 2370, 'cocktail': 2371, 'imagined': 2372, 'decor': 2373, 'crepe': 2374, 'bits': 2375, 'gyros': 2376, 'missing': 2377, 'feeling': 2378, \"joey's\": 2379, 'voted': 2380, 'valley': 2381, 'readers': 2382, 'magazine': 2383, 'fridays': 2384, 'blows': 2385, 'disrespected': 2386, 'exceeding': 2387, 'dreamed': 2388, 'serivce': 2389, 'inviting': 2390, 'lived': 2391, '1979': 2392, 'foot': 2393, 'mixed': 2394, 'mushrooms': 2395, 'yukon': 2396, 'puree': 2397, 'corn': 2398, 'beateous': 2399, 'showed': 2400, 'climbing': 2401, 'friend': 2402, 'tartar': 2403, 'soggy': 2404, 'jamaican': 2405, 'mojitos': 2406, 'rich': 2407, 'accordingly': 2408, 'rinse': 2409, 'nude': 2410, 'bussell': 2411, 'sprouts': 2412, 'risotto': 2413, 'filet': 2414, 'pepper': 2415, 'hopefully': 2416, 'bodes': 2417, 'cook': 2418, 'wrapped': 2419, 'dates': 2420, 'unbelievable': 2421, 'otto': 2422, 'welcome': 2423, 'mains': 2424, 'uninspired': 2425, 'whenever': 2426, 'dealing': 2427, \"world's\": 2428, 'annoying': 2429, 'drunk': 2430, 'chef': 2431, 'cheeseburger': 2432, 'single': 2433, 'patty': 2434, 'uploaded': 2435, 'yeah': 2436, 'sporting': 2437, 'events': 2438, 'walls': 2439, \"tv's\": 2440, \"they'd\": 2441, 'descriptions': 2442, 'eel': 2443, 'mayo': 2444, 'sauces': 2445, 'hardest': 2446, 'honestly': 2447, \"m's\": 2448, 'supposed': 2449, 'rolled': 2450, 'eyes': 2451, 'providing': 2452, 'flavourful': 2453, 'building': 2454, 'freezing': 2455, 'reviewer': 2456, 'close': 2457, 'delights': 2458, 'ayce': 2459, 'lighting': 2460, 'mood': 2461, 'based': 2462, 'sub': 2463, 'gratitude': 2464, \"owner's\": 2465, 'privileged': 2466, 'parents': 2467, 'similar': 2468, 'silently': 2469, 'peanut': 2470, \"would've\": 2471, 'godfathers': 2472, 'tough': 2473, 'sticks': 2474, 'recall': 2475, 'tap': 2476, 'exquisite': 2477, 'thus': 2478, 'visited': 2479, 'twice': 2480, 'proclaimed': 2481, 'wildly': 2482, 'veggitarian': 2483, 'platter': 2484, 'madison': 2485, 'ironman': 2486, 'chefs': 2487, 'dedicated': 2488, 'boba': 2489, 'spots': 2490, 'jenni': 2491, 'goat': 2492, 'taco': 2493, 'skimp': 2494, 'mac': 2495, 'stinks': 2496, 'salads': 2497, 'burned': 2498, 'saganaki': 2499, 'disagree': 2500, 'fellow': 2501, 'yelpers': 2502, 'neighborhood': 2503, 'soooo': 2504, 'prepared': 2505, 'writing': 2506, 'noodles': 2507, 'chip': 2508, 'count': 2509, 'box': 2510, 'boring': 2511, 'greedy': 2512, 'corporation': 2513, 'dime': 2514, 'atrocious': 2515, 'summer': 2516, 'charming': 2517, 'outdoor': 2518, 'delightful': 2519, 'toasted': 2520, 'english': 2521, 'muffin': 2522, 'untoasted': 2523, 'bus': 2524, 'figured': 2525, 'publicly': 2526, 'loudly': 2527, 'bbq': 2528, 'lighter': 2529, 'fare': 2530, 'public': 2531, 'ways': 2532, 'downside': 2533, 'shawarrrrrrma': 2534, 'eyed': 2535, 'peas': 2536, 'unreal': 2537, 'serve': 2538, 'vinaigrette': 2539, '00': 2540, 'bites': 2541, 'honor': 2542, 'hut': 2543, 'coupons': 2544, 'unbelievably': 2545, 'covers': 2546, 'replenished': 2547, 'plain': 2548, 'yucky': 2549, '17': 2550, 'delicioso': 2551, 'spaghetti': 2552, 'vegetables': 2553, 'tucson': 2554, 'chipotle': 2555, 'succulent': 2556, 'baseball': 2557, 'brick': 2558, 'oven': 2559, 'app': 2560, 'equally': 2561, 'genuinely': 2562, 'enthusiastic': 2563, 'treat': 2564, 'sadly': 2565, 'gordon': 2566, \"ramsey's\": 2567, 'shall': 2568, 'sharply': 2569, 'evening': 2570, 'bathroom': 2571, 'door': 2572, 'offered': 2573, 'handling': 2574, 'rowdy': 2575, 'despicable': 2576, 'soup': 2577, 'lukewarm': 2578, 'craving': 2579, 'stomach': 2580, 'ache': 2581, 'ball': 2582, 'space': 2583, 'elegantly': 2584, 'customize': 2585, 'usual': 2586, 'eggplant': 2587, 'bean': 2588, 'beans': 2589, 'outta': 2590, 'inconsiderate': 2591, 'hi': 2592, 'dinners': 2593, 'outshining': 2594, 'halibut': 2595, 'starving': 2596, '90': 2597, 'disgrace': 2598, 'def': 2599, 'ethic': 2600, 'andddd': 2601, 'past': 2602, 'located': 2603, 'crystals': 2604, 'shopping': 2605, 'mall': 2606, 'aria': 2607, 'summarize': 2608, 'nay': 2609, 'transcendant': 2610, 'brings': 2611, 'pneumatic': 2612, 'condiment': 2613, 'dispenser': 2614, 'ians': 2615, 'kiddos': 2616, 'perfection': 2617, 'impeccable': 2618, 'bouchon': 2619, 'accountant': 2620, 'screwed': 2621, 'reminds': 2622, 'pop': 2623, 'shops': 2624, 'san': 2625, 'francisco': 2626, 'buldogis': 2627, 'gourmet': 2628, 'frustrated': 2629, 'petty': 2630, 'iced': 2631, 'hungry': 2632, 'teeth': 2633, 'sore': 2634, 'become': 2635, 'professional': 2636, 'companions': 2637, 'ground': 2638, 'smeared': 2639, 'tracked': 2640, 'pile': 2641, 'bird': 2642, 'poop': 2643, 'furthermore': 2644, 'operation': 2645, \"we've\": 2646, 'expert': 2647, 'connisseur': 2648, 'topic': 2649, 'jerk': 2650, 'strike': 2651, 'wants': 2652, 'rushed': 2653, 'nicest': 2654, 'owners': 2655, 'across': 2656, 'biscuits': 2657, 'appetizer': 2658, 'absolutley': 2659, '5lb': 2660, 'cow': 2661, '4ths': 2662, 'gristle': 2663, 'fat': 2664, 'steiners': 2665, 'dollars': 2666, 'fs': 2667, 'pears': 2668, 'almonds': 2669, 'spicier': 2670, 'prefer': 2671, 'ribeye': 2672, 'mesquite': 2673, 'gooodd': 2674, 'connoisseur': 2675, 'difference': 2676, 'contained': 2677, 'mouthful': 2678, 'enjoyable': 2679, 'relaxed': 2680, 'venue': 2681, 'couples': 2682, 'groups': 2683, 'nargile': 2684, 'tater': 2685, 'tots': 2686, 'southwest': 2687, 'paid': 2688, 'vanilla': 2689, 'smooth': 2690, 'profiterole': 2691, 'choux': 2692, 'pastry': 2693, 'az': 2694, \"carly's\": 2695, '35': 2696, 'forgetting': 2697, 'margaritas': 2698, 'ventilation': 2699, 'upgrading': 2700, 'letdown': 2701, 'camelback': 2702, 'flower': 2703, 'shop': 2704, 'cartel': 2705, 'trimmed': 2706, '70': 2707, 'claimed': 2708, 'handled': 2709, 'beautifully': 2710, 'bill': 2711, 'bring': 2712, 'jewel': 2713, 'las': 2714, 'limited': 2715, 'boiled': 2716, 'toro': 2717, 'tartare': 2718, 'cavier': 2719, 'extraordinary': 2720, 'thinly': 2721, 'sliced': 2722, 'wagyu': 2723, 'truffle': 2724, 'attached': 2725, 'gas': 2726, 'sign': 2727, 'decide': 2728, 'worse': 2729, 'humiliated': 2730, 'worker': 2731, 'name': 2732, 'callings': 2733, 'conclusion': 2734, 'filling': 2735, 'meals': 2736, 'daily': 2737, 'specials': 2738, 'tragedy': 2739, 'struck': 2740, 'pancake': 2741, 'crawfish': 2742, 'monster': 2743, \"mom's\": 2744, 'multi': 2745, 'grain': 2746, 'pumpkin': 2747, 'pecan': 2748, 'fluffy': 2749, 'airline': 2750, 'noca': 2751, 'gyro': 2752, 'lettuce': 2753, 'thoroughly': 2754, 'pastas': 2755, 'cheesecurds': 2756, 'typical': 2757, 'glance': 2758, 'lovely': 2759, 'finger': 2760, 'beauty': 2761, 'gone': 2762, 'greasy': 2763, 'unhealthy': 2764, 'similarly': 2765, 'man': 2766, 'apology': 2767, 'tiramisu': 2768, 'cannoli': 2769, 'sun': 2770, 'meats': 2771, 'choose': 2772, 'frenchman': 2773, 'martini': 2774, 'opinion': 2775, 'entrees': 2776, 'gc': 2777, 'sample': 2778, 'thirty': 2779, 'vacant': 2780, 'yellowtail': 2781, 'carpaccio': 2782, 'strangers': 2783, 'hello': 2784, 'boyfriend': 2785, 'donut': 2786, 'saving': 2787, 'maybe': 2788, 'disgraceful': 2789, 'suffers': 2790, 'tapas': 2791, 'vinegrette': 2792, 'baby': 2793, 'greens': 2794, 'hearts': 2795, 'hankering': 2796, 'forth': 2797, 'helped': 2798, 'consider': 2799, 'theft': 2800, 'eew': 2801, 'complete': 2802, 'overhaul': 2803, 'witnessed': 2804, 'guests': 2805, 'regularly': 2806, 'swung': 2807, 'deeply': 2808, 'efficient': 2809, 'fan': 2810, 'sucker': 2811, 'dry': 2812, 'olives': 2813, 'perpared': 2814, 'presentation': 2815, 'giant': 2816, 'slices': 2817, 'dusted': 2818, 'powdered': 2819, 'sugar': 2820, 'fo': 2821, 'accomodate': 2822, 'vegan': 2823, 'veggie': 2824, 'crumby': 2825, 'pale': 2826, 'croutons': 2827, \"it'll\": 2828, 'trips': 2829, 'crema': 2830, 'café': 2831, 'expanded': 2832, 'miss': 2833, 'philadelphia': 2834}\n"
          ]
        }
      ]
    },
    {
      "cell_type": "code",
      "metadata": {
        "id": "PRFxQT78ZWN9"
      },
      "source": [
        "sequence = tokenizer.texts_to_sequences(training_sentences)\n",
        "padded_sequence = pad_sequences(sequence, \n",
        "                                maxlen=MAX_LENGTH, \n",
        "                                padding=PADDING_TYPE, \n",
        "                                truncating=TRUNC_TYPE)"
      ],
      "execution_count": 13,
      "outputs": []
    },
    {
      "cell_type": "code",
      "metadata": {
        "colab": {
          "base_uri": "https://localhost:8080/"
        },
        "id": "0WZ7Sg0gZWc5",
        "outputId": "64de221e-dc25-4879-92b4-f77c15809d11"
      },
      "source": [
        "print(training_sentences[0])\n",
        "print(sequence[0])\n",
        "print(padded_sequence[0])"
      ],
      "execution_count": 14,
      "outputs": [
        {
          "output_type": "stream",
          "name": "stdout",
          "text": [
            "So there is no way for me to plug it in here in the US unless I go by a converter.\n",
            "[26, 68, 7, 63, 173, 13, 67, 8, 218, 5, 16, 82, 16, 2, 197, 363, 4, 75, 109, 6, 1]\n",
            "[ 26  68   7  63 173  13  67   8 218   5  16  82  16   2 197 363   4  75\n",
            " 109   6   1   0   0   0   0   0   0   0   0   0   0   0   0   0   0   0\n",
            "   0   0   0   0   0   0   0   0   0   0   0   0   0   0]\n"
          ]
        }
      ]
    },
    {
      "cell_type": "code",
      "metadata": {
        "id": "Jj6rxWUMf7Zs"
      },
      "source": [
        "testing_sequence = tokenizer.texts_to_sequences(testing_sentences)\n",
        "testing_padded_sequence = pad_sequences(testing_sequence,\n",
        "                                        maxlen=MAX_LENGTH,\n",
        "                                        padding=PADDING_TYPE,\n",
        "                                        truncating=TRUNC_TYPE)"
      ],
      "execution_count": 15,
      "outputs": []
    },
    {
      "cell_type": "markdown",
      "metadata": {
        "id": "ynSsybbGcZ-n"
      },
      "source": [
        "# Reverse Word index"
      ]
    },
    {
      "cell_type": "code",
      "metadata": {
        "colab": {
          "base_uri": "https://localhost:8080/"
        },
        "id": "9pDVSoUZZWgA",
        "outputId": "05af152a-46be-46df-8f09-516f41a5d100"
      },
      "source": [
        "reverse_word_index = dict([(val, key) for (key, val) in word_index.items()])\n",
        "print(reverse_word_index)"
      ],
      "execution_count": 16,
      "outputs": [
        {
          "output_type": "stream",
          "name": "stdout",
          "text": [
            "{1: '<OOV>', 2: 'the', 3: 'and', 4: 'i', 5: 'it', 6: 'a', 7: 'is', 8: 'to', 9: 'this', 10: 'was', 11: 'of', 12: 'my', 13: 'for', 14: 'not', 15: 'phone', 16: 'in', 17: 'very', 18: 'with', 19: 'great', 20: 'good', 21: 'on', 22: 'that', 23: 'have', 24: 'you', 25: 'had', 26: 'so', 27: 'but', 28: 'are', 29: 'food', 30: 'service', 31: 'be', 32: 'as', 33: 'place', 34: 'all', 35: 'like', 36: 'quality', 37: 'time', 38: 'product', 39: 'one', 40: 'at', 41: 'we', 42: 'well', 43: 'they', 44: 'would', 45: 'back', 46: 'if', 47: 'headset', 48: 'works', 49: 'battery', 50: 'really', 51: \"don't\", 52: 'sound', 53: 'your', 54: 'use', 55: 'best', 56: 'up', 57: 'from', 58: 'has', 59: 'just', 60: 'an', 61: \"i've\", 62: 'will', 63: 'no', 64: 'were', 65: 'only', 66: 'also', 67: 'me', 68: 'there', 69: 'ever', 70: 'than', 71: \"it's\", 72: 'out', 73: 'nice', 74: 'ear', 75: 'go', 76: 'excellent', 77: 'when', 78: 'first', 79: 'work', 80: 'recommend', 81: '2', 82: 'here', 83: 'after', 84: \"i'm\", 85: 'or', 86: 'never', 87: 'too', 88: 'love', 89: 'price', 90: 'case', 91: 'get', 92: 'can', 93: 'been', 94: 'more', 95: 'what', 96: 'any', 97: 'could', 98: 'again', 99: 'even', 100: 'because', 101: 'better', 102: 'did', 103: 'does', 104: 'about', 105: 'do', 106: 'made', 107: 'which', 108: 'our', 109: 'by', 110: 'now', 111: 'their', 112: 'bad', 113: 'other', 114: 'am', 115: 'worst', 116: 'them', 117: 'much', 118: 'got', 119: 'money', 120: 'new', 121: 'disappointed', 122: 'enough', 123: 'these', 124: 'delicious', 125: 'then', 126: 'think', 127: 'still', 128: 'happy', 129: 'off', 130: 'minutes', 131: 'right', 132: 'car', 133: 'pretty', 134: 'item', 135: 'worked', 136: 'friendly', 137: 'charger', 138: 'buy', 139: 'while', 140: 'vegas', 141: 'waste', 142: 'comfortable', 143: 'far', 144: 'poor', 145: 'bluetooth', 146: 'easy', 147: 'some', 148: 'he', 149: 'two', 150: 'bought', 151: 'everything', 152: 'few', 153: 'definitely', 154: 'reception', 155: 'used', 156: 'restaurant', 157: 'going', 158: 'how', 159: 'went', 160: 'people', 161: \"doesn't\", 162: 'fine', 163: 'thing', 164: '1', 165: 'its', 166: 'being', 167: \"didn't\", 168: 'make', 169: 'piece', 170: 'over', 171: 'came', 172: 'always', 173: 'way', 174: 'say', 175: 'long', 176: 'charge', 177: 'little', 178: 'life', 179: 'purchase', 180: 'down', 181: 'cell', 182: 'terrible', 183: 'times', 184: 'take', 185: 'amazing', 186: '5', 187: 'problem', 188: '3', 189: 'camera', 190: 'want', 191: 'calls', 192: 'device', 193: 'know', 194: 'same', 195: 'another', 196: 'come', 197: 'us', 198: 'problems', 199: 'volume', 200: 'into', 201: 'last', 202: 'hear', 203: 'clear', 204: 'lot', 205: 'working', 206: 'found', 207: 'using', 208: 'motorola', 209: 'fit', 210: 'small', 211: 'fantastic', 212: 'every', 213: 'before', 214: 'horrible', 215: 'worth', 216: 'many', 217: 'quite', 218: 'plug', 219: 'impressed', 220: 'design', 221: 'highly', 222: 'makes', 223: 'years', 224: 'sure', 225: 'order', 226: 'both', 227: \"couldn't\", 228: 'fits', 229: 'look', 230: 'experience', 231: 'ordered', 232: 'customer', 233: 'try', 234: 'nothing', 235: \"can't\", 236: 'taste', 237: 'staff', 238: 'several', 239: 'loved', 240: 'without', 241: 'months', 242: 'left', 243: 'phones', 244: 'real', 245: 'since', 246: 'looks', 247: 'cool', 248: 'tried', 249: 'call', 250: 'around', 251: 'screen', 252: 'cheap', 253: 'side', 254: 'where', 255: 'overall', 256: \"i'd\", 257: 'year', 258: 'stars', 259: 'however', 260: 'deal', 261: 'give', 262: \"wasn't\", 263: \"won't\", 264: 'fresh', 265: 'salad', 266: 'steak', 267: 'waited', 268: 'days', 269: 'she', 270: 'talk', 271: 'find', 272: 'wear', 273: 'kind', 274: 'perfectly', 275: '10', 276: 'night', 277: 'company', 278: 'either', 279: 'old', 280: 'low', 281: 'amazon', 282: 'hard', 283: 'said', 284: 'day', 285: 'next', 286: 'menu', 287: 'burger', 288: 'pizza', 289: 'who', 290: 'absolutely', 291: 'most', 292: 'need', 293: 'priced', 294: 'verizon', 295: 'dropped', 296: 'buttons', 297: 'seriously', 298: 'big', 299: 'broke', 300: 'black', 301: 'light', 302: 'completely', 303: 'jabra', 304: 'voice', 305: 'area', 306: 'slow', 307: 'probably', 308: 'return', 309: 'junk', 310: 'looking', 311: \"i'll\", 312: 'unit', 313: 'away', 314: 'anyone', 315: 'took', 316: 'none', 317: 'tasty', 318: 'selection', 319: 'eat', 320: 'breakfast', 321: 'flavor', 322: 'must', 323: 'everyone', 324: 'helpful', 325: 'kept', 326: 'picture', 327: 'audio', 328: 'loud', 329: 'end', 330: 'different', 331: 'feels', 332: 'headsets', 333: 'gets', 334: 'home', 335: 'arrived', 336: 'quickly', 337: 'received', 338: 'pleased', 339: 'job', 340: 'getting', 341: 'software', 342: 'hours', 343: 'internet', 344: 'less', 345: 'stay', 346: 'extremely', 347: 'useless', 348: 'felt', 349: 'hands', 350: 'family', 351: 'nokia', 352: 'sucks', 353: 'couple', 354: 'disappointing', 355: 'bland', 356: 'those', 357: 'wrong', 358: 'things', 359: 'feel', 360: 'coming', 361: 'waitress', 362: 'sushi', 363: 'unless', 364: 'value', 365: 'each', 366: 'original', 367: 'though', 368: 'bars', 369: 'three', 370: 'simple', 371: 'ears', 372: 'hate', 373: 'turn', 374: 'headphones', 375: 'week', 376: 'later', 377: 'within', 378: 'expect', 379: 'free', 380: 'huge', 381: 'high', 382: 'fast', 383: 'full', 384: 'may', 385: 'signal', 386: 'avoid', 387: 'glad', 388: 'put', 389: 'awesome', 390: 'incredible', 391: 'check', 392: 'color', 393: 'part', 394: 'expected', 395: 'tell', 396: 'authentic', 397: 'disappointment', 398: 'cable', 399: 'care', 400: 'ago', 401: 'having', 402: 'crap', 403: 'especially', 404: 'rather', 405: 'difficult', 406: 'cannot', 407: 'zero', 408: 'samsung', 409: 'extra', 410: 'soon', 411: 'inside', 412: 'prices', 413: 'cooked', 414: 'wonderful', 415: 'sauce', 416: 'dish', 417: 'buffet', 418: 'eating', 419: 'dining', 420: 'atmosphere', 421: 'clean', 422: 'line', 423: 'decent', 424: 'razr', 425: 'started', 426: 'yet', 427: 'charging', 428: 'mobile', 429: 'hold', 430: 'least', 431: 'seems', 432: 'should', 433: 'actually', 434: 'sturdy', 435: 'large', 436: 'front', 437: 'beautiful', 438: 'bargain', 439: 'super', 440: 'shipping', 441: 'between', 442: 'pictures', 443: 'wife', 444: 'strong', 445: 'done', 446: 'set', 447: 'weeks', 448: 'during', 449: 'charm', 450: 'hit', 451: 'thought', 452: 'reasonably', 453: 'range', 454: 'bit', 455: 'mistake', 456: 'important', 457: 'feature', 458: 'buying', 459: 'lacking', 460: 'anything', 461: 'belt', 462: 'data', 463: 'sides', 464: 'others', 465: 'trying', 466: 'today', 467: 'satisfied', 468: 'keep', 469: 'plastic', 470: 'oh', 471: 'clarity', 472: '20', 473: 'unfortunately', 474: 'given', 475: 'star', 476: 'replace', 477: 'quick', 478: 'plus', 479: 'cases', 480: 'pay', 481: 'connection', 482: 'told', 483: 'hour', 484: '4', 485: 'management', 486: 'easily', 487: 'see', 488: 'wow', 489: 'pho', 490: 'fries', 491: 'beer', 492: 'waiter', 493: 'table', 494: 'tender', 495: 'server', 496: 'potato', 497: 'lunch', 498: 'chicken', 499: 'town', 500: 'spicy', 501: 'served', 502: 'eaten', 503: 'spot', 504: 'ambiance', 505: 'mic', 506: 'sending', 507: 'clip', 508: 'blue', 509: 'instructions', 510: 'provided', 511: 'included', 512: 'recommended', 513: 'performance', 514: 'keyboard', 515: 'instead', 516: 'reasonable', 517: 'support', 518: 'perhaps', 519: 'party', 520: 'player', 521: 'person', 522: 'station', 523: 'purchased', 524: 'holds', 525: 'music', 526: 'dont', 527: 'decision', 528: 'white', 529: 'although', 530: 'such', 531: 'ask', 532: 'leather', 533: 'comfortably', 534: 'basically', 535: 'almost', 536: 'stuff', 537: 'house', 538: 'literally', 539: 'goes', 540: 'tool', 541: 'obviously', 542: 'once', 543: 'simply', 544: 'lasts', 545: 'able', 546: 'lightweight', 547: 'earpiece', 548: 'unreliable', 549: 'gave', 550: 'seller', 551: 'plantronics', 552: 'charged', 553: 'weak', 554: 'lg', 555: 'cant', 556: 'easier', 557: 'hot', 558: 'face', 559: 'happier', 560: 'finally', 561: 'wanted', 562: 'waiting', 563: 'comes', 564: 'might', 565: 'expensive', 566: 'under', 567: 'liked', 568: 'palm', 569: 'store', 570: 'touch', 571: 'above', 572: 'own', 573: 'cingular', 574: 't', 575: 'enjoy', 576: 'please', 577: 'ringtones', 578: 'stop', 579: 'needed', 580: 'treo', 581: 'usb', 582: 'point', 583: 'red', 584: 'reviews', 585: 'awful', 586: 'something', 587: 'bar', 588: 'third', 589: 'wall', 590: 'hand', 591: 'break', 592: 'perfect', 593: 'until', 594: 'totally', 595: 'fact', 596: 'places', 597: 'tables', 598: 'shrimp', 599: 'servers', 600: 'pasta', 601: 'wait', 602: 'meat', 603: 'dishes', 604: 'thai', 605: 'steaks', 606: 'rude', 607: 'bacon', 608: 'wings', 609: 'folks', 610: 'special', 611: '0', 612: 'location', 613: 'jawbone', 614: 'conversations', 615: 'contacts', 616: 'fun', 617: 'static', 618: 'website', 619: 'pair', 620: 'below', 621: \"that's\", 622: 'pocket', 623: 'pc', 624: '7', 625: 'worthless', 626: 'thats', 627: 'features', 628: 'mind', 629: 'returned', 630: 'protection', 631: 'seconds', 632: '510', 633: 'complaints', 634: 'particular', 635: \"phone's\", 636: 'cover', 637: 'let', 638: 'trouble', 639: 'choice', 640: 'longer', 641: 'packaged', 642: 'loves', 643: 'construction', 644: 'boy', 645: 'ease', 646: 'play', 647: 'plan', 648: 'match', 649: 'fall', 650: 'display', 651: 'rocks', 652: 'number', 653: 'setup', 654: 'earpieces', 655: 'bt', 656: 'earbud', 657: 'failed', 658: 'coverage', 659: 'experienced', 660: 'drops', 661: 'forever', 662: 'description', 663: 'hoping', 664: \"wouldn't\", 665: 'sharp', 666: 'wasting', 667: 'chargers', 668: 'options', 669: 'needs', 670: 'handsfree', 671: 'network', 672: 'lost', 673: 'replacement', 674: 'thin', 675: 'nearly', 676: 'form', 677: 'anyway', 678: 'room', 679: \"there's\", 680: 'certainly', 681: 'mess', 682: 'hair', 683: 'sony', 684: 'favorite', 685: 'market', 686: 'comfort', 687: 'whatsoever', 688: '8', 689: 'drain', 690: 'whole', 691: 'poorly', 692: 'scratched', 693: 'someone', 694: 'microphone', 695: 'uncomfortable', 696: 'plugged', 697: 'driving', 698: 'immediately', 699: 'flip', 700: 'inexpensive', 701: 'wireless', 702: 'outside', 703: 'exactly', 704: \"you'd\", 705: 'stupid', 706: 'dead', 707: 'breaks', 708: 'note', 709: 'alone', 710: 'q', 711: 'size', 712: 'turned', 713: 'wearing', 714: 'sunglasses', 715: 'computer', 716: 'results', 717: 'im', 718: 'noise', 719: 'holster', 720: 'review', 721: 'ended', 722: 'refund', 723: 'drop', 724: 'sucked', 725: 'total', 726: 'friends', 727: \"isn't\", 728: 'joke', 729: 'walked', 730: 'through', 731: 'speaker', 732: 'sprint', 733: 'stopped', 734: 'guess', 735: 'tinny', 736: 'spring', 737: 'pairing', 738: 'ripped', 739: 'beat', 740: 'iphone', 741: 'despite', 742: 'power', 743: 'outlet', 744: 'etc', 745: 'elsewhere', 746: 'mediocre', 747: 'passed', 748: '100', 749: 'cut', 750: 'date', 751: 'bottom', 752: 'else', 753: 'boot', 754: 'thumbs', 755: 'checked', 756: 'send', 757: 'says', 758: 'top', 759: 'making', 760: 'beep', 761: 'word', 762: 'seen', 763: 'damn', 764: 'warm', 765: 'running', 766: 'salmon', 767: 'portions', 768: 'establishment', 769: 'sick', 770: 'attentive', 771: 'dessert', 772: 'sandwich', 773: 'greek', 774: 'dressing', 775: 'husband', 776: 'heart', 777: 'seafood', 778: 'tasteless', 779: 'second', 780: 'fish', 781: 'drinks', 782: 'rice', 783: '30', 784: 'sweet', 785: 'rolls', 786: \"you're\", 787: 'cafe', 788: 'meal', 789: 'trip', 790: 'leave', 791: 'pork', 792: 'delish', 793: 'cream', 794: 'empty', 795: 'itself', 796: 'considering', 797: 'seated', 798: 'phoenix', 799: 'treated', 800: 'sat', 801: 'ice', 802: 'interesting', 803: 'bread', 804: 'business', 805: 'cold', 806: 'possible', 807: 'outstanding', 808: 'pizzas', 809: 'enjoyed', 810: 'lasting', 811: '45', 812: 'wasted', 813: 'extended', 814: 'notice', 815: 'tooth', 816: 'advise', 817: 'fire', 818: 'run', 819: 'combination', 820: 'owned', 821: 'pull', 822: 'unusable', 823: 'book', 824: 'short', 825: 'regarding', 826: 'turns', 827: 'pda', 828: 'world', 829: '15', 830: 'essentially', 831: 'forget', 832: 'tech', 833: 'clearly', 834: 'mp3', 835: 'lock', 836: 'died', 837: 'glasses', 838: 'sometimes', 839: 'series', 840: 'quiet', 841: 'saying', 842: 'docking', 843: 'd807', 844: 'advertised', 845: 'handy', 846: '6', 847: 'cheaper', 848: 'costs', 849: 'buyer', 850: 'beware', 851: 'apparently', 852: 'pros', 853: 'flaw', 854: 'rated', 855: 'impressive', 856: 'expectations', 857: 'resolution', 858: 'slim', 859: 'sex', 860: 'toast', 861: 'sleek', 862: 'keypad', 863: 'unhappy', 864: 'winner', 865: 'careful', 866: 'logitech', 867: 'recognition', 868: 'tremendous', 869: 'takes', 870: 'stated', 871: 'blackberry', 872: 'sounds', 873: 'funny', 874: 'technology', 875: 'wired', 876: 'previous', 877: 's', 878: 'w810i', 879: 'superb', 880: 'maintain', 881: \"shouldn't\", 882: 'graphics', 883: 'button', 884: 'thank', 885: 'igo', 886: 'tips', 887: 'connected', 888: \"wife's\", 889: 'whether', 890: 'storage', 891: 'buzzing', 892: 'override', 893: 'functionality', 894: 'recently', 895: 'bucks', 896: 'ring', 897: 'dropping', 898: 'incredibly', 899: 'strange', 900: 'bother', 901: 'living', 902: 'issues', 903: 'embarrassing', 904: 'consumer', 905: 'background', 906: 'usually', 907: 'excited', 908: 'cute', 909: 'additional', 910: 'gels', 911: 'purpose', 912: 'secure', 913: 'appears', 914: 'rubber', 915: 'smell', 916: 'caused', 917: 'flimsy', 918: 'month', 919: 'flawlessly', 920: 'fry', 921: 'adorable', 922: 'strip', 923: 'wise', 924: 'gotten', 925: 'dialing', 926: 'neither', 927: 'games', 928: 'ipod', 929: 'recharge', 930: 'save', 931: 'along', 932: 'starts', 933: 'ringing', 934: 'reason', 935: 'auto', 936: 'push', 937: 'skype', 938: 'self', 939: 'help', 940: 'shipped', 941: 'prompt', 942: 'noticed', 943: 'att', 944: 'mention', 945: 'effect', 946: 'model', 947: 'warning', 948: 'wish', 949: 'dying', 950: 'install', 951: 'purchasing', 952: 'moto', 953: 'figure', 954: 'reading', 955: 'memory', 956: 'solid', 957: 'returning', 958: 'changing', 959: 'update', 960: 'cumbersome', 961: 'delivery', 962: 'switch', 963: 'worthwhile', 964: 'understand', 965: 'pricing', 966: 'batteries', 967: 'user', 968: 'ability', 969: 'receiving', 970: 'exchanged', 971: 'cellphone', 972: 'described', 973: 'nyc', 974: 'defective', 975: 'unacceptable', 976: 'catching', 977: 'amazed', 978: 'timeframe', 979: 'complaint', 980: 'standard', 981: 'accidentally', 982: 'listening', 983: 'kitchen', 984: 'conversation', 985: 'ample', 986: 'eargels', 987: 'seem', 988: 'missed', 989: 'numerous', 990: 'barely', 991: 'due', 992: 'forced', 993: 'menus', 994: 'holding', 995: 'broken', 996: 'effort', 997: 'course', 998: 'breaking', 999: '50', 1000: 'operate', 1001: 'paired', 1002: 'pack', 1003: 'believe', 1004: 'apart', 1005: 'brand', 1006: 'performed', 1007: 'echo', 1008: 'wind', 1009: 'warranty', 1010: 'placed', 1011: 'falling', 1012: 'tiny', 1013: 'tries', 1014: 'download', 1015: 'happened', 1016: 'access', 1017: 'continue', 1018: 'flash', 1019: 'truly', 1020: 'tones', 1021: 'prime', 1022: 'chinese', 1023: 'crisp', 1024: 'video', 1025: 'accept', 1026: 'allows', 1027: 'multiple', 1028: 'signs', 1029: 'sizes', 1030: 'classy', 1031: 'metro', 1032: 'cost', 1033: 'convenient', 1034: 'son', 1035: 'protector', 1036: '12', 1037: 'discount', 1038: 'double', 1039: 'disgusting', 1040: 'rare', 1041: 'five', 1042: 'lots', 1043: 'sounded', 1044: 'together', 1045: 'feet', 1046: 'everywhere', 1047: 'ordering', 1048: 'awkward', 1049: 'current', 1050: 'dirty', 1051: 'answer', 1052: \"haven't\", 1053: 'laptop', 1054: 'normal', 1055: 'fails', 1056: 'lose', 1057: 'exceptional', 1058: 'setting', 1059: 'show', 1060: 'ok', 1061: 'managed', 1062: 'seat', 1063: 'lightly', 1064: 'rating', 1065: 'rest', 1066: 'joy', 1067: 'covered', 1068: 'disappoint', 1069: 'crust', 1070: 'texture', 1071: 'nasty', 1072: 'late', 1073: 'recommendation', 1074: 'potatoes', 1075: 'overpriced', 1076: 'asked', 1077: 'mexican', 1078: 'tacos', 1079: 'overwhelmed', 1080: 'familiar', 1081: 'visit', 1082: 'grossed', 1083: 'beef', 1084: 'duck', 1085: 'char', 1086: 'realized', 1087: 'his', 1088: 'towards', 1089: 'customers', 1090: 'portion', 1091: 'attack', 1092: 'excuse', 1093: 'scallop', 1094: 'water', 1095: 'appetizers', 1096: 'heard', 1097: 'salt', 1098: 'batter', 1099: 'chewy', 1100: 'min', 1101: 'known', 1102: 'opportunity', 1103: 'die', 1104: 'mouth', 1105: 'bye', 1106: \"we'll\", 1107: 'serves', 1108: 'marrow', 1109: 'wine', 1110: 'bartender', 1111: 'lovers', 1112: 'busy', 1113: 'gross', 1114: 'preparing', 1115: 'belly', 1116: 'melt', 1117: 'burgers', 1118: 'cheese', 1119: 'subway', 1120: 'restaurants', 1121: 'dine', 1122: 'drink', 1123: 'rarely', 1124: 'curry', 1125: 'bathrooms', 1126: 'decorated', 1127: 'bay', 1128: 'stale', 1129: 'bakery', 1130: 'sad', 1131: 'ladies', 1132: 'decided', 1133: 'looked', 1134: 'healthy', 1135: 'butter', 1136: 'chips', 1137: 'watch', 1138: 'egg', 1139: 'dog', 1140: 'bowl', 1141: 'live', 1142: 'insulted', 1143: 'drive', 1144: 'hope', 1145: 'brunch', 1146: 'stepped', 1147: 'gold', 1148: 'bug', 1149: \"we're\", 1150: 'her', 1151: 'shower', 1152: 'lobster', 1153: 'bisque', 1154: 'yum', 1155: 'stayed', 1156: 'flavorful', 1157: 'dark', 1158: 'par', 1159: 'creamy', 1160: 'generous', 1161: 'coffee', 1162: 'tea', 1163: 'patio', 1164: 'bachi', 1165: \"friend's\", 1166: 'why', 1167: 'pulled', 1168: 'stir', 1169: 'fried', 1170: 'doubt', 1171: 'mom', 1172: 'pleasant', 1173: 'omg', 1174: 'ten', 1175: 'pancakes', 1176: 'eggs', 1177: 'tasted', 1178: 'deserves', 1179: 'green', 1180: 'stuffed', 1181: 'kids', 1182: 'assure', 1183: 'regular', 1184: 'dinner', 1185: '40', 1186: 'anytime', 1187: 'driest', 1188: 'manager', 1189: 'acknowledged', 1190: 'group', 1191: 'crab', 1192: 'legs', 1193: 'bunch', 1194: 'homemade', 1195: 'desserts', 1196: 'recent', 1197: 'converter', 1198: 'tied', 1199: 'major', 1200: 'jiggle', 1201: 'dozen', 1202: 'hundred', 1203: 'imagine', 1204: 'owner', 1205: 'needless', 1206: 'seperated', 1207: 'mere', 1208: 'ft', 1209: 'excessive', 1210: 'garbled', 1211: 'odd', 1212: 'fooled', 1213: 'clicks', 1214: 'wonder', 1215: 'mechanism', 1216: \"motorola's\", 1217: 'followed', 1218: 'directions', 1219: 'kindle', 1220: 'commercials', 1221: 'misleading', 1222: 'mother', 1223: 'couldnt', 1224: 'earphone', 1225: 'breakage', 1226: 'unacceptible', 1227: 'ideal', 1228: 'whose', 1229: 'sensitive', 1230: 'moving', 1231: 'freeway', 1232: 'speed', 1233: 'contract', 1234: 'ac', 1235: 'juice', 1236: 'highy', 1237: 'mins', 1238: '680', 1239: '2mp', 1240: 'pics', 1241: 'garbage', 1242: 'gonna', 1243: 'arguing', 1244: 'bulky', 1245: 'usable', 1246: 'useful', 1247: 'machine', 1248: 'neat', 1249: 'gadget', 1250: 'e', 1251: 'stream', 1252: 'submerged', 1253: \"microsoft's\", 1254: 'faceplates', 1255: 'elegant', 1256: 'angle', 1257: 'drawback', 1258: 'pause', 1259: 'skip', 1260: 'songs', 1261: 'activated', 1262: 'suddenly', 1263: 'ipods', 1264: 'situations', 1265: 'bmw', 1266: 'fairly', 1267: 'hearing', 1268: 'wrongly', 1269: 'everyday', 1270: 'intended', 1271: 'runs', 1272: 'loads', 1273: 'greater', 1274: 'buds', 1275: 'waaay', 1276: 'bluetooths', 1277: 'listener', 1278: 'integrated', 1279: 'seamlessly', 1280: 'flush', 1281: 'toilet', 1282: 'supposedly', 1283: '375', 1284: 'styles', 1285: 'correctly', 1286: '350', 1287: 'jabra350', 1288: 'megapixels', 1289: 'renders', 1290: 'images', 1291: 'relatively', 1292: 'purcashed', 1293: 'geeky', 1294: 'oozes', 1295: 'embedded', 1296: 'stylish', 1297: 'compromise', 1298: 'qwerty', 1299: 'basic', 1300: 'simpler', 1301: 'iam', 1302: 'disapoinment', 1303: 'realize', 1304: 'accompanied', 1305: 'brilliant', 1306: 'nicely', 1307: 'damage', 1308: 'definitly', 1309: 'majority', 1310: 'peachy', 1311: 'keen', 1312: 'upstairs', 1313: 'basement', 1314: 'minute', 1315: 'reccomendation', 1316: 'relative', 1317: 'items', 1318: 'sudden', 1319: 'linking', 1320: '8530', 1321: 'curve', 1322: 'seemed', 1323: 'sketchy', 1324: 'messages', 1325: 'web', 1326: 'browsing', 1327: 'significantly', 1328: 'faster', 1329: 'build', 1330: 'unlike', 1331: 'colors', 1332: 'whine', 1333: 'communications', 1334: 'communicate', 1335: 'monkeys', 1336: 'share', 1337: 'dna', 1338: 'copy', 1339: 'humans', 1340: 'bougth', 1341: 'l7c', 1342: 'mode', 1343: 'file', 1344: 'browser', 1345: 'offers', 1346: 'hs850', 1347: 'latest', 1348: 'os', 1349: 'v1', 1350: '15g', 1351: 'likes', 1352: 'crawl', 1353: 'recognizes', 1354: 'bluetoooth', 1355: 'thorn', 1356: 'abhor', 1357: 'disconnected', 1358: '13', 1359: 'mail', 1360: 'backlight', 1361: 'message', 1362: 'tone', 1363: 'lately', 1364: 'wit', 1365: 'weight', 1366: 'hardly', 1367: \"you'll\", 1368: 'pleather', 1369: 'deaf', 1370: 'prettier', 1371: 'investment', 1372: 'ticking', 1373: 'noises', 1374: 'ends', 1375: 'electronics', 1376: 'available', 1377: 'fm', 1378: 'transmitters', 1379: 'h500', 1380: 'mega', 1381: 'pixel', 1382: 'good7', 1383: 'transmit', 1384: 'contacting', 1385: 'dollar', 1386: 'learned', 1387: 'lesson', 1388: 'online', 1389: 'earbugs', 1390: 'means', 1391: 'roam', 1392: 'crack', 1393: 'infatuated', 1394: 'freezes', 1395: 'frequently4', 1396: 'mostly', 1397: 'child', 1398: 'tick', 1399: 'headbands', 1400: 'ericsson', 1401: 'purchases', 1402: 'shine', 1403: 'calendar', 1404: 'sync', 1405: 'defeats', 1406: 'penny', 1407: 'wallet', 1408: 'type', 1409: 'excrutiatingly', 1410: 'aspect', 1411: 'glove', 1412: 'durable', 1413: 'o', 1414: 'gosh', 1415: 'attractive', 1416: 'factor', 1417: 'petroleum', 1418: 'unbearable', 1419: 'scary', 1420: 'stereo', 1421: 'absolutel', 1422: 'potentially', 1423: 'giving', 1424: 'reversible', 1425: 'rotating', 1426: 'contstruct', 1427: 'hinge', 1428: 'installed', 1429: 'overnite', 1430: 'thru', 1431: 'handset', 1432: 'cat', 1433: 'attacked', 1434: 'protective', 1435: 'destroying', 1436: 'razor', 1437: 'v3i', 1438: 'shouldve', 1439: 'invented', 1440: 'sooner', 1441: 'engineered', 1442: 'clever', 1443: 'complained', 1444: \"headset's\", 1445: '2160', 1446: 'tracfone', 1447: 'instruction', 1448: 'manual', 1449: 'alarm', 1450: 'clock', 1451: 'removing', 1452: 'antena', 1453: 'compared', 1454: 'compliments', 1455: 'state', 1456: 'allow', 1457: 'usage', 1458: 'ngage', 1459: 'earbuds', 1460: 'riingtones', 1461: 'rip', 1462: 'frequentyly', 1463: 'adhesive', 1464: 'practically', 1465: 'add', 1466: 'boost', 1467: 'concrete', 1468: 'knock', 1469: 'wood', 1470: 'transformed', 1471: 'organizational', 1472: 'capability', 1473: 'sitting', 1474: 'vehicle', 1475: 'cradle', 1476: 'jerks', 1477: 'los', 1478: 'angeles', 1479: 'starter', 1480: 'loudspeaker', 1481: 'option', 1482: 'bumpers', 1483: 'lights', 1484: 'appealing', 1485: 'improve', 1486: 'leaks', 1487: 'according', 1488: 'called', 1489: 'applifies', 1490: 'specially', 1491: 'transmission', 1492: 's11', 1493: 'finished', 1494: 'drivng', 1495: 'reverse', 1496: 'tape', 1497: 'embarassing', 1498: 'hurt', 1499: 'protects', 1500: 'average', 1501: 'operates', 1502: 'soyo', 1503: 'portraits', 1504: 'exterior', 1505: 'mentioned', 1506: 'gadgets', 1507: 'magical', 1508: 'promptly', 1509: 'comparably', 1510: 'offering', 1511: 'encourage', 1512: 'effective', 1513: 'recieve', 1514: 'cradles', 1515: 'kits', 1516: 'excelent', 1517: 'cingulair', 1518: 'nicer', 1519: 'era', 1520: 'colored', 1521: 'hoursthe', 1522: 'thereplacement', 1523: '2000', 1524: 'cheaply', 1525: 'distorted', 1526: 'yell', 1527: 'forgot', 1528: 'weird', 1529: 'iriver', 1530: 'spinn', 1531: 'fond', 1532: 'magnetic', 1533: 'strap', 1534: 'psyched', 1535: 'appointments', 1536: 'appearance', 1537: 'sanyo', 1538: 'survived', 1539: 'dozens', 1540: 'blacktop', 1541: 'ill', 1542: 'earphones', 1543: 'finds', 1544: 'enter', 1545: 'modest', 1546: 'cellular', 1547: 'awsome', 1548: 'drained', 1549: 'earpad', 1550: 'displeased', 1551: 'defect', 1552: 'risk', 1553: 'built', 1554: 'restored', 1555: 'jx', 1556: 'searched', 1557: 'key', 1558: 'pad', 1559: 'lit', 1560: 'portable', 1561: 'colleague', 1562: 'fully', 1563: 'bed', 1564: 'wi', 1565: 'fi', 1566: 'morning', 1567: 'card', 1568: 'hat', 1569: 'timely', 1570: 'shipment', 1571: 'surefire', 1572: 'gx2', 1573: 'bt50', 1574: 'buyers', 1575: 'remorse', 1576: 'accessoryone', 1577: 'inexcusable', 1578: 'carriers', 1579: 'tmobile', 1580: 'procedure', 1581: 'motorolas', 1582: 'vx9900', 1583: 'env', 1584: 'rocketed', 1585: 'destination', 1586: 'unknown', 1587: 'conditions', 1588: 'usefulness', 1589: \"verizon's\", 1590: 'bills', 1591: 'plans', 1592: 'overnight', 1593: 'regret', 1594: 'pitiful', 1595: 'respect', 1596: 'stuck', 1597: 'max', 1598: 'mute', 1599: 'hybrid', 1600: 'palmtop', 1601: 'excels', 1602: 'roles', 1603: 'bt250v', 1604: '11', 1605: 'bose', 1606: 'cancelling', 1607: 'commuter', 1608: 'photo', 1609: 'ad', 1610: 'earlier', 1611: 'noted', 1612: 'happens', 1613: 'frog', 1614: 'eye', 1615: 'pushed', 1616: 'function', 1617: 'aluminum', 1618: 'vx', 1619: 'protected', 1620: 'handheld', 1621: 'tools', 1622: 'sturdiness', 1623: 'orders', 1624: 'source', 1625: 'waterproof', 1626: 'thanks', 1627: 'sliding', 1628: 'edge', 1629: 'pants', 1630: 'pockets', 1631: 'ugly', 1632: 'shield', 1633: 'incrediable', 1634: 'improvement', 1635: 'refuse', 1636: 'activate', 1637: 'gentle', 1638: 'threw', 1639: 'window', 1640: 'inches', 1641: 'counter', 1642: 'cracked', 1643: 'laughing', 1644: 'trunk', 1645: 'carried', 1646: 'hitch', 1647: 'practical', 1648: 'channel', 1649: 'directly', 1650: 'increase', 1651: 'ones', 1652: 'properly', 1653: 'shifting', 1654: 'bubbling', 1655: 'peeling', 1656: 'scratch', 1657: 'droid', 1658: 'exercise', 1659: 'frustration', 1660: 'earset', 1661: 'outgoing', 1662: 'package', 1663: 'understanding', 1664: 'patient', 1665: 'wirefly', 1666: 'contact', 1667: 'inform', 1668: 'practice', 1669: 'aggravating', 1670: 'virgin', 1671: 'muddy', 1672: 'casing', 1673: \"wire's\", 1674: 'insert', 1675: 'glued', 1676: 'slid', 1677: 'plantronincs', 1678: 'continues', 1679: 'flawed', 1680: 'disapointing', 1681: 'fourth', 1682: 'hated', 1683: 'fixes', 1684: 'accessing', 1685: 'downloading', 1686: 'performing', 1687: 'functions', 1688: 'constantly', 1689: 'happening', 1690: 'adapters', 1691: 'procedures', 1692: 're', 1693: 'wiping', 1694: 'strength', 1695: 'plays', 1696: 'louder', 1697: 'constructed', 1698: 'navigate', 1699: 'recessed', 1700: 'avoiding', 1701: 'smoking', 1702: 'linked', 1703: 'possesed', 1704: 'idea', 1705: 'trash', 1706: 'research', 1707: 'development', 1708: 'division', 1709: 'knows', 1710: \"they're\", 1711: 'doing', 1712: 'killer', 1713: 'infuriating', 1714: 'walkman', 1715: 'charges', 1716: 'europe', 1717: 'asia', 1718: 'clipping', 1719: 'deffinitely', 1720: \"cent's\", 1721: 'behing', 1722: '5020', 1723: 'comfortible', 1724: '24', 1725: 'pain', 1726: 'arrival', 1727: 'fraction', 1728: 'crappy', 1729: 'e715', 1730: 'seeen', 1731: 'interface', 1732: 'decade', 1733: 'compete', 1734: 'designs', 1735: '700w', 1736: 'transceiver', 1737: 'steer', 1738: 'genuine', 1739: 'replacementr', 1740: 'pens', 1741: 'buyit', 1742: 'beats', 1743: 'fingers', 1744: 'steep', 1745: 'normally', 1746: 'haul', 1747: 'dissapointing', 1748: 'originally', 1749: 'discarded', 1750: 'players', 1751: 'posted', 1752: 'detailed', 1753: 'comments', 1754: 'grey', 1755: 'existing', 1756: 'cds', 1757: 'surprised', 1758: 'fabulous', 1759: 'currently', 1760: 'shooters', 1761: 'delay', 1762: 'messes', 1763: 'bitpim', 1764: 'program', 1765: 'transfer', 1766: 'accessory', 1767: 'manufacturer', 1768: 'muffled', 1769: 'incoming', 1770: 'severe', 1771: 'resistant', 1772: 'overly', 1773: 'contacted', 1774: 'produce', 1775: 'receipt', 1776: 'luck', 1777: 'linksys', 1778: 'exchange', 1779: 'refurb', 1780: 'snug', 1781: 'heavy', 1782: 'keeps', 1783: 'utter', 1784: 'promised', 1785: 'loop', 1786: 'four', 1787: 'latch', 1788: 'visor', 1789: 'address', 1790: 'reboots', 1791: 'rate', 1792: 'tungsten', 1793: 'e2', 1794: 'flipphones', 1795: 'designed', 1796: 'smoothly', 1797: 'study', 1798: 'interested', 1799: 'sins', 1800: 'industrial', 1801: 'tracking', 1802: 'detachable', 1803: 'periodically', 1804: 'somehow', 1805: 'upload', 1806: 'locks', 1807: 'screens', 1808: 'randomly', 1809: 'locked', 1810: '325', 1811: 'worn', 1812: 'ringer', 1813: 'choices', 1814: 'acceptable', 1815: 'balance', 1816: 'ready', 1817: 'upbeat', 1818: 'forgeries', 1819: 'abound', 1820: 'explain', 1821: 'jack', 1822: 'ca', 1823: '42', 1824: 'smallest', 1825: 'stays', 1826: 'biggest', 1827: 'drains', 1828: 'superfast', 1829: 'ergonomic', 1830: 'theory', 1831: 'stand', 1832: 'clips', 1833: 'occupied', 1834: 'distracting', 1835: 'entire', 1836: 'except', 1837: 'cbr', 1838: 'mp3s', 1839: 'preferably', 1840: 'windows', 1841: 'media', 1842: 'shots', 1843: 'sos', 1844: 'signals', 1845: 'connect', 1846: 'mini', 1847: 'near', 1848: 'open', 1849: 'allowing', 1850: 'startac', 1851: 'regretted', 1852: 'outperform', 1853: 'china', 1854: 'v325i', 1855: 'numbers', 1856: 'sim', 1857: '3o', 1858: 'r', 1859: 'crashed', 1860: 'replaced', 1861: 'quit', 1862: '18', 1863: '4s', 1864: 'connecting', 1865: 'sources', 1866: 'imac', 1867: 'external', 1868: 'bells', 1869: 'whistles', 1870: 'via', 1871: 'slide', 1872: 'grip', 1873: 'prevents', 1874: 'slipping', 1875: 'span', 1876: 'exclaim', 1877: 'whoa', 1878: 'tv', 1879: 'corded', 1880: 'freedom', 1881: 'mark', 1882: 'shows', 1883: 'functional', 1884: 'soft', 1885: 'tight', 1886: 'shape', 1887: 'copier', 1888: 'sent', 1889: 'anywhere', 1890: 'sold', 1891: 'units', 1892: 'provides', 1893: 'krussel', 1894: 'tracfonewebsite', 1895: 'toactivate', 1896: 'texas', 1897: 'dit', 1898: '5320', 1899: 'mainly', 1900: 'whatever', 1901: 'blueant', 1902: 'supertooth', 1903: 'pcs', 1904: 'sch', 1905: 'r450', 1906: 'slider', 1907: 'premium', 1908: 'plugs', 1909: 'plenty', 1910: 'capacity', 1911: 'confortable', 1912: 'somewhat', 1913: 'periods', 1914: 'ant', 1915: 'hey', 1916: 'pleasantly', 1917: 'suprised', 1918: 'dustpan', 1919: 'indoors', 1920: 'disposable', 1921: 'puff', 1922: 'smoke', 1923: 'ride', 1924: 'smoother', 1925: 'nano', 1926: 'dissapointed', 1927: 'reccommend', 1928: 'carries', 1929: 'highest', 1930: 'anti', 1931: 'glare', 1932: 'smartphone', 1933: 'wont', 1934: 'atleast', 1935: 'addition', 1936: 'amp', 1937: 'reoccure', 1938: 'somewhere', 1939: 'creaks', 1940: 'wooden', 1941: 'floor', 1942: 'apartment', 1943: 'generally', 1944: 'inconspicuous', 1945: 'slowly', 1946: 'sorry', 1947: 'impossible', 1948: 'refused', 1949: 'upgrade', 1950: 'securly', 1951: 'possibility', 1952: 'booking', 1953: 'entertainment', 1954: 'communication', 1955: 'activesync', 1956: 'optimal', 1957: 'synchronization', 1958: 'coupon', 1959: 'instance', 1960: 'ps3', 1961: 'cheapy', 1962: 'talking', 1963: 'shouting', 1964: 'telephone', 1965: 'yes', 1966: 'shiny', 1967: 'grtting', 1968: '44', 1969: 'v3c', 1970: 'exceeds', 1971: 'sight', 1972: 'improper', 1973: 'effects', 1974: 'palms', 1975: 'hoped', 1976: 'father', 1977: 'v265', 1978: 'pads', 1979: 'stops', 1980: 'intermittently', 1981: 'reaching', 1982: 'row', 1983: 'keys', 1984: 'nightmare', 1985: 'describe', 1986: 'speakerphone', 1987: 'cassette', 1988: 'cellphones', 1989: 'planning', 1990: 'read', 1991: \"other's\", 1992: 'products', 1993: 'sensor', 1994: 'reliability', 1995: 'beeping', 1996: 'letting', 1997: 'dieing', 1998: 'ir', 1999: 'cancellation', 2000: 'counterfeit', 2001: 'travled', 2002: 'swivel', 2003: 'sister', 2004: 'dual', 2005: '8125', 2006: 'keeping', 2007: 'bottowm', 2008: 'gimmick', 2009: 'opens', 2010: 'causing', 2011: 'discomfort', 2012: 'trust', 2013: 'maintains', 2014: 'flawless', 2015: 'devices', 2016: 'utterly', 2017: 'confusing', 2018: 'holder', 2019: 'cutouts', 2020: 'land', 2021: 'loops', 2022: 'material', 2023: 'flaws', 2024: 'owning', 2025: 'official', 2026: 'oem', 2027: 'loudest', 2028: 'competitors', 2029: 'saved', 2030: 'alot', 2031: 'cuts', 2032: 'unintelligible', 2033: 'restart', 2034: 'bend', 2035: 'leaf', 2036: 'metal', 2037: 'stress', 2038: 'leopard', 2039: 'print', 2040: 'wonderfully', 2041: 'wild', 2042: 'saggy', 2043: 'floppy', 2044: 'looses', 2045: 'snap', 2046: '8525', 2047: 'carry', 2048: 'fliptop', 2049: 'loose', 2050: 'wobbly', 2051: 'eventually', 2052: 'receive', 2053: 'fulfills', 2054: 'requirements', 2055: 'rests', 2056: 'against', 2057: 'websites', 2058: 'cables', 2059: 'lap', 2060: 'controls', 2061: 'accessable', 2062: 'mine', 2063: 'christmas', 2064: 'otherwise', 2065: 'satisifed', 2066: '2005', 2067: 's710a', 2068: 'specs', 2069: 'armband', 2070: 'allot', 2071: 'clearer', 2072: 'keypads', 2073: 'reach', 2074: 'ericson', 2075: 'z500a', 2076: 'motor', 2077: 'control', 2078: 'center', 2079: 'voltage', 2080: 'humming', 2081: 'equipment', 2082: 'certain', 2083: 'girl', 2084: 'complain', 2085: 'wake', 2086: 'styling', 2087: 'restocking', 2088: 'fee', 2089: 'darn', 2090: 'lousy', 2091: 'sweetest', 2092: 'securely', 2093: 'hook', 2094: 'directed', 2095: 'canal', 2096: 'unsatisfactory', 2097: 'videos', 2098: 'negatively', 2099: 'adapter', 2100: 'provide', 2101: 'hype', 2102: 'assumed', 2103: 'lense', 2104: 'falls', 2105: 'text', 2106: 'messaging', 2107: 'tricky', 2108: 'painful', 2109: 'lasted', 2110: 'blew', 2111: 'flops', 2112: 'smudged', 2113: 'touches', 2114: 'infra', 2115: 'port', 2116: 'irda', 2117: 'bank', 2118: 'holiday', 2119: 'rick', 2120: 'steve', 2121: 'angry', 2122: 'honeslty', 2123: 'ahead', 2124: 'warmer', 2125: 'cashier', 2126: 'wayyy', 2127: 'cape', 2128: 'cod', 2129: 'ravoli', 2130: 'chickenwith', 2131: 'cranberry', 2132: 'mmmm', 2133: 'disgusted', 2134: 'human', 2135: 'shocked', 2136: 'indicate', 2137: 'cash', 2138: 'burrittos', 2139: 'blah', 2140: 'interior', 2141: 'velvet', 2142: 'cake', 2143: 'ohhh', 2144: 'brought', 2145: 'hole', 2146: 'street', 2147: 'luke', 2148: 'sever', 2149: 'sashimi', 2150: 'combos', 2151: '23', 2152: 'final', 2153: 'blow', 2154: 'accident', 2155: 'grab', 2156: 'bite', 2157: 'pub', 2158: 'yourself', 2159: 'favor', 2160: 'redeeming', 2161: 'hiro', 2162: 'delight', 2163: 'moist', 2164: 'drag', 2165: 'judge', 2166: 'melted', 2167: 'styrofoam', 2168: 'fear', 2169: 'positive', 2170: 'frozen', 2171: 'pucks', 2172: 'disgust', 2173: 'behind', 2174: 'register', 2175: 'rib', 2176: 'section', 2177: 'generic', 2178: 'firehouse', 2179: 'pita', 2180: 'hummus', 2181: 'refreshing', 2182: 'pink', 2183: 'chow', 2184: 'mein', 2185: 'attitudes', 2186: 'imaginative', 2187: 'grill', 2188: 'downtown', 2189: 'flat', 2190: 'lined', 2191: 'strings', 2192: 'amount', 2193: 'banana', 2194: 'petrified', 2195: 'refill', 2196: 'struggle', 2197: 'wave', 2198: 'receives', 2199: 'cocktails', 2200: 'handmade', 2201: \"we'd\", 2202: 'military', 2203: 'dos', 2204: 'gringos', 2205: 'finish', 2206: 'tastings', 2207: 'jeff', 2208: 'beyond', 2209: 'meh', 2210: 'milkshake', 2211: 'chocolate', 2212: 'milk', 2213: 'suck', 2214: 'excalibur', 2215: 'common', 2216: 'sense', 2217: 'appalling', 2218: 'seasoned', 2219: 'cheated', 2220: 'experiencing', 2221: 'underwhelming', 2222: 'relationship', 2223: 'parties', 2224: 'smelled', 2225: 'grease', 2226: 'trap', 2227: 'turkey', 2228: 'roast', 2229: 'pan', 2230: 'cakes', 2231: 'raving', 2232: 'sugary', 2233: 'disaster', 2234: 'tailored', 2235: 'palate', 2236: 'six', 2237: 'yummy', 2238: 'ratio', 2239: 'tenders', 2240: 'unsatisfying', 2241: 'omelets', 2242: 'summary', 2243: 'largely', 2244: 'sexy', 2245: 'outrageously', 2246: 'flirting', 2247: 'hottest', 2248: 'rock', 2249: 'casino', 2250: 'step', 2251: 'forward', 2252: 'tip', 2253: 'lady', 2254: 'roasted', 2255: 'garlic', 2256: 'bone', 2257: 'added', 2258: 'bloddy', 2259: \"mary's\", 2260: 'mussels', 2261: 'reduction', 2262: 'buffets', 2263: 'tigerlilly', 2264: 'afternoon', 2265: 'personable', 2266: 'ambience', 2267: 'playing', 2268: 'sooooo', 2269: \"let's\", 2270: 'honest', 2271: 'yama', 2272: '40min', 2273: 'arriving', 2274: 'actual', 2275: 'blandest', 2276: 'indian', 2277: 'cuisine', 2278: 'worries', 2279: 'guys', 2280: 'loving', 2281: \"he's\", 2282: 'venture', 2283: 'further', 2284: 'host', 2285: 'lack', 2286: 'bitches', 2287: 'liking', 2288: 'reasons', 2289: 'reviewing', 2290: 'phenomenal', 2291: 'venturing', 2292: 'penne', 2293: 'vodka', 2294: 'including', 2295: 'massive', 2296: 'meatloaf', 2297: 'crispy', 2298: 'wrap', 2299: 'tuna', 2300: 'bagels', 2301: 'selections', 2302: 'lox', 2303: 'capers', 2304: 'meet', 2305: 'weekend', 2306: 'suggestions', 2307: 'ate', 2308: 'bamboo', 2309: 'shoots', 2310: 'blanket', 2311: 'moz', 2312: 'subpar', 2313: 'pace', 2314: 'watched', 2315: 'attention', 2316: 'ignore', 2317: 'fiancé', 2318: 'middle', 2319: 'greeted', 2320: 'mandalay', 2321: 'forty', 2322: 'vain', 2323: 'crostini', 2324: 'highlights', 2325: 'nigiri', 2326: 'joint', 2327: 'flavored', 2328: 'voodoo', 2329: 'gluten', 2330: 'leftover', 2331: 'relocated', 2332: 'diverse', 2333: 'hella', 2334: 'salty', 2335: 'spinach', 2336: 'avocado', 2337: 'ingredients', 2338: 'handed', 2339: 'listed', 2340: 'waitresses', 2341: 'lordy', 2342: 'khao', 2343: 'soi', 2344: 'terrific', 2345: 'thrilled', 2346: 'accommodations', 2347: 'vegetarian', 2348: 'daughter', 2349: 'caught', 2350: 'judging', 2351: 'inspired', 2352: 'leaves', 2353: 'desired', 2354: 'modern', 2355: 'hip', 2356: 'maintaining', 2357: 'coziness', 2358: 'weekly', 2359: 'haunt', 2360: 'asking', 2361: 'overcooked', 2362: 'charcoal', 2363: 'verge', 2364: 'dressed', 2365: 'rudely', 2366: 'dirt', 2367: 'hits', 2368: 'quantity', 2369: 'lemon', 2370: 'raspberry', 2371: 'cocktail', 2372: 'imagined', 2373: 'decor', 2374: 'crepe', 2375: 'bits', 2376: 'gyros', 2377: 'missing', 2378: 'feeling', 2379: \"joey's\", 2380: 'voted', 2381: 'valley', 2382: 'readers', 2383: 'magazine', 2384: 'fridays', 2385: 'blows', 2386: 'disrespected', 2387: 'exceeding', 2388: 'dreamed', 2389: 'serivce', 2390: 'inviting', 2391: 'lived', 2392: '1979', 2393: 'foot', 2394: 'mixed', 2395: 'mushrooms', 2396: 'yukon', 2397: 'puree', 2398: 'corn', 2399: 'beateous', 2400: 'showed', 2401: 'climbing', 2402: 'friend', 2403: 'tartar', 2404: 'soggy', 2405: 'jamaican', 2406: 'mojitos', 2407: 'rich', 2408: 'accordingly', 2409: 'rinse', 2410: 'nude', 2411: 'bussell', 2412: 'sprouts', 2413: 'risotto', 2414: 'filet', 2415: 'pepper', 2416: 'hopefully', 2417: 'bodes', 2418: 'cook', 2419: 'wrapped', 2420: 'dates', 2421: 'unbelievable', 2422: 'otto', 2423: 'welcome', 2424: 'mains', 2425: 'uninspired', 2426: 'whenever', 2427: 'dealing', 2428: \"world's\", 2429: 'annoying', 2430: 'drunk', 2431: 'chef', 2432: 'cheeseburger', 2433: 'single', 2434: 'patty', 2435: 'uploaded', 2436: 'yeah', 2437: 'sporting', 2438: 'events', 2439: 'walls', 2440: \"tv's\", 2441: \"they'd\", 2442: 'descriptions', 2443: 'eel', 2444: 'mayo', 2445: 'sauces', 2446: 'hardest', 2447: 'honestly', 2448: \"m's\", 2449: 'supposed', 2450: 'rolled', 2451: 'eyes', 2452: 'providing', 2453: 'flavourful', 2454: 'building', 2455: 'freezing', 2456: 'reviewer', 2457: 'close', 2458: 'delights', 2459: 'ayce', 2460: 'lighting', 2461: 'mood', 2462: 'based', 2463: 'sub', 2464: 'gratitude', 2465: \"owner's\", 2466: 'privileged', 2467: 'parents', 2468: 'similar', 2469: 'silently', 2470: 'peanut', 2471: \"would've\", 2472: 'godfathers', 2473: 'tough', 2474: 'sticks', 2475: 'recall', 2476: 'tap', 2477: 'exquisite', 2478: 'thus', 2479: 'visited', 2480: 'twice', 2481: 'proclaimed', 2482: 'wildly', 2483: 'veggitarian', 2484: 'platter', 2485: 'madison', 2486: 'ironman', 2487: 'chefs', 2488: 'dedicated', 2489: 'boba', 2490: 'spots', 2491: 'jenni', 2492: 'goat', 2493: 'taco', 2494: 'skimp', 2495: 'mac', 2496: 'stinks', 2497: 'salads', 2498: 'burned', 2499: 'saganaki', 2500: 'disagree', 2501: 'fellow', 2502: 'yelpers', 2503: 'neighborhood', 2504: 'soooo', 2505: 'prepared', 2506: 'writing', 2507: 'noodles', 2508: 'chip', 2509: 'count', 2510: 'box', 2511: 'boring', 2512: 'greedy', 2513: 'corporation', 2514: 'dime', 2515: 'atrocious', 2516: 'summer', 2517: 'charming', 2518: 'outdoor', 2519: 'delightful', 2520: 'toasted', 2521: 'english', 2522: 'muffin', 2523: 'untoasted', 2524: 'bus', 2525: 'figured', 2526: 'publicly', 2527: 'loudly', 2528: 'bbq', 2529: 'lighter', 2530: 'fare', 2531: 'public', 2532: 'ways', 2533: 'downside', 2534: 'shawarrrrrrma', 2535: 'eyed', 2536: 'peas', 2537: 'unreal', 2538: 'serve', 2539: 'vinaigrette', 2540: '00', 2541: 'bites', 2542: 'honor', 2543: 'hut', 2544: 'coupons', 2545: 'unbelievably', 2546: 'covers', 2547: 'replenished', 2548: 'plain', 2549: 'yucky', 2550: '17', 2551: 'delicioso', 2552: 'spaghetti', 2553: 'vegetables', 2554: 'tucson', 2555: 'chipotle', 2556: 'succulent', 2557: 'baseball', 2558: 'brick', 2559: 'oven', 2560: 'app', 2561: 'equally', 2562: 'genuinely', 2563: 'enthusiastic', 2564: 'treat', 2565: 'sadly', 2566: 'gordon', 2567: \"ramsey's\", 2568: 'shall', 2569: 'sharply', 2570: 'evening', 2571: 'bathroom', 2572: 'door', 2573: 'offered', 2574: 'handling', 2575: 'rowdy', 2576: 'despicable', 2577: 'soup', 2578: 'lukewarm', 2579: 'craving', 2580: 'stomach', 2581: 'ache', 2582: 'ball', 2583: 'space', 2584: 'elegantly', 2585: 'customize', 2586: 'usual', 2587: 'eggplant', 2588: 'bean', 2589: 'beans', 2590: 'outta', 2591: 'inconsiderate', 2592: 'hi', 2593: 'dinners', 2594: 'outshining', 2595: 'halibut', 2596: 'starving', 2597: '90', 2598: 'disgrace', 2599: 'def', 2600: 'ethic', 2601: 'andddd', 2602: 'past', 2603: 'located', 2604: 'crystals', 2605: 'shopping', 2606: 'mall', 2607: 'aria', 2608: 'summarize', 2609: 'nay', 2610: 'transcendant', 2611: 'brings', 2612: 'pneumatic', 2613: 'condiment', 2614: 'dispenser', 2615: 'ians', 2616: 'kiddos', 2617: 'perfection', 2618: 'impeccable', 2619: 'bouchon', 2620: 'accountant', 2621: 'screwed', 2622: 'reminds', 2623: 'pop', 2624: 'shops', 2625: 'san', 2626: 'francisco', 2627: 'buldogis', 2628: 'gourmet', 2629: 'frustrated', 2630: 'petty', 2631: 'iced', 2632: 'hungry', 2633: 'teeth', 2634: 'sore', 2635: 'become', 2636: 'professional', 2637: 'companions', 2638: 'ground', 2639: 'smeared', 2640: 'tracked', 2641: 'pile', 2642: 'bird', 2643: 'poop', 2644: 'furthermore', 2645: 'operation', 2646: \"we've\", 2647: 'expert', 2648: 'connisseur', 2649: 'topic', 2650: 'jerk', 2651: 'strike', 2652: 'wants', 2653: 'rushed', 2654: 'nicest', 2655: 'owners', 2656: 'across', 2657: 'biscuits', 2658: 'appetizer', 2659: 'absolutley', 2660: '5lb', 2661: 'cow', 2662: '4ths', 2663: 'gristle', 2664: 'fat', 2665: 'steiners', 2666: 'dollars', 2667: 'fs', 2668: 'pears', 2669: 'almonds', 2670: 'spicier', 2671: 'prefer', 2672: 'ribeye', 2673: 'mesquite', 2674: 'gooodd', 2675: 'connoisseur', 2676: 'difference', 2677: 'contained', 2678: 'mouthful', 2679: 'enjoyable', 2680: 'relaxed', 2681: 'venue', 2682: 'couples', 2683: 'groups', 2684: 'nargile', 2685: 'tater', 2686: 'tots', 2687: 'southwest', 2688: 'paid', 2689: 'vanilla', 2690: 'smooth', 2691: 'profiterole', 2692: 'choux', 2693: 'pastry', 2694: 'az', 2695: \"carly's\", 2696: '35', 2697: 'forgetting', 2698: 'margaritas', 2699: 'ventilation', 2700: 'upgrading', 2701: 'letdown', 2702: 'camelback', 2703: 'flower', 2704: 'shop', 2705: 'cartel', 2706: 'trimmed', 2707: '70', 2708: 'claimed', 2709: 'handled', 2710: 'beautifully', 2711: 'bill', 2712: 'bring', 2713: 'jewel', 2714: 'las', 2715: 'limited', 2716: 'boiled', 2717: 'toro', 2718: 'tartare', 2719: 'cavier', 2720: 'extraordinary', 2721: 'thinly', 2722: 'sliced', 2723: 'wagyu', 2724: 'truffle', 2725: 'attached', 2726: 'gas', 2727: 'sign', 2728: 'decide', 2729: 'worse', 2730: 'humiliated', 2731: 'worker', 2732: 'name', 2733: 'callings', 2734: 'conclusion', 2735: 'filling', 2736: 'meals', 2737: 'daily', 2738: 'specials', 2739: 'tragedy', 2740: 'struck', 2741: 'pancake', 2742: 'crawfish', 2743: 'monster', 2744: \"mom's\", 2745: 'multi', 2746: 'grain', 2747: 'pumpkin', 2748: 'pecan', 2749: 'fluffy', 2750: 'airline', 2751: 'noca', 2752: 'gyro', 2753: 'lettuce', 2754: 'thoroughly', 2755: 'pastas', 2756: 'cheesecurds', 2757: 'typical', 2758: 'glance', 2759: 'lovely', 2760: 'finger', 2761: 'beauty', 2762: 'gone', 2763: 'greasy', 2764: 'unhealthy', 2765: 'similarly', 2766: 'man', 2767: 'apology', 2768: 'tiramisu', 2769: 'cannoli', 2770: 'sun', 2771: 'meats', 2772: 'choose', 2773: 'frenchman', 2774: 'martini', 2775: 'opinion', 2776: 'entrees', 2777: 'gc', 2778: 'sample', 2779: 'thirty', 2780: 'vacant', 2781: 'yellowtail', 2782: 'carpaccio', 2783: 'strangers', 2784: 'hello', 2785: 'boyfriend', 2786: 'donut', 2787: 'saving', 2788: 'maybe', 2789: 'disgraceful', 2790: 'suffers', 2791: 'tapas', 2792: 'vinegrette', 2793: 'baby', 2794: 'greens', 2795: 'hearts', 2796: 'hankering', 2797: 'forth', 2798: 'helped', 2799: 'consider', 2800: 'theft', 2801: 'eew', 2802: 'complete', 2803: 'overhaul', 2804: 'witnessed', 2805: 'guests', 2806: 'regularly', 2807: 'swung', 2808: 'deeply', 2809: 'efficient', 2810: 'fan', 2811: 'sucker', 2812: 'dry', 2813: 'olives', 2814: 'perpared', 2815: 'presentation', 2816: 'giant', 2817: 'slices', 2818: 'dusted', 2819: 'powdered', 2820: 'sugar', 2821: 'fo', 2822: 'accomodate', 2823: 'vegan', 2824: 'veggie', 2825: 'crumby', 2826: 'pale', 2827: 'croutons', 2828: \"it'll\", 2829: 'trips', 2830: 'crema', 2831: 'café', 2832: 'expanded', 2833: 'miss', 2834: 'philadelphia'}\n"
          ]
        }
      ]
    },
    {
      "cell_type": "code",
      "metadata": {
        "id": "Pchb8-qkcdA_"
      },
      "source": [
        "# Decode Reviews\n",
        "def decode_review(text):\n",
        "  sent = ' '.join([reverse_word_index.get(i, '?') for i in text])\n",
        "  return sent"
      ],
      "execution_count": 17,
      "outputs": []
    },
    {
      "cell_type": "code",
      "metadata": {
        "colab": {
          "base_uri": "https://localhost:8080/"
        },
        "id": "xl44LRJ-cdDj",
        "outputId": "5c1746b2-627b-4112-a69f-93e3a8052bf9"
      },
      "source": [
        "print(decode_review(padded_sequence[0]))\n",
        "print(training_sentences[0])"
      ],
      "execution_count": 18,
      "outputs": [
        {
          "output_type": "stream",
          "name": "stdout",
          "text": [
            "so there is no way for me to plug it in here in the us unless i go by a <OOV> ? ? ? ? ? ? ? ? ? ? ? ? ? ? ? ? ? ? ? ? ? ? ? ? ? ? ? ? ?\n",
            "So there is no way for me to plug it in here in the US unless I go by a converter.\n"
          ]
        }
      ]
    },
    {
      "cell_type": "markdown",
      "metadata": {
        "id": "ZGqgX7kidxFb"
      },
      "source": [
        "# Basic Sentiment Model with Embedding"
      ]
    },
    {
      "cell_type": "code",
      "metadata": {
        "colab": {
          "base_uri": "https://localhost:8080/"
        },
        "id": "3-1dKWc_cdGK",
        "outputId": "5188647a-1468-4b5b-a141-cac3436dfb1b"
      },
      "source": [
        "model = tf.keras.Sequential([\n",
        "    tf.keras.layers.Embedding(VOCAB_SIZE,\n",
        "                              EMBEDDING_DIM,\n",
        "                              input_length=MAX_LENGTH),\n",
        "    tf.keras.layers.GlobalAveragePooling1D(),\n",
        "    tf.keras.layers.Dense(6, activation='relu'),\n",
        "    tf.keras.layers.Dense(1, activation='sigmoid')\n",
        "])\n",
        "\n",
        "model.compile(\n",
        "    loss = tf.keras.losses.BinaryCrossentropy(),\n",
        "    optimizer = tf.keras.optimizers.Adam(),\n",
        "    metrics = ['accuracy']\n",
        ")\n",
        "\n",
        "model.summary()"
      ],
      "execution_count": 19,
      "outputs": [
        {
          "output_type": "stream",
          "name": "stdout",
          "text": [
            "Model: \"sequential\"\n",
            "_________________________________________________________________\n",
            "Layer (type)                 Output Shape              Param #   \n",
            "=================================================================\n",
            "embedding (Embedding)        (None, 50, 16)            8000      \n",
            "_________________________________________________________________\n",
            "global_average_pooling1d (Gl (None, 16)                0         \n",
            "_________________________________________________________________\n",
            "dense (Dense)                (None, 6)                 102       \n",
            "_________________________________________________________________\n",
            "dense_1 (Dense)              (None, 1)                 7         \n",
            "=================================================================\n",
            "Total params: 8,109\n",
            "Trainable params: 8,109\n",
            "Non-trainable params: 0\n",
            "_________________________________________________________________\n"
          ]
        }
      ]
    },
    {
      "cell_type": "code",
      "metadata": {
        "colab": {
          "base_uri": "https://localhost:8080/"
        },
        "id": "HmYhRBgPcdI7",
        "outputId": "0064864c-cfd7-42fe-f22f-c5c0c8cc6508"
      },
      "source": [
        "EPOCHS = 10\n",
        "history = model.fit(x=padded_sequence,\n",
        "                    y=training_labels_final,\n",
        "                    epochs=EPOCHS,\n",
        "                    validation_data=(testing_padded_sequence, testing_labels_final))"
      ],
      "execution_count": 20,
      "outputs": [
        {
          "output_type": "stream",
          "name": "stdout",
          "text": [
            "Epoch 1/10\n",
            "50/50 [==============================] - 1s 5ms/step - loss: 0.6919 - accuracy: 0.5198 - val_loss: 0.6970 - val_accuracy: 0.4110\n",
            "Epoch 2/10\n",
            "50/50 [==============================] - 0s 2ms/step - loss: 0.6896 - accuracy: 0.5223 - val_loss: 0.6988 - val_accuracy: 0.4110\n",
            "Epoch 3/10\n",
            "50/50 [==============================] - 0s 2ms/step - loss: 0.6869 - accuracy: 0.5292 - val_loss: 0.6984 - val_accuracy: 0.4185\n",
            "Epoch 4/10\n",
            "50/50 [==============================] - 0s 2ms/step - loss: 0.6820 - accuracy: 0.5505 - val_loss: 0.6958 - val_accuracy: 0.4411\n",
            "Epoch 5/10\n",
            "50/50 [==============================] - 0s 2ms/step - loss: 0.6740 - accuracy: 0.5819 - val_loss: 0.6855 - val_accuracy: 0.5038\n",
            "Epoch 6/10\n",
            "50/50 [==============================] - 0s 2ms/step - loss: 0.6637 - accuracy: 0.6290 - val_loss: 0.6727 - val_accuracy: 0.5689\n",
            "Epoch 7/10\n",
            "50/50 [==============================] - 0s 2ms/step - loss: 0.6492 - accuracy: 0.6911 - val_loss: 0.6599 - val_accuracy: 0.6341\n",
            "Epoch 8/10\n",
            "50/50 [==============================] - 0s 2ms/step - loss: 0.6299 - accuracy: 0.7213 - val_loss: 0.6444 - val_accuracy: 0.6742\n",
            "Epoch 9/10\n",
            "50/50 [==============================] - 0s 2ms/step - loss: 0.6074 - accuracy: 0.7332 - val_loss: 0.6251 - val_accuracy: 0.7243\n",
            "Epoch 10/10\n",
            "50/50 [==============================] - 0s 2ms/step - loss: 0.5799 - accuracy: 0.7784 - val_loss: 0.6106 - val_accuracy: 0.7043\n"
          ]
        }
      ]
    },
    {
      "cell_type": "code",
      "metadata": {
        "colab": {
          "base_uri": "https://localhost:8080/"
        },
        "id": "oqDXscqncdLk",
        "outputId": "5fa042bf-020d-4015-b553-abbf5d982d0f"
      },
      "source": [
        "model_loss_acc = model.evaluate(testing_padded_sequence, testing_labels_final)\n",
        "print(model_loss_acc)"
      ],
      "execution_count": 21,
      "outputs": [
        {
          "output_type": "stream",
          "name": "stdout",
          "text": [
            "13/13 [==============================] - 0s 1ms/step - loss: 0.6106 - accuracy: 0.7043\n",
            "[0.6106329560279846, 0.7042606472969055]\n"
          ]
        }
      ]
    },
    {
      "cell_type": "markdown",
      "metadata": {
        "id": "O3ojLnvz_Uui"
      },
      "source": [
        "# Visualize"
      ]
    },
    {
      "cell_type": "code",
      "metadata": {
        "id": "LM7Gxl-4_WFM"
      },
      "source": [
        "def plot_graph(history, string):\n",
        "  plt.plot(history.history[string])\n",
        "  plt.plot(history.history['val_'+string])\n",
        "  plt.xlabel('Epochs')\n",
        "  plt.ylabel(string)\n",
        "  plt.legend([string, 'val_'+string])\n",
        "  plt.show()"
      ],
      "execution_count": 23,
      "outputs": []
    },
    {
      "cell_type": "code",
      "metadata": {
        "colab": {
          "base_uri": "https://localhost:8080/",
          "height": 541
        },
        "id": "jKzxJc4-_WIb",
        "outputId": "9bc2828a-a8e2-490f-f431-4059ac390d9e"
      },
      "source": [
        "plot_graph(history, 'loss')\n",
        "plot_graph(history, 'accuracy')"
      ],
      "execution_count": 24,
      "outputs": [
        {
          "output_type": "display_data",
          "data": {
            "image/png": "[encoded data removed]",
            "text/plain": [
              "<Figure size 432x288 with 1 Axes>"
            ]
          },
          "metadata": {
            "needs_background": "light"
          }
        },
        {
          "output_type": "display_data",
          "data": {
            "image/png": "[encoded data removed]",
            "text/plain": [
              "<Figure size 432x288 with 1 Axes>"
            ]
          },
          "metadata": {
            "needs_background": "light"
          }
        }
      ]
    },
    {
      "cell_type": "markdown",
      "metadata": {
        "id": "OEUDyBvDishm"
      },
      "source": [
        "# Get Files to visualize "
      ]
    },
    {
      "cell_type": "code",
      "metadata": {
        "colab": {
          "base_uri": "https://localhost:8080/"
        },
        "id": "jrWtilo7cdSy",
        "outputId": "e1e28268-1153-4282-feae-c28e6327a4b6"
      },
      "source": [
        "# Get the weights of the embedding layer\n",
        "layer0 = model.layers[0]\n",
        "layer0"
      ],
      "execution_count": null,
      "outputs": [
        {
          "output_type": "execute_result",
          "data": {
            "text/plain": [
              "<keras.layers.embeddings.Embedding at 0x7fdf17e131d0>"
            ]
          },
          "metadata": {},
          "execution_count": 22
        }
      ]
    },
    {
      "cell_type": "code",
      "metadata": {
        "colab": {
          "base_uri": "https://localhost:8080/"
        },
        "id": "0W3VlgOwcdVT",
        "outputId": "00cbece6-1573-45be-cd63-0206d7f57c69"
      },
      "source": [
        "layer0_weights = layer0.get_weights()[0]\n",
        "len(layer0_weights), layer0_weights.shape"
      ],
      "execution_count": null,
      "outputs": [
        {
          "output_type": "execute_result",
          "data": {
            "text/plain": [
              "(1000, (1000, 16))"
            ]
          },
          "metadata": {},
          "execution_count": 23
        }
      ]
    },
    {
      "cell_type": "code",
      "metadata": {
        "colab": {
          "base_uri": "https://localhost:8080/"
        },
        "id": "sTPGceLOlG6K",
        "outputId": "8910af42-6164-4e76-fa21-704be63f2ca7"
      },
      "source": [
        "layer0_weights[0]"
      ],
      "execution_count": null,
      "outputs": [
        {
          "output_type": "execute_result",
          "data": {
            "text/plain": [
              "array([-0.01825841,  0.00744208, -0.02892579, -0.03067325, -0.06528915,\n",
              "        0.04346679, -0.00487588,  0.08790697, -0.07261115, -0.01252695,\n",
              "       -0.06112105, -0.05877759, -0.0419664 ,  0.03116908,  0.02797979,\n",
              "       -0.0800913 ], dtype=float32)"
            ]
          },
          "metadata": {},
          "execution_count": 24
        }
      ]
    },
    {
      "cell_type": "code",
      "metadata": {
        "id": "uaeWPJm-cdYD"
      },
      "source": [
        "# Write Embedding Vectors and Metadata\n",
        "\n",
        "# out_v = io.open('vecs.tsv', 'w', encoding='utf-8')\n",
        "# out_m = io.open('meta.tsv', 'w', encoding='utf-8')\n",
        "\n",
        "# for word_num in range(1, VOCAB_SIZE):\n",
        "#   word = reverse_word_index[word_num]\n",
        "#   embeddings = layer0_weights[word_num]\n",
        "#   out_m.write(word + '\\n')\n",
        "#   out_v.write('\\t'.join([str(x) for x in embeddings]) + '\\n')\n",
        "\n",
        "# out_v.close()\n",
        "# out_m.close()"
      ],
      "execution_count": null,
      "outputs": []
    },
    {
      "cell_type": "code",
      "metadata": {
        "id": "TyTjOVi8cdam"
      },
      "source": [
        "# # Download the files\n",
        "# try:\n",
        "#   from google.colab import files\n",
        "# except ImportError:\n",
        "#   pass\n",
        "# else:\n",
        "#   files.download('vecs.tsv')\n",
        "#   files.download('meta.tsv')"
      ],
      "execution_count": null,
      "outputs": []
    },
    {
      "cell_type": "markdown",
      "metadata": {
        "id": "SAwFpwExl5Eq"
      },
      "source": [
        "# Predicting Sentiments"
      ]
    },
    {
      "cell_type": "code",
      "metadata": {
        "colab": {
          "base_uri": "https://localhost:8080/"
        },
        "id": "A4Si1QezmGap",
        "outputId": "cf8e119f-a03f-49cc-9c17-b502889b09cc"
      },
      "source": [
        "# Use the model to predict a review   \n",
        "fake_reviews = ['I love this phone', 'I hate spaghetti', \n",
        "                'Everything was cold',\n",
        "                'Everything was hot exactly as I wanted', \n",
        "                'Everything was green', \n",
        "                'the host seated us immediately',\n",
        "                'they gave us free chocolate cake', \n",
        "                'not sure about the wilted flowers on the table',\n",
        "                'only works when I stand on tippy toes', \n",
        "                'does not work when I stand on my head']\n",
        "\n",
        "print(fake_reviews) "
      ],
      "execution_count": 25,
      "outputs": [
        {
          "output_type": "stream",
          "name": "stdout",
          "text": [
            "['I love this phone', 'I hate spaghetti', 'Everything was cold', 'Everything was hot exactly as I wanted', 'Everything was green', 'the host seated us immediately', 'they gave us free chocolate cake', 'not sure about the wilted flowers on the table', 'only works when I stand on tippy toes', 'does not work when I stand on my head']\n"
          ]
        }
      ]
    },
    {
      "cell_type": "code",
      "metadata": {
        "id": "vOGh3HAsmGdo"
      },
      "source": [
        "sample_sequence = tokenizer.texts_to_sequences(fake_reviews)\n",
        "padded_sample_seq = pad_sequences(sample_sequence,\n",
        "                                  maxlen=MAX_LENGTH,\n",
        "                                  padding=PADDING_TYPE)"
      ],
      "execution_count": 26,
      "outputs": []
    },
    {
      "cell_type": "code",
      "metadata": {
        "id": "RXXvJvKlmGgc"
      },
      "source": [
        "classes = model.predict(padded_sample_seq)"
      ],
      "execution_count": 27,
      "outputs": []
    },
    {
      "cell_type": "code",
      "metadata": {
        "colab": {
          "base_uri": "https://localhost:8080/"
        },
        "id": "6EGBMyRX9lZ1",
        "outputId": "3f1414b7-3352-4603-ff1a-488a62eadda0"
      },
      "source": [
        "classes"
      ],
      "execution_count": null,
      "outputs": [
        {
          "output_type": "execute_result",
          "data": {
            "text/plain": [
              "array([[0.9788522 ],\n",
              "       [0.13638458],\n",
              "       [0.39270744],\n",
              "       [0.6600948 ],\n",
              "       [0.4937821 ],\n",
              "       [0.7333549 ],\n",
              "       [0.8875664 ],\n",
              "       [0.04393747],\n",
              "       [0.90141535],\n",
              "       [0.02341381]], dtype=float32)"
            ]
          },
          "metadata": {},
          "execution_count": 32
        }
      ]
    },
    {
      "cell_type": "code",
      "metadata": {
        "id": "FRMizNaUBBaA",
        "colab": {
          "base_uri": "https://localhost:8080/"
        },
        "outputId": "eb24dfbf-d140-4f23-de87-d1df07e16d8a"
      },
      "source": [
        "for x in range(len(fake_reviews)):\n",
        "  print(fake_reviews[x], classes[x])"
      ],
      "execution_count": 28,
      "outputs": [
        {
          "output_type": "stream",
          "name": "stdout",
          "text": [
            "I love this phone [0.60840565]\n",
            "I hate spaghetti [0.4855811]\n",
            "Everything was cold [0.5555109]\n",
            "Everything was hot exactly as I wanted [0.49785867]\n",
            "Everything was green [0.5555109]\n",
            "the host seated us immediately [0.51912814]\n",
            "they gave us free chocolate cake [0.55957866]\n",
            "not sure about the wilted flowers on the table [0.4278189]\n",
            "only works when I stand on tippy toes [0.52073574]\n",
            "does not work when I stand on my head [0.33701643]\n"
          ]
        }
      ]
    }
  ]
}